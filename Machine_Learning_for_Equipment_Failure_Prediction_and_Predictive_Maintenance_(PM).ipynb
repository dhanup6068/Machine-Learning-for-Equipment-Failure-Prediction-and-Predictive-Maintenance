{
  "nbformat": 4,
  "nbformat_minor": 0,
  "metadata": {
    "colab": {
      "provenance": []
    },
    "kernelspec": {
      "name": "python3",
      "display_name": "Python 3"
    },
    "language_info": {
      "name": "python"
    }
  },
  "cells": [
    {
      "cell_type": "markdown",
      "source": [
        "\n",
        "Import Python libraries\n",
        "---\n",
        "\n",
        "\n"
      ],
      "metadata": {
        "id": "mHX9dGZRSmwz"
      }
    },
    {
      "cell_type": "code",
      "execution_count": null,
      "metadata": {
        "colab": {
          "base_uri": "https://localhost:8080/"
        },
        "id": "A6BI7W_rN5kt",
        "outputId": "143efdd8-525d-47ae-8c4e-90d01f1c06a9"
      },
      "outputs": [
        {
          "output_type": "stream",
          "name": "stdout",
          "text": [
            "Collecting imblearn\n",
            "  Downloading imblearn-0.0-py2.py3-none-any.whl (1.9 kB)\n",
            "Requirement already satisfied: imbalanced-learn in /usr/local/lib/python3.10/dist-packages (from imblearn) (0.10.1)\n",
            "Requirement already satisfied: numpy>=1.17.3 in /usr/local/lib/python3.10/dist-packages (from imbalanced-learn->imblearn) (1.22.4)\n",
            "Requirement already satisfied: scipy>=1.3.2 in /usr/local/lib/python3.10/dist-packages (from imbalanced-learn->imblearn) (1.10.1)\n",
            "Requirement already satisfied: scikit-learn>=1.0.2 in /usr/local/lib/python3.10/dist-packages (from imbalanced-learn->imblearn) (1.2.2)\n",
            "Requirement already satisfied: joblib>=1.1.1 in /usr/local/lib/python3.10/dist-packages (from imbalanced-learn->imblearn) (1.3.1)\n",
            "Requirement already satisfied: threadpoolctl>=2.0.0 in /usr/local/lib/python3.10/dist-packages (from imbalanced-learn->imblearn) (3.1.0)\n",
            "Installing collected packages: imblearn\n",
            "Successfully installed imblearn-0.0\n",
            "Requirement already satisfied: plotly in /usr/local/lib/python3.10/dist-packages (5.13.1)\n",
            "Collecting plotly\n",
            "  Downloading plotly-5.15.0-py2.py3-none-any.whl (15.5 MB)\n",
            "\u001b[2K     \u001b[90m━━━━━━━━━━━━━━━━━━━━━━━━━━━━━━━━━━━━━━━━\u001b[0m \u001b[32m15.5/15.5 MB\u001b[0m \u001b[31m74.5 MB/s\u001b[0m eta \u001b[36m0:00:00\u001b[0m\n",
            "\u001b[?25hRequirement already satisfied: tenacity>=6.2.0 in /usr/local/lib/python3.10/dist-packages (from plotly) (8.2.2)\n",
            "Requirement already satisfied: packaging in /usr/local/lib/python3.10/dist-packages (from plotly) (23.1)\n",
            "Installing collected packages: plotly\n",
            "  Attempting uninstall: plotly\n",
            "    Found existing installation: plotly 5.13.1\n",
            "    Uninstalling plotly-5.13.1:\n",
            "      Successfully uninstalled plotly-5.13.1\n",
            "Successfully installed plotly-5.15.0\n",
            "Collecting chart-studio\n",
            "  Downloading chart_studio-1.1.0-py3-none-any.whl (64 kB)\n",
            "\u001b[2K     \u001b[90m━━━━━━━━━━━━━━━━━━━━━━━━━━━━━━━━━━━━━━━━\u001b[0m \u001b[32m64.4/64.4 kB\u001b[0m \u001b[31m1.4 MB/s\u001b[0m eta \u001b[36m0:00:00\u001b[0m\n",
            "\u001b[?25hRequirement already satisfied: plotly in /usr/local/lib/python3.10/dist-packages (from chart-studio) (5.15.0)\n",
            "Requirement already satisfied: requests in /usr/local/lib/python3.10/dist-packages (from chart-studio) (2.27.1)\n",
            "Collecting retrying>=1.3.3 (from chart-studio)\n",
            "  Downloading retrying-1.3.4-py3-none-any.whl (11 kB)\n",
            "Requirement already satisfied: six in /usr/local/lib/python3.10/dist-packages (from chart-studio) (1.16.0)\n",
            "Requirement already satisfied: tenacity>=6.2.0 in /usr/local/lib/python3.10/dist-packages (from plotly->chart-studio) (8.2.2)\n",
            "Requirement already satisfied: packaging in /usr/local/lib/python3.10/dist-packages (from plotly->chart-studio) (23.1)\n",
            "Requirement already satisfied: urllib3<1.27,>=1.21.1 in /usr/local/lib/python3.10/dist-packages (from requests->chart-studio) (1.26.16)\n",
            "Requirement already satisfied: certifi>=2017.4.17 in /usr/local/lib/python3.10/dist-packages (from requests->chart-studio) (2023.5.7)\n",
            "Requirement already satisfied: charset-normalizer~=2.0.0 in /usr/local/lib/python3.10/dist-packages (from requests->chart-studio) (2.0.12)\n",
            "Requirement already satisfied: idna<4,>=2.5 in /usr/local/lib/python3.10/dist-packages (from requests->chart-studio) (3.4)\n",
            "Installing collected packages: retrying, chart-studio\n",
            "Successfully installed chart-studio-1.1.0 retrying-1.3.4\n"
          ]
        }
      ],
      "source": [
        "!pip install imblearn --upgrade\n",
        "!pip install plotly --upgrade\n",
        "!pip install chart-studio --upgrade"
      ]
    },
    {
      "cell_type": "markdown",
      "source": [
        "Import other required libraries"
      ],
      "metadata": {
        "id": "QcygpSmrStj_"
      }
    },
    {
      "cell_type": "code",
      "source": [
        "import chart_studio.plotly as py\n",
        "import plotly.graph_objs as go\n",
        "import plotly as plotly\n",
        "import pandas as pd\n",
        "import numpy as np\n",
        "from imblearn.over_sampling import SMOTE\n",
        "from imblearn.over_sampling import SMOTENC\n",
        "from sklearn import metrics\n",
        "from sklearn.preprocessing import LabelEncoder\n",
        "import xgboost as xgb\n",
        "from xgboost.sklearn import XGBClassifier\n",
        "import types\n",
        "import pandas as pd\n",
        "def __iter__(self): return 0"
      ],
      "metadata": {
        "id": "0Hamtjh1R48q"
      },
      "execution_count": null,
      "outputs": []
    },
    {
      "cell_type": "markdown",
      "source": [
        "Import data from github"
      ],
      "metadata": {
        "id": "jB_kf1zsS0P6"
      }
    },
    {
      "cell_type": "code",
      "source": [
        "#Remove the data if you run this notebook more than once\n",
        "!rm equipment_failure_data_1.csv\n",
        "#import first half from github\n",
        "!wget https://raw.githubusercontent.com/shadgriffin/machine_failure/master/equipment_failure_data_1.csv\n",
        "# Convert csv to pandas dataframe\n",
        "pd_data_1 = pd.read_csv(\"equipment_failure_data_1.csv\", sep=\",\", header=0)\n",
        "#Remove the data if you run this notebook more than once\n",
        "!rm equipment_failure_data_2.csv\n",
        "#Import the second half from github\n",
        "!wget https://raw.githubusercontent.com/shadgriffin/machine_failure/master/equipment_failure_data_2.csv\n",
        "# convert to pandas dataframe\n",
        "pd_data_2 = pd.read_csv(\"equipment_failure_data_2.csv\", sep=\",\", header=0)\n",
        "#concatenate the two data files into one dataframe\n",
        "pd_data=pd.concat([pd_data_1, pd_data_2])"
      ],
      "metadata": {
        "colab": {
          "base_uri": "https://localhost:8080/"
        },
        "id": "KnjORufeSRbc",
        "outputId": "62e74a3a-9d71-4b3f-e4dd-f1201b0cef4f"
      },
      "execution_count": null,
      "outputs": [
        {
          "output_type": "stream",
          "name": "stdout",
          "text": [
            "rm: cannot remove 'equipment_failure_data_1.csv': No such file or directory\n",
            "--2023-07-19 22:27:27--  https://raw.githubusercontent.com/shadgriffin/machine_failure/master/equipment_failure_data_1.csv\n",
            "Resolving raw.githubusercontent.com (raw.githubusercontent.com)... 185.199.108.133, 185.199.109.133, 185.199.110.133, ...\n",
            "Connecting to raw.githubusercontent.com (raw.githubusercontent.com)|185.199.108.133|:443... connected.\n",
            "HTTP request sent, awaiting response... 200 OK\n",
            "Length: 11219474 (11M) [text/plain]\n",
            "Saving to: ‘equipment_failure_data_1.csv’\n",
            "\n",
            "equipment_failure_d 100%[===================>]  10.70M  --.-KB/s    in 0.06s   \n",
            "\n",
            "2023-07-19 22:27:27 (182 MB/s) - ‘equipment_failure_data_1.csv’ saved [11219474/11219474]\n",
            "\n",
            "rm: cannot remove 'equipment_failure_data_2.csv': No such file or directory\n",
            "--2023-07-19 22:27:27--  https://raw.githubusercontent.com/shadgriffin/machine_failure/master/equipment_failure_data_2.csv\n",
            "Resolving raw.githubusercontent.com (raw.githubusercontent.com)... 185.199.109.133, 185.199.110.133, 185.199.108.133, ...\n",
            "Connecting to raw.githubusercontent.com (raw.githubusercontent.com)|185.199.109.133|:443... connected.\n",
            "HTTP request sent, awaiting response... 200 OK\n",
            "Length: 11762512 (11M) [text/plain]\n",
            "Saving to: ‘equipment_failure_data_2.csv’\n",
            "\n",
            "equipment_failure_d 100%[===================>]  11.22M  --.-KB/s    in 0.05s   \n",
            "\n",
            "2023-07-19 22:27:28 (221 MB/s) - ‘equipment_failure_data_2.csv’ saved [11762512/11762512]\n",
            "\n"
          ]
        }
      ]
    },
    {
      "cell_type": "code",
      "source": [
        "pd_data.to_csv('output.csv', index=False)"
      ],
      "metadata": {
        "id": "OXbBe4MVFnMP"
      },
      "execution_count": null,
      "outputs": []
    },
    {
      "cell_type": "code",
      "source": [
        "\n",
        "pd_data.head()\n"
      ],
      "metadata": {
        "colab": {
          "base_uri": "https://localhost:8080/",
          "height": 270
        },
        "id": "alOHQHFISces",
        "outputId": "98f4b213-30aa-4792-a2e4-b4ca52cdeec2"
      },
      "execution_count": null,
      "outputs": [
        {
          "output_type": "execute_result",
          "data": {
            "text/plain": [
              "       ID     DATE REGION_CLUSTER MAINTENANCE_VENDOR MANUFACTURER  WELL_GROUP  \\\n",
              "0  100001  12/2/14              G                  O            Y           1   \n",
              "1  100001  12/3/14              G                  O            Y           1   \n",
              "2  100001  12/4/14              G                  O            Y           1   \n",
              "3  100001  12/5/14              G                  O            Y           1   \n",
              "4  100001  12/6/14              G                  O            Y           1   \n",
              "\n",
              "         S15         S17    S13      S5       S16  S19        S18  \\\n",
              "0  11.088000  145.223448  39.34  3501.0  8.426869  1.9  24.610345   \n",
              "1   8.877943  187.573214  39.20  3489.0  6.483714  1.9  24.671429   \n",
              "2   8.676444  148.363704  38.87  3459.0  6.159659  2.0  24.733333   \n",
              "3   9.988338  133.660000  39.47  3513.0  9.320308  2.0  24.773077   \n",
              "4   8.475264  197.181600  40.33  3589.0  8.022960  1.5  24.808000   \n",
              "\n",
              "   EQUIPMENT_FAILURE   S8  AGE_OF_EQUIPMENT  \n",
              "0                  0  0.0               880  \n",
              "1                  0  0.0               881  \n",
              "2                  0  0.0               882  \n",
              "3                  0  0.0               883  \n",
              "4                  0  0.0               884  "
            ],
            "text/html": [
              "\n",
              "\n",
              "  <div id=\"df-ca0ee4d0-593b-4112-9481-9f719009c02c\">\n",
              "    <div class=\"colab-df-container\">\n",
              "      <div>\n",
              "<style scoped>\n",
              "    .dataframe tbody tr th:only-of-type {\n",
              "        vertical-align: middle;\n",
              "    }\n",
              "\n",
              "    .dataframe tbody tr th {\n",
              "        vertical-align: top;\n",
              "    }\n",
              "\n",
              "    .dataframe thead th {\n",
              "        text-align: right;\n",
              "    }\n",
              "</style>\n",
              "<table border=\"1\" class=\"dataframe\">\n",
              "  <thead>\n",
              "    <tr style=\"text-align: right;\">\n",
              "      <th></th>\n",
              "      <th>ID</th>\n",
              "      <th>DATE</th>\n",
              "      <th>REGION_CLUSTER</th>\n",
              "      <th>MAINTENANCE_VENDOR</th>\n",
              "      <th>MANUFACTURER</th>\n",
              "      <th>WELL_GROUP</th>\n",
              "      <th>S15</th>\n",
              "      <th>S17</th>\n",
              "      <th>S13</th>\n",
              "      <th>S5</th>\n",
              "      <th>S16</th>\n",
              "      <th>S19</th>\n",
              "      <th>S18</th>\n",
              "      <th>EQUIPMENT_FAILURE</th>\n",
              "      <th>S8</th>\n",
              "      <th>AGE_OF_EQUIPMENT</th>\n",
              "    </tr>\n",
              "  </thead>\n",
              "  <tbody>\n",
              "    <tr>\n",
              "      <th>0</th>\n",
              "      <td>100001</td>\n",
              "      <td>12/2/14</td>\n",
              "      <td>G</td>\n",
              "      <td>O</td>\n",
              "      <td>Y</td>\n",
              "      <td>1</td>\n",
              "      <td>11.088000</td>\n",
              "      <td>145.223448</td>\n",
              "      <td>39.34</td>\n",
              "      <td>3501.0</td>\n",
              "      <td>8.426869</td>\n",
              "      <td>1.9</td>\n",
              "      <td>24.610345</td>\n",
              "      <td>0</td>\n",
              "      <td>0.0</td>\n",
              "      <td>880</td>\n",
              "    </tr>\n",
              "    <tr>\n",
              "      <th>1</th>\n",
              "      <td>100001</td>\n",
              "      <td>12/3/14</td>\n",
              "      <td>G</td>\n",
              "      <td>O</td>\n",
              "      <td>Y</td>\n",
              "      <td>1</td>\n",
              "      <td>8.877943</td>\n",
              "      <td>187.573214</td>\n",
              "      <td>39.20</td>\n",
              "      <td>3489.0</td>\n",
              "      <td>6.483714</td>\n",
              "      <td>1.9</td>\n",
              "      <td>24.671429</td>\n",
              "      <td>0</td>\n",
              "      <td>0.0</td>\n",
              "      <td>881</td>\n",
              "    </tr>\n",
              "    <tr>\n",
              "      <th>2</th>\n",
              "      <td>100001</td>\n",
              "      <td>12/4/14</td>\n",
              "      <td>G</td>\n",
              "      <td>O</td>\n",
              "      <td>Y</td>\n",
              "      <td>1</td>\n",
              "      <td>8.676444</td>\n",
              "      <td>148.363704</td>\n",
              "      <td>38.87</td>\n",
              "      <td>3459.0</td>\n",
              "      <td>6.159659</td>\n",
              "      <td>2.0</td>\n",
              "      <td>24.733333</td>\n",
              "      <td>0</td>\n",
              "      <td>0.0</td>\n",
              "      <td>882</td>\n",
              "    </tr>\n",
              "    <tr>\n",
              "      <th>3</th>\n",
              "      <td>100001</td>\n",
              "      <td>12/5/14</td>\n",
              "      <td>G</td>\n",
              "      <td>O</td>\n",
              "      <td>Y</td>\n",
              "      <td>1</td>\n",
              "      <td>9.988338</td>\n",
              "      <td>133.660000</td>\n",
              "      <td>39.47</td>\n",
              "      <td>3513.0</td>\n",
              "      <td>9.320308</td>\n",
              "      <td>2.0</td>\n",
              "      <td>24.773077</td>\n",
              "      <td>0</td>\n",
              "      <td>0.0</td>\n",
              "      <td>883</td>\n",
              "    </tr>\n",
              "    <tr>\n",
              "      <th>4</th>\n",
              "      <td>100001</td>\n",
              "      <td>12/6/14</td>\n",
              "      <td>G</td>\n",
              "      <td>O</td>\n",
              "      <td>Y</td>\n",
              "      <td>1</td>\n",
              "      <td>8.475264</td>\n",
              "      <td>197.181600</td>\n",
              "      <td>40.33</td>\n",
              "      <td>3589.0</td>\n",
              "      <td>8.022960</td>\n",
              "      <td>1.5</td>\n",
              "      <td>24.808000</td>\n",
              "      <td>0</td>\n",
              "      <td>0.0</td>\n",
              "      <td>884</td>\n",
              "    </tr>\n",
              "  </tbody>\n",
              "</table>\n",
              "</div>\n",
              "      <button class=\"colab-df-convert\" onclick=\"convertToInteractive('df-ca0ee4d0-593b-4112-9481-9f719009c02c')\"\n",
              "              title=\"Convert this dataframe to an interactive table.\"\n",
              "              style=\"display:none;\">\n",
              "\n",
              "  <svg xmlns=\"http://www.w3.org/2000/svg\" height=\"24px\"viewBox=\"0 0 24 24\"\n",
              "       width=\"24px\">\n",
              "    <path d=\"M0 0h24v24H0V0z\" fill=\"none\"/>\n",
              "    <path d=\"M18.56 5.44l.94 2.06.94-2.06 2.06-.94-2.06-.94-.94-2.06-.94 2.06-2.06.94zm-11 1L8.5 8.5l.94-2.06 2.06-.94-2.06-.94L8.5 2.5l-.94 2.06-2.06.94zm10 10l.94 2.06.94-2.06 2.06-.94-2.06-.94-.94-2.06-.94 2.06-2.06.94z\"/><path d=\"M17.41 7.96l-1.37-1.37c-.4-.4-.92-.59-1.43-.59-.52 0-1.04.2-1.43.59L10.3 9.45l-7.72 7.72c-.78.78-.78 2.05 0 2.83L4 21.41c.39.39.9.59 1.41.59.51 0 1.02-.2 1.41-.59l7.78-7.78 2.81-2.81c.8-.78.8-2.07 0-2.86zM5.41 20L4 18.59l7.72-7.72 1.47 1.35L5.41 20z\"/>\n",
              "  </svg>\n",
              "      </button>\n",
              "\n",
              "\n",
              "\n",
              "    <div id=\"df-16e3deb6-4e0e-4b5b-814b-71bfea93f750\">\n",
              "      <button class=\"colab-df-quickchart\" onclick=\"quickchart('df-16e3deb6-4e0e-4b5b-814b-71bfea93f750')\"\n",
              "              title=\"Suggest charts.\"\n",
              "              style=\"display:none;\">\n",
              "\n",
              "<svg xmlns=\"http://www.w3.org/2000/svg\" height=\"24px\"viewBox=\"0 0 24 24\"\n",
              "     width=\"24px\">\n",
              "    <g>\n",
              "        <path d=\"M19 3H5c-1.1 0-2 .9-2 2v14c0 1.1.9 2 2 2h14c1.1 0 2-.9 2-2V5c0-1.1-.9-2-2-2zM9 17H7v-7h2v7zm4 0h-2V7h2v10zm4 0h-2v-4h2v4z\"/>\n",
              "    </g>\n",
              "</svg>\n",
              "      </button>\n",
              "    </div>\n",
              "\n",
              "<style>\n",
              "  .colab-df-quickchart {\n",
              "    background-color: #E8F0FE;\n",
              "    border: none;\n",
              "    border-radius: 50%;\n",
              "    cursor: pointer;\n",
              "    display: none;\n",
              "    fill: #1967D2;\n",
              "    height: 32px;\n",
              "    padding: 0 0 0 0;\n",
              "    width: 32px;\n",
              "  }\n",
              "\n",
              "  .colab-df-quickchart:hover {\n",
              "    background-color: #E2EBFA;\n",
              "    box-shadow: 0px 1px 2px rgba(60, 64, 67, 0.3), 0px 1px 3px 1px rgba(60, 64, 67, 0.15);\n",
              "    fill: #174EA6;\n",
              "  }\n",
              "\n",
              "  [theme=dark] .colab-df-quickchart {\n",
              "    background-color: #3B4455;\n",
              "    fill: #D2E3FC;\n",
              "  }\n",
              "\n",
              "  [theme=dark] .colab-df-quickchart:hover {\n",
              "    background-color: #434B5C;\n",
              "    box-shadow: 0px 1px 3px 1px rgba(0, 0, 0, 0.15);\n",
              "    filter: drop-shadow(0px 1px 2px rgba(0, 0, 0, 0.3));\n",
              "    fill: #FFFFFF;\n",
              "  }\n",
              "</style>\n",
              "\n",
              "    <script>\n",
              "      async function quickchart(key) {\n",
              "        const containerElement = document.querySelector('#' + key);\n",
              "        const charts = await google.colab.kernel.invokeFunction(\n",
              "            'suggestCharts', [key], {});\n",
              "      }\n",
              "    </script>\n",
              "\n",
              "      <script>\n",
              "\n",
              "function displayQuickchartButton(domScope) {\n",
              "  let quickchartButtonEl =\n",
              "    domScope.querySelector('#df-16e3deb6-4e0e-4b5b-814b-71bfea93f750 button.colab-df-quickchart');\n",
              "  quickchartButtonEl.style.display =\n",
              "    google.colab.kernel.accessAllowed ? 'block' : 'none';\n",
              "}\n",
              "\n",
              "        displayQuickchartButton(document);\n",
              "      </script>\n",
              "      <style>\n",
              "    .colab-df-container {\n",
              "      display:flex;\n",
              "      flex-wrap:wrap;\n",
              "      gap: 12px;\n",
              "    }\n",
              "\n",
              "    .colab-df-convert {\n",
              "      background-color: #E8F0FE;\n",
              "      border: none;\n",
              "      border-radius: 50%;\n",
              "      cursor: pointer;\n",
              "      display: none;\n",
              "      fill: #1967D2;\n",
              "      height: 32px;\n",
              "      padding: 0 0 0 0;\n",
              "      width: 32px;\n",
              "    }\n",
              "\n",
              "    .colab-df-convert:hover {\n",
              "      background-color: #E2EBFA;\n",
              "      box-shadow: 0px 1px 2px rgba(60, 64, 67, 0.3), 0px 1px 3px 1px rgba(60, 64, 67, 0.15);\n",
              "      fill: #174EA6;\n",
              "    }\n",
              "\n",
              "    [theme=dark] .colab-df-convert {\n",
              "      background-color: #3B4455;\n",
              "      fill: #D2E3FC;\n",
              "    }\n",
              "\n",
              "    [theme=dark] .colab-df-convert:hover {\n",
              "      background-color: #434B5C;\n",
              "      box-shadow: 0px 1px 3px 1px rgba(0, 0, 0, 0.15);\n",
              "      filter: drop-shadow(0px 1px 2px rgba(0, 0, 0, 0.3));\n",
              "      fill: #FFFFFF;\n",
              "    }\n",
              "  </style>\n",
              "\n",
              "      <script>\n",
              "        const buttonEl =\n",
              "          document.querySelector('#df-ca0ee4d0-593b-4112-9481-9f719009c02c button.colab-df-convert');\n",
              "        buttonEl.style.display =\n",
              "          google.colab.kernel.accessAllowed ? 'block' : 'none';\n",
              "\n",
              "        async function convertToInteractive(key) {\n",
              "          const element = document.querySelector('#df-ca0ee4d0-593b-4112-9481-9f719009c02c');\n",
              "          const dataTable =\n",
              "            await google.colab.kernel.invokeFunction('convertToInteractive',\n",
              "                                                     [key], {});\n",
              "          if (!dataTable) return;\n",
              "\n",
              "          const docLinkHtml = 'Like what you see? Visit the ' +\n",
              "            '<a target=\"_blank\" href=https://colab.research.google.com/notebooks/data_table.ipynb>data table notebook</a>'\n",
              "            + ' to learn more about interactive tables.';\n",
              "          element.innerHTML = '';\n",
              "          dataTable['output_type'] = 'display_data';\n",
              "          await google.colab.output.renderOutput(dataTable, element);\n",
              "          const docLink = document.createElement('div');\n",
              "          docLink.innerHTML = docLinkHtml;\n",
              "          element.appendChild(docLink);\n",
              "        }\n",
              "      </script>\n",
              "    </div>\n",
              "  </div>\n"
            ]
          },
          "metadata": {},
          "execution_count": 8
        }
      ]
    },
    {
      "cell_type": "code",
      "source": [
        "pd_data.shape"
      ],
      "metadata": {
        "colab": {
          "base_uri": "https://localhost:8080/"
        },
        "id": "fnYw6EBBTJJb",
        "outputId": "59309bd0-e132-473e-df36-e3d56110f4ee"
      },
      "execution_count": null,
      "outputs": [
        {
          "output_type": "execute_result",
          "data": {
            "text/plain": [
              "(307751, 16)"
            ]
          },
          "metadata": {},
          "execution_count": 9
        }
      ]
    },
    {
      "cell_type": "code",
      "source": [
        "xxxx = pd.DataFrame(pd_data.groupby(['ID']).agg(['count']))\n",
        "xxxx.shape"
      ],
      "metadata": {
        "colab": {
          "base_uri": "https://localhost:8080/"
        },
        "id": "RCM_siA0UH3C",
        "outputId": "f8771445-1c7c-4718-dd57-c4d8e2caf324"
      },
      "execution_count": null,
      "outputs": [
        {
          "output_type": "execute_result",
          "data": {
            "text/plain": [
              "(421, 15)"
            ]
          },
          "metadata": {},
          "execution_count": 10
        }
      ]
    },
    {
      "cell_type": "markdown",
      "source": [
        "We have 731 unique dates. So if we have 421 machines and 731 unique dates, we should have 307,751 total records. Based on the .shape command, we have one record per machine per date value. There are no duplicates in the data frame."
      ],
      "metadata": {
        "id": "qQu35q06UqQS"
      }
    },
    {
      "cell_type": "code",
      "source": [
        "xxxx = pd.DataFrame(pd_data.groupby(['DATE']).agg(['count']))\n",
        "xxxx.shape"
      ],
      "metadata": {
        "colab": {
          "base_uri": "https://localhost:8080/"
        },
        "id": "5TkZ6l6OUKOJ",
        "outputId": "fe384682-f1da-4775-974a-fb44763995bb"
      },
      "execution_count": null,
      "outputs": [
        {
          "output_type": "execute_result",
          "data": {
            "text/plain": [
              "(731, 15)"
            ]
          },
          "metadata": {},
          "execution_count": 11
        }
      ]
    },
    {
      "cell_type": "markdown",
      "source": [
        "To cross check we again check if there are any duplicates in the dataset"
      ],
      "metadata": {
        "id": "QRae6dgxU3_j"
      }
    },
    {
      "cell_type": "code",
      "source": [
        "df_failure_thingy=pd_data\n",
        "df_failure_thingy=df_failure_thingy.drop_duplicates(subset=['ID','DATE'])\n",
        "df_failure_thingy.shape"
      ],
      "metadata": {
        "colab": {
          "base_uri": "https://localhost:8080/"
        },
        "id": "ZbgozMWKUvjn",
        "outputId": "19f6fb8a-4b04-4d6b-d3e8-90adb3f6f1e5"
      },
      "execution_count": null,
      "outputs": [
        {
          "output_type": "execute_result",
          "data": {
            "text/plain": [
              "(307751, 16)"
            ]
          },
          "metadata": {},
          "execution_count": 12
        }
      ]
    },
    {
      "cell_type": "markdown",
      "source": [
        "Look for null values in the fields — There are none.\n",
        "\n"
      ],
      "metadata": {
        "id": "W4HlpFYdVIEb"
      }
    },
    {
      "cell_type": "code",
      "source": [
        "pd_data.isnull().sum(axis = 0)\n"
      ],
      "metadata": {
        "colab": {
          "base_uri": "https://localhost:8080/"
        },
        "id": "Reh-t8lWVIsF",
        "outputId": "b025b0aa-e240-4aaf-84c4-d72aa99835c1"
      },
      "execution_count": null,
      "outputs": [
        {
          "output_type": "execute_result",
          "data": {
            "text/plain": [
              "ID                    0\n",
              "DATE                  0\n",
              "REGION_CLUSTER        0\n",
              "MAINTENANCE_VENDOR    0\n",
              "MANUFACTURER          0\n",
              "WELL_GROUP            0\n",
              "S15                   0\n",
              "S17                   0\n",
              "S13                   0\n",
              "S5                    0\n",
              "S16                   0\n",
              "S19                   0\n",
              "S18                   0\n",
              "EQUIPMENT_FAILURE     0\n",
              "S8                    0\n",
              "AGE_OF_EQUIPMENT      0\n",
              "dtype: int64"
            ]
          },
          "metadata": {},
          "execution_count": 13
        }
      ]
    },
    {
      "cell_type": "markdown",
      "source": [
        "Count of the failure cases in the dataset"
      ],
      "metadata": {
        "id": "GmXgAx2JWZkP"
      }
    },
    {
      "cell_type": "code",
      "source": [
        "counts = pd_data['EQUIPMENT_FAILURE'].value_counts()\n",
        "counts"
      ],
      "metadata": {
        "colab": {
          "base_uri": "https://localhost:8080/"
        },
        "id": "MqaVowUxVYuv",
        "outputId": "bfcbf01a-8f64-4784-e31f-7994947a06d6"
      },
      "execution_count": null,
      "outputs": [
        {
          "output_type": "execute_result",
          "data": {
            "text/plain": [
              "0    307330\n",
              "1       421\n",
              "Name: EQUIPMENT_FAILURE, dtype: int64"
            ]
          },
          "metadata": {},
          "execution_count": 14
        }
      ]
    },
    {
      "cell_type": "markdown",
      "source": [
        "It appears that out of 307,751 records, we only have 421 failures. This corresponds to a failure rate of about .14%. In other words, for every failure, you have over 700 non-failures. This data set is very unbalanced.\n",
        "\n",
        "To calculate the failure rate, you can use the following formula:\n",
        "\n",
        "Failure Rate = (Number of Failures / Total Number of Records) * 100\n",
        "\n",
        "In this case:\n",
        "\n",
        "Number of Failures = 421\n",
        "Total Number of Records = 307,751\n",
        "\n",
        "Let's plug these values into the formula:\n",
        "\n",
        "Failure Rate = (421 / 307,751) * 100\n",
        "Failure Rate ≈ 0.1367%\n",
        "\n",
        "So, the failure rate in this scenario is approximately 0.1367%."
      ],
      "metadata": {
        "id": "hbFPjkKPWorr"
      }
    },
    {
      "cell_type": "code",
      "source": [
        "pd_data.describe()\n"
      ],
      "metadata": {
        "colab": {
          "base_uri": "https://localhost:8080/",
          "height": 364
        },
        "id": "DzVksLcdWqM_",
        "outputId": "3fdaa109-87c2-410a-84b4-32100ef4ccf5"
      },
      "execution_count": null,
      "outputs": [
        {
          "output_type": "execute_result",
          "data": {
            "text/plain": [
              "                  ID     WELL_GROUP            S15            S17  \\\n",
              "count  307751.000000  307751.000000  307751.000000  307751.000000   \n",
              "mean   100310.826603       4.543943      14.585192      80.265541   \n",
              "std       177.574390       2.284121       8.817056      85.804273   \n",
              "min    100001.000000       1.000000       0.000000       0.000000   \n",
              "25%    100161.000000       3.000000       7.694100       0.000000   \n",
              "50%    100311.000000       5.000000      11.661600      31.680000   \n",
              "75%    100467.000000       6.000000      22.560000     160.080000   \n",
              "max    100617.000000       8.000000      59.040000    2555.520000   \n",
              "\n",
              "                 S13             S5            S16            S19  \\\n",
              "count  307751.000000  307751.000000  307751.000000  307751.000000   \n",
              "mean       35.018249    4675.848252       7.972097       9.069123   \n",
              "std        14.446585    2521.074632       2.321949      16.898887   \n",
              "min         0.000000       0.000000       0.000000       0.000000   \n",
              "25%        28.200000    3209.000000       6.621500       0.900000   \n",
              "50%        34.940000    4237.047619       8.004000       4.200000   \n",
              "75%        41.610000    5743.000000       9.460000      10.600000   \n",
              "max       592.890000   52767.000000      24.600000     511.000000   \n",
              "\n",
              "                 S18  EQUIPMENT_FAILURE             S8  AGE_OF_EQUIPMENT  \n",
              "count  307751.000000      307751.000000  307751.000000     307751.000000  \n",
              "mean      137.963064           0.001368     144.665715       2524.192399  \n",
              "std       238.890128           0.036961     240.773926       3158.930976  \n",
              "min         0.000000           0.000000     -16.490000          0.000000  \n",
              "25%        11.798276           0.000000       9.250000        721.000000  \n",
              "50%        38.200000           0.000000      53.080000       1113.000000  \n",
              "75%       150.900000           0.000000     165.092608       2784.000000  \n",
              "max      4151.700000           1.000000    2068.110000      15170.000000  "
            ],
            "text/html": [
              "\n",
              "\n",
              "  <div id=\"df-30c3f8af-1b6b-447e-b6df-bd2f31b7c492\">\n",
              "    <div class=\"colab-df-container\">\n",
              "      <div>\n",
              "<style scoped>\n",
              "    .dataframe tbody tr th:only-of-type {\n",
              "        vertical-align: middle;\n",
              "    }\n",
              "\n",
              "    .dataframe tbody tr th {\n",
              "        vertical-align: top;\n",
              "    }\n",
              "\n",
              "    .dataframe thead th {\n",
              "        text-align: right;\n",
              "    }\n",
              "</style>\n",
              "<table border=\"1\" class=\"dataframe\">\n",
              "  <thead>\n",
              "    <tr style=\"text-align: right;\">\n",
              "      <th></th>\n",
              "      <th>ID</th>\n",
              "      <th>WELL_GROUP</th>\n",
              "      <th>S15</th>\n",
              "      <th>S17</th>\n",
              "      <th>S13</th>\n",
              "      <th>S5</th>\n",
              "      <th>S16</th>\n",
              "      <th>S19</th>\n",
              "      <th>S18</th>\n",
              "      <th>EQUIPMENT_FAILURE</th>\n",
              "      <th>S8</th>\n",
              "      <th>AGE_OF_EQUIPMENT</th>\n",
              "    </tr>\n",
              "  </thead>\n",
              "  <tbody>\n",
              "    <tr>\n",
              "      <th>count</th>\n",
              "      <td>307751.000000</td>\n",
              "      <td>307751.000000</td>\n",
              "      <td>307751.000000</td>\n",
              "      <td>307751.000000</td>\n",
              "      <td>307751.000000</td>\n",
              "      <td>307751.000000</td>\n",
              "      <td>307751.000000</td>\n",
              "      <td>307751.000000</td>\n",
              "      <td>307751.000000</td>\n",
              "      <td>307751.000000</td>\n",
              "      <td>307751.000000</td>\n",
              "      <td>307751.000000</td>\n",
              "    </tr>\n",
              "    <tr>\n",
              "      <th>mean</th>\n",
              "      <td>100310.826603</td>\n",
              "      <td>4.543943</td>\n",
              "      <td>14.585192</td>\n",
              "      <td>80.265541</td>\n",
              "      <td>35.018249</td>\n",
              "      <td>4675.848252</td>\n",
              "      <td>7.972097</td>\n",
              "      <td>9.069123</td>\n",
              "      <td>137.963064</td>\n",
              "      <td>0.001368</td>\n",
              "      <td>144.665715</td>\n",
              "      <td>2524.192399</td>\n",
              "    </tr>\n",
              "    <tr>\n",
              "      <th>std</th>\n",
              "      <td>177.574390</td>\n",
              "      <td>2.284121</td>\n",
              "      <td>8.817056</td>\n",
              "      <td>85.804273</td>\n",
              "      <td>14.446585</td>\n",
              "      <td>2521.074632</td>\n",
              "      <td>2.321949</td>\n",
              "      <td>16.898887</td>\n",
              "      <td>238.890128</td>\n",
              "      <td>0.036961</td>\n",
              "      <td>240.773926</td>\n",
              "      <td>3158.930976</td>\n",
              "    </tr>\n",
              "    <tr>\n",
              "      <th>min</th>\n",
              "      <td>100001.000000</td>\n",
              "      <td>1.000000</td>\n",
              "      <td>0.000000</td>\n",
              "      <td>0.000000</td>\n",
              "      <td>0.000000</td>\n",
              "      <td>0.000000</td>\n",
              "      <td>0.000000</td>\n",
              "      <td>0.000000</td>\n",
              "      <td>0.000000</td>\n",
              "      <td>0.000000</td>\n",
              "      <td>-16.490000</td>\n",
              "      <td>0.000000</td>\n",
              "    </tr>\n",
              "    <tr>\n",
              "      <th>25%</th>\n",
              "      <td>100161.000000</td>\n",
              "      <td>3.000000</td>\n",
              "      <td>7.694100</td>\n",
              "      <td>0.000000</td>\n",
              "      <td>28.200000</td>\n",
              "      <td>3209.000000</td>\n",
              "      <td>6.621500</td>\n",
              "      <td>0.900000</td>\n",
              "      <td>11.798276</td>\n",
              "      <td>0.000000</td>\n",
              "      <td>9.250000</td>\n",
              "      <td>721.000000</td>\n",
              "    </tr>\n",
              "    <tr>\n",
              "      <th>50%</th>\n",
              "      <td>100311.000000</td>\n",
              "      <td>5.000000</td>\n",
              "      <td>11.661600</td>\n",
              "      <td>31.680000</td>\n",
              "      <td>34.940000</td>\n",
              "      <td>4237.047619</td>\n",
              "      <td>8.004000</td>\n",
              "      <td>4.200000</td>\n",
              "      <td>38.200000</td>\n",
              "      <td>0.000000</td>\n",
              "      <td>53.080000</td>\n",
              "      <td>1113.000000</td>\n",
              "    </tr>\n",
              "    <tr>\n",
              "      <th>75%</th>\n",
              "      <td>100467.000000</td>\n",
              "      <td>6.000000</td>\n",
              "      <td>22.560000</td>\n",
              "      <td>160.080000</td>\n",
              "      <td>41.610000</td>\n",
              "      <td>5743.000000</td>\n",
              "      <td>9.460000</td>\n",
              "      <td>10.600000</td>\n",
              "      <td>150.900000</td>\n",
              "      <td>0.000000</td>\n",
              "      <td>165.092608</td>\n",
              "      <td>2784.000000</td>\n",
              "    </tr>\n",
              "    <tr>\n",
              "      <th>max</th>\n",
              "      <td>100617.000000</td>\n",
              "      <td>8.000000</td>\n",
              "      <td>59.040000</td>\n",
              "      <td>2555.520000</td>\n",
              "      <td>592.890000</td>\n",
              "      <td>52767.000000</td>\n",
              "      <td>24.600000</td>\n",
              "      <td>511.000000</td>\n",
              "      <td>4151.700000</td>\n",
              "      <td>1.000000</td>\n",
              "      <td>2068.110000</td>\n",
              "      <td>15170.000000</td>\n",
              "    </tr>\n",
              "  </tbody>\n",
              "</table>\n",
              "</div>\n",
              "      <button class=\"colab-df-convert\" onclick=\"convertToInteractive('df-30c3f8af-1b6b-447e-b6df-bd2f31b7c492')\"\n",
              "              title=\"Convert this dataframe to an interactive table.\"\n",
              "              style=\"display:none;\">\n",
              "\n",
              "  <svg xmlns=\"http://www.w3.org/2000/svg\" height=\"24px\"viewBox=\"0 0 24 24\"\n",
              "       width=\"24px\">\n",
              "    <path d=\"M0 0h24v24H0V0z\" fill=\"none\"/>\n",
              "    <path d=\"M18.56 5.44l.94 2.06.94-2.06 2.06-.94-2.06-.94-.94-2.06-.94 2.06-2.06.94zm-11 1L8.5 8.5l.94-2.06 2.06-.94-2.06-.94L8.5 2.5l-.94 2.06-2.06.94zm10 10l.94 2.06.94-2.06 2.06-.94-2.06-.94-.94-2.06-.94 2.06-2.06.94z\"/><path d=\"M17.41 7.96l-1.37-1.37c-.4-.4-.92-.59-1.43-.59-.52 0-1.04.2-1.43.59L10.3 9.45l-7.72 7.72c-.78.78-.78 2.05 0 2.83L4 21.41c.39.39.9.59 1.41.59.51 0 1.02-.2 1.41-.59l7.78-7.78 2.81-2.81c.8-.78.8-2.07 0-2.86zM5.41 20L4 18.59l7.72-7.72 1.47 1.35L5.41 20z\"/>\n",
              "  </svg>\n",
              "      </button>\n",
              "\n",
              "\n",
              "\n",
              "    <div id=\"df-cc5aa4b2-8219-43d6-b183-ea873eddae5d\">\n",
              "      <button class=\"colab-df-quickchart\" onclick=\"quickchart('df-cc5aa4b2-8219-43d6-b183-ea873eddae5d')\"\n",
              "              title=\"Suggest charts.\"\n",
              "              style=\"display:none;\">\n",
              "\n",
              "<svg xmlns=\"http://www.w3.org/2000/svg\" height=\"24px\"viewBox=\"0 0 24 24\"\n",
              "     width=\"24px\">\n",
              "    <g>\n",
              "        <path d=\"M19 3H5c-1.1 0-2 .9-2 2v14c0 1.1.9 2 2 2h14c1.1 0 2-.9 2-2V5c0-1.1-.9-2-2-2zM9 17H7v-7h2v7zm4 0h-2V7h2v10zm4 0h-2v-4h2v4z\"/>\n",
              "    </g>\n",
              "</svg>\n",
              "      </button>\n",
              "    </div>\n",
              "\n",
              "<style>\n",
              "  .colab-df-quickchart {\n",
              "    background-color: #E8F0FE;\n",
              "    border: none;\n",
              "    border-radius: 50%;\n",
              "    cursor: pointer;\n",
              "    display: none;\n",
              "    fill: #1967D2;\n",
              "    height: 32px;\n",
              "    padding: 0 0 0 0;\n",
              "    width: 32px;\n",
              "  }\n",
              "\n",
              "  .colab-df-quickchart:hover {\n",
              "    background-color: #E2EBFA;\n",
              "    box-shadow: 0px 1px 2px rgba(60, 64, 67, 0.3), 0px 1px 3px 1px rgba(60, 64, 67, 0.15);\n",
              "    fill: #174EA6;\n",
              "  }\n",
              "\n",
              "  [theme=dark] .colab-df-quickchart {\n",
              "    background-color: #3B4455;\n",
              "    fill: #D2E3FC;\n",
              "  }\n",
              "\n",
              "  [theme=dark] .colab-df-quickchart:hover {\n",
              "    background-color: #434B5C;\n",
              "    box-shadow: 0px 1px 3px 1px rgba(0, 0, 0, 0.15);\n",
              "    filter: drop-shadow(0px 1px 2px rgba(0, 0, 0, 0.3));\n",
              "    fill: #FFFFFF;\n",
              "  }\n",
              "</style>\n",
              "\n",
              "    <script>\n",
              "      async function quickchart(key) {\n",
              "        const containerElement = document.querySelector('#' + key);\n",
              "        const charts = await google.colab.kernel.invokeFunction(\n",
              "            'suggestCharts', [key], {});\n",
              "      }\n",
              "    </script>\n",
              "\n",
              "      <script>\n",
              "\n",
              "function displayQuickchartButton(domScope) {\n",
              "  let quickchartButtonEl =\n",
              "    domScope.querySelector('#df-cc5aa4b2-8219-43d6-b183-ea873eddae5d button.colab-df-quickchart');\n",
              "  quickchartButtonEl.style.display =\n",
              "    google.colab.kernel.accessAllowed ? 'block' : 'none';\n",
              "}\n",
              "\n",
              "        displayQuickchartButton(document);\n",
              "      </script>\n",
              "      <style>\n",
              "    .colab-df-container {\n",
              "      display:flex;\n",
              "      flex-wrap:wrap;\n",
              "      gap: 12px;\n",
              "    }\n",
              "\n",
              "    .colab-df-convert {\n",
              "      background-color: #E8F0FE;\n",
              "      border: none;\n",
              "      border-radius: 50%;\n",
              "      cursor: pointer;\n",
              "      display: none;\n",
              "      fill: #1967D2;\n",
              "      height: 32px;\n",
              "      padding: 0 0 0 0;\n",
              "      width: 32px;\n",
              "    }\n",
              "\n",
              "    .colab-df-convert:hover {\n",
              "      background-color: #E2EBFA;\n",
              "      box-shadow: 0px 1px 2px rgba(60, 64, 67, 0.3), 0px 1px 3px 1px rgba(60, 64, 67, 0.15);\n",
              "      fill: #174EA6;\n",
              "    }\n",
              "\n",
              "    [theme=dark] .colab-df-convert {\n",
              "      background-color: #3B4455;\n",
              "      fill: #D2E3FC;\n",
              "    }\n",
              "\n",
              "    [theme=dark] .colab-df-convert:hover {\n",
              "      background-color: #434B5C;\n",
              "      box-shadow: 0px 1px 3px 1px rgba(0, 0, 0, 0.15);\n",
              "      filter: drop-shadow(0px 1px 2px rgba(0, 0, 0, 0.3));\n",
              "      fill: #FFFFFF;\n",
              "    }\n",
              "  </style>\n",
              "\n",
              "      <script>\n",
              "        const buttonEl =\n",
              "          document.querySelector('#df-30c3f8af-1b6b-447e-b6df-bd2f31b7c492 button.colab-df-convert');\n",
              "        buttonEl.style.display =\n",
              "          google.colab.kernel.accessAllowed ? 'block' : 'none';\n",
              "\n",
              "        async function convertToInteractive(key) {\n",
              "          const element = document.querySelector('#df-30c3f8af-1b6b-447e-b6df-bd2f31b7c492');\n",
              "          const dataTable =\n",
              "            await google.colab.kernel.invokeFunction('convertToInteractive',\n",
              "                                                     [key], {});\n",
              "          if (!dataTable) return;\n",
              "\n",
              "          const docLinkHtml = 'Like what you see? Visit the ' +\n",
              "            '<a target=\"_blank\" href=https://colab.research.google.com/notebooks/data_table.ipynb>data table notebook</a>'\n",
              "            + ' to learn more about interactive tables.';\n",
              "          element.innerHTML = '';\n",
              "          dataTable['output_type'] = 'display_data';\n",
              "          await google.colab.output.renderOutput(dataTable, element);\n",
              "          const docLink = document.createElement('div');\n",
              "          docLink.innerHTML = docLinkHtml;\n",
              "          element.appendChild(docLink);\n",
              "        }\n",
              "      </script>\n",
              "    </div>\n",
              "  </div>\n"
            ]
          },
          "metadata": {},
          "execution_count": 15
        }
      ]
    },
    {
      "cell_type": "markdown",
      "source": [
        "Data Transformations and feature engineering\n",
        "\n",
        "Running summaries of sensor values are often useful in predicting equipment failure.We have multiple machines measured over two years. As we create our running summaries, we have to make sure that our summaries do not include more than one machine. For example, if we create a ten-day moving average, we do not want the first nine days of a machine to have values from the previous machine."
      ],
      "metadata": {
        "id": "zoKAJsHdYqDS"
      }
    },
    {
      "cell_type": "code",
      "source": [
        "pd_data['DATE'] = pd.to_datetime(pd_data['DATE'])\n"
      ],
      "metadata": {
        "id": "NW2RSD4eYHul"
      },
      "execution_count": null,
      "outputs": []
    },
    {
      "cell_type": "markdown",
      "source": [
        "New field called “flipper” that indicates when the id changes as the data are sorted by ID and DATE in ascending order. We will use this in a few other transformations"
      ],
      "metadata": {
        "id": "BTNoZEYlbM6G"
      }
    },
    {
      "cell_type": "code",
      "source": [
        "pd_data=pd_data.sort_values(by=['ID','DATE'], ascending=[True, True])\n",
        "pd_data['flipper'] = np.where((pd_data.ID != pd_data.ID.shift(1)), 1, 0)\n",
        "pd_data.head()"
      ],
      "metadata": {
        "colab": {
          "base_uri": "https://localhost:8080/",
          "height": 357
        },
        "id": "rCpH8fc3Z3Gw",
        "outputId": "ef6c7844-ab4a-4e36-aa4f-b2e8892d1172"
      },
      "execution_count": null,
      "outputs": [
        {
          "output_type": "execute_result",
          "data": {
            "text/plain": [
              "       ID       DATE REGION_CLUSTER MAINTENANCE_VENDOR MANUFACTURER  \\\n",
              "0  100001 2014-12-02              G                  O            Y   \n",
              "1  100001 2014-12-03              G                  O            Y   \n",
              "2  100001 2014-12-04              G                  O            Y   \n",
              "3  100001 2014-12-05              G                  O            Y   \n",
              "4  100001 2014-12-06              G                  O            Y   \n",
              "\n",
              "   WELL_GROUP        S15         S17    S13      S5       S16  S19        S18  \\\n",
              "0           1  11.088000  145.223448  39.34  3501.0  8.426869  1.9  24.610345   \n",
              "1           1   8.877943  187.573214  39.20  3489.0  6.483714  1.9  24.671429   \n",
              "2           1   8.676444  148.363704  38.87  3459.0  6.159659  2.0  24.733333   \n",
              "3           1   9.988338  133.660000  39.47  3513.0  9.320308  2.0  24.773077   \n",
              "4           1   8.475264  197.181600  40.33  3589.0  8.022960  1.5  24.808000   \n",
              "\n",
              "   EQUIPMENT_FAILURE   S8  AGE_OF_EQUIPMENT  flipper  \n",
              "0                  0  0.0               880        1  \n",
              "1                  0  0.0               881        0  \n",
              "2                  0  0.0               882        0  \n",
              "3                  0  0.0               883        0  \n",
              "4                  0  0.0               884        0  "
            ],
            "text/html": [
              "\n",
              "\n",
              "  <div id=\"df-64492d16-cc4d-48dc-868e-8ad81da2efbf\">\n",
              "    <div class=\"colab-df-container\">\n",
              "      <div>\n",
              "<style scoped>\n",
              "    .dataframe tbody tr th:only-of-type {\n",
              "        vertical-align: middle;\n",
              "    }\n",
              "\n",
              "    .dataframe tbody tr th {\n",
              "        vertical-align: top;\n",
              "    }\n",
              "\n",
              "    .dataframe thead th {\n",
              "        text-align: right;\n",
              "    }\n",
              "</style>\n",
              "<table border=\"1\" class=\"dataframe\">\n",
              "  <thead>\n",
              "    <tr style=\"text-align: right;\">\n",
              "      <th></th>\n",
              "      <th>ID</th>\n",
              "      <th>DATE</th>\n",
              "      <th>REGION_CLUSTER</th>\n",
              "      <th>MAINTENANCE_VENDOR</th>\n",
              "      <th>MANUFACTURER</th>\n",
              "      <th>WELL_GROUP</th>\n",
              "      <th>S15</th>\n",
              "      <th>S17</th>\n",
              "      <th>S13</th>\n",
              "      <th>S5</th>\n",
              "      <th>S16</th>\n",
              "      <th>S19</th>\n",
              "      <th>S18</th>\n",
              "      <th>EQUIPMENT_FAILURE</th>\n",
              "      <th>S8</th>\n",
              "      <th>AGE_OF_EQUIPMENT</th>\n",
              "      <th>flipper</th>\n",
              "    </tr>\n",
              "  </thead>\n",
              "  <tbody>\n",
              "    <tr>\n",
              "      <th>0</th>\n",
              "      <td>100001</td>\n",
              "      <td>2014-12-02</td>\n",
              "      <td>G</td>\n",
              "      <td>O</td>\n",
              "      <td>Y</td>\n",
              "      <td>1</td>\n",
              "      <td>11.088000</td>\n",
              "      <td>145.223448</td>\n",
              "      <td>39.34</td>\n",
              "      <td>3501.0</td>\n",
              "      <td>8.426869</td>\n",
              "      <td>1.9</td>\n",
              "      <td>24.610345</td>\n",
              "      <td>0</td>\n",
              "      <td>0.0</td>\n",
              "      <td>880</td>\n",
              "      <td>1</td>\n",
              "    </tr>\n",
              "    <tr>\n",
              "      <th>1</th>\n",
              "      <td>100001</td>\n",
              "      <td>2014-12-03</td>\n",
              "      <td>G</td>\n",
              "      <td>O</td>\n",
              "      <td>Y</td>\n",
              "      <td>1</td>\n",
              "      <td>8.877943</td>\n",
              "      <td>187.573214</td>\n",
              "      <td>39.20</td>\n",
              "      <td>3489.0</td>\n",
              "      <td>6.483714</td>\n",
              "      <td>1.9</td>\n",
              "      <td>24.671429</td>\n",
              "      <td>0</td>\n",
              "      <td>0.0</td>\n",
              "      <td>881</td>\n",
              "      <td>0</td>\n",
              "    </tr>\n",
              "    <tr>\n",
              "      <th>2</th>\n",
              "      <td>100001</td>\n",
              "      <td>2014-12-04</td>\n",
              "      <td>G</td>\n",
              "      <td>O</td>\n",
              "      <td>Y</td>\n",
              "      <td>1</td>\n",
              "      <td>8.676444</td>\n",
              "      <td>148.363704</td>\n",
              "      <td>38.87</td>\n",
              "      <td>3459.0</td>\n",
              "      <td>6.159659</td>\n",
              "      <td>2.0</td>\n",
              "      <td>24.733333</td>\n",
              "      <td>0</td>\n",
              "      <td>0.0</td>\n",
              "      <td>882</td>\n",
              "      <td>0</td>\n",
              "    </tr>\n",
              "    <tr>\n",
              "      <th>3</th>\n",
              "      <td>100001</td>\n",
              "      <td>2014-12-05</td>\n",
              "      <td>G</td>\n",
              "      <td>O</td>\n",
              "      <td>Y</td>\n",
              "      <td>1</td>\n",
              "      <td>9.988338</td>\n",
              "      <td>133.660000</td>\n",
              "      <td>39.47</td>\n",
              "      <td>3513.0</td>\n",
              "      <td>9.320308</td>\n",
              "      <td>2.0</td>\n",
              "      <td>24.773077</td>\n",
              "      <td>0</td>\n",
              "      <td>0.0</td>\n",
              "      <td>883</td>\n",
              "      <td>0</td>\n",
              "    </tr>\n",
              "    <tr>\n",
              "      <th>4</th>\n",
              "      <td>100001</td>\n",
              "      <td>2014-12-06</td>\n",
              "      <td>G</td>\n",
              "      <td>O</td>\n",
              "      <td>Y</td>\n",
              "      <td>1</td>\n",
              "      <td>8.475264</td>\n",
              "      <td>197.181600</td>\n",
              "      <td>40.33</td>\n",
              "      <td>3589.0</td>\n",
              "      <td>8.022960</td>\n",
              "      <td>1.5</td>\n",
              "      <td>24.808000</td>\n",
              "      <td>0</td>\n",
              "      <td>0.0</td>\n",
              "      <td>884</td>\n",
              "      <td>0</td>\n",
              "    </tr>\n",
              "  </tbody>\n",
              "</table>\n",
              "</div>\n",
              "      <button class=\"colab-df-convert\" onclick=\"convertToInteractive('df-64492d16-cc4d-48dc-868e-8ad81da2efbf')\"\n",
              "              title=\"Convert this dataframe to an interactive table.\"\n",
              "              style=\"display:none;\">\n",
              "\n",
              "  <svg xmlns=\"http://www.w3.org/2000/svg\" height=\"24px\"viewBox=\"0 0 24 24\"\n",
              "       width=\"24px\">\n",
              "    <path d=\"M0 0h24v24H0V0z\" fill=\"none\"/>\n",
              "    <path d=\"M18.56 5.44l.94 2.06.94-2.06 2.06-.94-2.06-.94-.94-2.06-.94 2.06-2.06.94zm-11 1L8.5 8.5l.94-2.06 2.06-.94-2.06-.94L8.5 2.5l-.94 2.06-2.06.94zm10 10l.94 2.06.94-2.06 2.06-.94-2.06-.94-.94-2.06-.94 2.06-2.06.94z\"/><path d=\"M17.41 7.96l-1.37-1.37c-.4-.4-.92-.59-1.43-.59-.52 0-1.04.2-1.43.59L10.3 9.45l-7.72 7.72c-.78.78-.78 2.05 0 2.83L4 21.41c.39.39.9.59 1.41.59.51 0 1.02-.2 1.41-.59l7.78-7.78 2.81-2.81c.8-.78.8-2.07 0-2.86zM5.41 20L4 18.59l7.72-7.72 1.47 1.35L5.41 20z\"/>\n",
              "  </svg>\n",
              "      </button>\n",
              "\n",
              "\n",
              "\n",
              "    <div id=\"df-f0287c41-333f-4adb-b36c-a7df5007689d\">\n",
              "      <button class=\"colab-df-quickchart\" onclick=\"quickchart('df-f0287c41-333f-4adb-b36c-a7df5007689d')\"\n",
              "              title=\"Suggest charts.\"\n",
              "              style=\"display:none;\">\n",
              "\n",
              "<svg xmlns=\"http://www.w3.org/2000/svg\" height=\"24px\"viewBox=\"0 0 24 24\"\n",
              "     width=\"24px\">\n",
              "    <g>\n",
              "        <path d=\"M19 3H5c-1.1 0-2 .9-2 2v14c0 1.1.9 2 2 2h14c1.1 0 2-.9 2-2V5c0-1.1-.9-2-2-2zM9 17H7v-7h2v7zm4 0h-2V7h2v10zm4 0h-2v-4h2v4z\"/>\n",
              "    </g>\n",
              "</svg>\n",
              "      </button>\n",
              "    </div>\n",
              "\n",
              "<style>\n",
              "  .colab-df-quickchart {\n",
              "    background-color: #E8F0FE;\n",
              "    border: none;\n",
              "    border-radius: 50%;\n",
              "    cursor: pointer;\n",
              "    display: none;\n",
              "    fill: #1967D2;\n",
              "    height: 32px;\n",
              "    padding: 0 0 0 0;\n",
              "    width: 32px;\n",
              "  }\n",
              "\n",
              "  .colab-df-quickchart:hover {\n",
              "    background-color: #E2EBFA;\n",
              "    box-shadow: 0px 1px 2px rgba(60, 64, 67, 0.3), 0px 1px 3px 1px rgba(60, 64, 67, 0.15);\n",
              "    fill: #174EA6;\n",
              "  }\n",
              "\n",
              "  [theme=dark] .colab-df-quickchart {\n",
              "    background-color: #3B4455;\n",
              "    fill: #D2E3FC;\n",
              "  }\n",
              "\n",
              "  [theme=dark] .colab-df-quickchart:hover {\n",
              "    background-color: #434B5C;\n",
              "    box-shadow: 0px 1px 3px 1px rgba(0, 0, 0, 0.15);\n",
              "    filter: drop-shadow(0px 1px 2px rgba(0, 0, 0, 0.3));\n",
              "    fill: #FFFFFF;\n",
              "  }\n",
              "</style>\n",
              "\n",
              "    <script>\n",
              "      async function quickchart(key) {\n",
              "        const containerElement = document.querySelector('#' + key);\n",
              "        const charts = await google.colab.kernel.invokeFunction(\n",
              "            'suggestCharts', [key], {});\n",
              "      }\n",
              "    </script>\n",
              "\n",
              "      <script>\n",
              "\n",
              "function displayQuickchartButton(domScope) {\n",
              "  let quickchartButtonEl =\n",
              "    domScope.querySelector('#df-f0287c41-333f-4adb-b36c-a7df5007689d button.colab-df-quickchart');\n",
              "  quickchartButtonEl.style.display =\n",
              "    google.colab.kernel.accessAllowed ? 'block' : 'none';\n",
              "}\n",
              "\n",
              "        displayQuickchartButton(document);\n",
              "      </script>\n",
              "      <style>\n",
              "    .colab-df-container {\n",
              "      display:flex;\n",
              "      flex-wrap:wrap;\n",
              "      gap: 12px;\n",
              "    }\n",
              "\n",
              "    .colab-df-convert {\n",
              "      background-color: #E8F0FE;\n",
              "      border: none;\n",
              "      border-radius: 50%;\n",
              "      cursor: pointer;\n",
              "      display: none;\n",
              "      fill: #1967D2;\n",
              "      height: 32px;\n",
              "      padding: 0 0 0 0;\n",
              "      width: 32px;\n",
              "    }\n",
              "\n",
              "    .colab-df-convert:hover {\n",
              "      background-color: #E2EBFA;\n",
              "      box-shadow: 0px 1px 2px rgba(60, 64, 67, 0.3), 0px 1px 3px 1px rgba(60, 64, 67, 0.15);\n",
              "      fill: #174EA6;\n",
              "    }\n",
              "\n",
              "    [theme=dark] .colab-df-convert {\n",
              "      background-color: #3B4455;\n",
              "      fill: #D2E3FC;\n",
              "    }\n",
              "\n",
              "    [theme=dark] .colab-df-convert:hover {\n",
              "      background-color: #434B5C;\n",
              "      box-shadow: 0px 1px 3px 1px rgba(0, 0, 0, 0.15);\n",
              "      filter: drop-shadow(0px 1px 2px rgba(0, 0, 0, 0.3));\n",
              "      fill: #FFFFFF;\n",
              "    }\n",
              "  </style>\n",
              "\n",
              "      <script>\n",
              "        const buttonEl =\n",
              "          document.querySelector('#df-64492d16-cc4d-48dc-868e-8ad81da2efbf button.colab-df-convert');\n",
              "        buttonEl.style.display =\n",
              "          google.colab.kernel.accessAllowed ? 'block' : 'none';\n",
              "\n",
              "        async function convertToInteractive(key) {\n",
              "          const element = document.querySelector('#df-64492d16-cc4d-48dc-868e-8ad81da2efbf');\n",
              "          const dataTable =\n",
              "            await google.colab.kernel.invokeFunction('convertToInteractive',\n",
              "                                                     [key], {});\n",
              "          if (!dataTable) return;\n",
              "\n",
              "          const docLinkHtml = 'Like what you see? Visit the ' +\n",
              "            '<a target=\"_blank\" href=https://colab.research.google.com/notebooks/data_table.ipynb>data table notebook</a>'\n",
              "            + ' to learn more about interactive tables.';\n",
              "          element.innerHTML = '';\n",
              "          dataTable['output_type'] = 'display_data';\n",
              "          await google.colab.output.renderOutput(dataTable, element);\n",
              "          const docLink = document.createElement('div');\n",
              "          docLink.innerHTML = docLinkHtml;\n",
              "          element.appendChild(docLink);\n",
              "        }\n",
              "      </script>\n",
              "    </div>\n",
              "  </div>\n"
            ]
          },
          "metadata": {},
          "execution_count": 17
        }
      ]
    },
    {
      "cell_type": "markdown",
      "source": [
        " **pd_data['flipper'] **= np.where((pd_data.ID != pd_data.ID.shift(1)), 1, 0), the shift() function is used from the pandas library. It is a DataFrame method that allows you to shift the values of a Series (column) up or down along the index. The shift() function is commonly used for time-series data and to compare the current value of a column with the previous value.\n",
        "\n",
        "Here's a breakdown of the code:\n",
        "\n",
        "**pd_data['flipper']**: This creates a new column in the pd_data DataFrame named 'flipper' to store the results of the comparison.\n",
        "\n",
        "**pd_data.ID != pd_data.ID.shift(1)**: This part is a comparison between the 'ID' column and the 'ID' column shifted by one position (shifted up by one row). It checks if the current value of the 'ID' column is different from the previous value. If it is different, it means a new group or category is starting (assuming the 'ID' column is sorted).\n",
        "\n",
        "**np.where(condition, 1, 0)**: This is a NumPy function that is used to assign values based on a condition. It works as follows: If the condition is True, it will assign 1 to the 'flipper' column; otherwise, it will assign 0.\n",
        "\n",
        "By using pd_data.ID != pd_data.ID.shift(1), we are identifying the rows where a new group or category starts in the 'ID' column (i.e., where the 'ID' changes compared to the previous row). The result will be a binary Series where 1 represents the start of a new group, and 0 represents that the group remains the same as the previous row.\n",
        "\n",
        "This is commonly used in data processing and can be useful for tasks such as calculating group-wise statistics, identifying transitions in time-series data, and more"
      ],
      "metadata": {
        "id": "sIHHVw6gcPGX"
      }
    },
    {
      "cell_type": "code",
      "source": [
        "#define your feature window. This is the window by which we will aggregate our sensor values.\n",
        "feature_window=21"
      ],
      "metadata": {
        "id": "hXOAdfSKcfPi"
      },
      "execution_count": null,
      "outputs": []
    },
    {
      "cell_type": "markdown",
      "source": [
        "A running mean would be the average value over the last x days. X, in this case, is the feature window. The feature window is a parameter that depends on the context of the business problem.\n",
        "\n",
        "Calculate the number of days from the first day a machine appears to the current day. This field will be called “TIME_SINCE_START” Also, create a variable called “too_soon.” When “too_soon” is equal to 1, we have less than 21 days (feature_window) of history for the machine."
      ],
      "metadata": {
        "id": "Cp87KSsJd2Zm"
      }
    },
    {
      "cell_type": "code",
      "source": [
        "dfx=pd_data\n",
        "#Select the first record of each machine\n",
        "starter=dfx[dfx['flipper'] == 1]\n",
        "starter=starter[['DATE','ID']]\n",
        "#rename date to start_date\n",
        "starter=starter.rename(index=str, columns={\"DATE\": \"START_DATE\"})\n",
        "#convert START_DATE to date\n",
        "starter['START_DATE'] = pd.to_datetime(starter['START_DATE'])\n",
        "#Merge START_DATE to the original data set\n",
        "dfx=dfx.sort_values(by=['ID', 'DATE'], ascending=[True, True])\n",
        "starter=starter.sort_values(by=['ID'], ascending=[True])\n",
        "dfx =dfx.merge(starter, on=['ID'], how='left')\n",
        "# calculate the number of days since the beginning of each well.\n",
        "dfx['C'] = dfx['DATE'] - dfx['START_DATE']\n",
        "dfx['TIME_SINCE_START'] = dfx['C'] / np.timedelta64(1, 'D')\n",
        "dfx=dfx.drop(columns=['C'])\n",
        "dfx['too_soon'] = np.where((dfx.TIME_SINCE_START < feature_window) , 1, 0)"
      ],
      "metadata": {
        "id": "iBN3KcIPd1Kk"
      },
      "execution_count": null,
      "outputs": []
    },
    {
      "cell_type": "markdown",
      "source": [
        "Create a running mean, max, min, and median for the sensor variables.\n",
        "\n"
      ],
      "metadata": {
        "id": "8Tm-cWHTeQPc"
      }
    },
    {
      "cell_type": "code",
      "source": [
        "dfx['S5_mean'] = np.where((dfx.too_soon == 0),(dfx['S5'].rolling(min_periods=1, window=feature_window).mean()) , dfx.S5)\n",
        "dfx['S5_median'] = np.where((dfx.too_soon == 0),(dfx['S5'].rolling(min_periods=1, window=feature_window).median()) , dfx.S5)\n",
        "dfx['S5_max'] = np.where((dfx.too_soon == 0),(dfx['S5'].rolling(min_periods=1, window=feature_window).max()) , dfx.S5)\n",
        "dfx['S5_min'] = np.where((dfx.too_soon == 0),(dfx['S5'].rolling(min_periods=1, window=feature_window).min()) , dfx.S5)\n",
        "dfx['S13_mean'] = np.where((dfx.too_soon == 0),(dfx['S13'].rolling(min_periods=1, window=feature_window).mean()) , dfx.S13)\n",
        "dfx['S13_median'] = np.where((dfx.too_soon == 0),(dfx['S13'].rolling(min_periods=1, window=feature_window).median()) , dfx.S13)\n",
        "dfx['S13_max'] = np.where((dfx.too_soon == 0),(dfx['S13'].rolling(min_periods=1, window=feature_window).max()) , dfx.S13)\n",
        "dfx['S13_min'] = np.where((dfx.too_soon == 0),(dfx['S13'].rolling(min_periods=1, window=feature_window).min()) , dfx.S13)\n",
        "dfx['S15_mean'] = np.where((dfx.too_soon == 0),(dfx['S15'].rolling(min_periods=1, window=feature_window).mean()) , dfx.S15)\n",
        "dfx['S15_median'] = np.where((dfx.too_soon == 0),(dfx['S15'].rolling(min_periods=1, window=feature_window).median()) , dfx.S15)\n",
        "dfx['S15_max'] = np.where((dfx.too_soon == 0),(dfx['S15'].rolling(min_periods=1, window=feature_window).max()) , dfx.S15)\n",
        "dfx['S15_min'] = np.where((dfx.too_soon == 0),(dfx['S15'].rolling(min_periods=1, window=feature_window).min()) , dfx.S15)\n",
        "dfx['S16_mean'] = np.where((dfx.too_soon == 0),(dfx['S16'].rolling(min_periods=1, window=feature_window).mean()) , dfx.S16)\n",
        "dfx['S16_median'] = np.where((dfx.too_soon == 0),(dfx['S16'].rolling(min_periods=1, window=feature_window).median()) , dfx.S16)\n",
        "dfx['S16_max'] = np.where((dfx.too_soon == 0),(dfx['S16'].rolling(min_periods=1, window=feature_window).max()) , dfx.S16)\n",
        "dfx['S16_min'] = np.where((dfx.too_soon == 0),(dfx['S16'].rolling(min_periods=1, window=feature_window).min()) , dfx.S16)\n",
        "dfx['S17_mean'] = np.where((dfx.too_soon == 0),(dfx['S17'].rolling(min_periods=1, window=feature_window).mean()) , dfx.S17)\n",
        "dfx['S17_median'] = np.where((dfx.too_soon == 0),(dfx['S17'].rolling(min_periods=1, window=feature_window).median()) , dfx.S17)\n",
        "dfx['S17_max'] = np.where((dfx.too_soon == 0),(dfx['S17'].rolling(min_periods=1, window=feature_window).max()) , dfx.S17)\n",
        "dfx['S17_min'] = np.where((dfx.too_soon == 0),(dfx['S17'].rolling(min_periods=1, window=feature_window).min()) , dfx.S17)\n",
        "dfx['S18_mean'] = np.where((dfx.too_soon == 0),(dfx['S18'].rolling(min_periods=1, window=feature_window).mean()) , dfx.S18)\n",
        "dfx['S18_median'] = np.where((dfx.too_soon == 0),(dfx['S18'].rolling(min_periods=1, window=feature_window).median()) , dfx.S18)\n",
        "dfx['S18_max'] = np.where((dfx.too_soon == 0),(dfx['S18'].rolling(min_periods=1, window=feature_window).max()) , dfx.S18)\n",
        "dfx['S18_min'] = np.where((dfx.too_soon == 0),(dfx['S18'].rolling(min_periods=1, window=feature_window).min()) , dfx.S18)\n",
        "dfx['S19_mean'] = np.where((dfx.too_soon == 0),(dfx['S19'].rolling(min_periods=1, window=feature_window).mean()) , dfx.S19)\n",
        "dfx['S19_median'] = np.where((dfx.too_soon == 0),(dfx['S19'].rolling(min_periods=1, window=feature_window).median()) , dfx.S19)\n",
        "dfx['S19_max'] = np.where((dfx.too_soon == 0),(dfx['S19'].rolling(min_periods=1, window=feature_window).max()) , dfx.S19)\n",
        "dfx['S19_min'] = np.where((dfx.too_soon == 0),(dfx['S19'].rolling(min_periods=1, window=feature_window).min()) , dfx.S19)\n"
      ],
      "metadata": {
        "id": "eUOmoiAfeJ_9"
      },
      "execution_count": null,
      "outputs": []
    },
    {
      "cell_type": "markdown",
      "source": [
        "**dfx['S5_mean'] **= np.where((dfx.too_soon == 0),(dfx['S5'].rolling(min_periods=1, window=feature_window).mean()), dfx.S5), the code is calculating the rolling mean of the 'S5' column based on a specified window size (feature_window) and storing the result in a new column 'S5_mean' in the DataFrame dfx.\n",
        "\n",
        "Here's a breakdown of the code:\n",
        "\n",
        "**dfx['S5_mean']**: This creates a new column in the dfx DataFrame named 'S5_mean' to store the rolling mean values.\n",
        "\n",
        "**dfx.too_soon** == 0: This is a condition that checks if the value in the 'too_soon' column is equal to 0. The np.where function will apply the rolling mean only to those rows where the 'too_soon' column is 0.\n",
        "\n",
        "**dfx['S5'].rolling(min_periods=1, window=feature_window).mean()**: This part calculates the rolling mean of the 'S5' column. The rolling() function is a pandas method that creates a rolling view of a Series (column) and allows you to perform calculations on a rolling window of data. The parameters used here are:\n",
        "\n",
        "**min_periods=1**: This ensures that the rolling mean is calculated even if there is only one non-null value in the window.\n",
        "window=feature_window: This specifies the size of the rolling window. feature_window should be an integer representing the number of rows over which the mean will be calculated.\n",
        "dfx.S5: This part of the code is used in the np.where function as the alternative value to be assigned if the condition (dfx.too_soon == 0) is False. In other words, if the value in the 'too_soon' column is not 0, the original value in the 'S5' column will be used as the value in the 'S5_mean' column.\n",
        "\n",
        "In summary, the code calculates the rolling mean of the 'S5' column for rows where the 'too_soon' column is 0 and stores the rolling mean values in a new column named 'S5_mean'. For rows where 'too_soon' is not 0, the original 'S5' value is used in the 'S5_mean' column. This allows you to perform a rolling mean calculation selectively based on the 'too_soon' column's values."
      ],
      "metadata": {
        "id": "bD-MzPpLft-N"
      }
    },
    {
      "cell_type": "markdown",
      "source": [
        "# Useful transformation is to look for sudden spikes in sensor values. This code creates a value indicating how far the current value is from the immediate norm."
      ],
      "metadata": {
        "id": "LcTbioVKgEGE"
      }
    },
    {
      "cell_type": "code",
      "source": [
        "dfx['S5_chg'] = np.where((dfx.S5_mean == 0),0 , dfx.S5/dfx.S5_mean)\n",
        "dfx['S13_chg'] = np.where((dfx.S13_mean == 0),0 , dfx.S13/dfx.S13_mean)\n",
        "dfx['S15_chg'] = np.where((dfx.S15_mean==0),0 , dfx.S15/dfx.S15_mean)\n",
        "dfx['S16_chg'] = np.where((dfx.S16_mean == 0),0 , dfx.S16/dfx.S16_mean)\n",
        "dfx['S17_chg'] = np.where((dfx.S17_mean == 0),0 , dfx.S17/dfx.S17_mean)\n",
        "dfx['S18_chg'] = np.where((dfx.S18_mean == 0),0 , dfx.S18/dfx.S18_mean)\n",
        "dfx['S19_chg'] = np.where((dfx.S19_mean == 0),0 , dfx.S19/dfx.S19_mean)\n",
        "#copy the data set to the original name\n",
        "pd_data=dfx"
      ],
      "metadata": {
        "id": "RERW6UOtfrPW"
      },
      "execution_count": null,
      "outputs": []
    },
    {
      "cell_type": "markdown",
      "source": [
        "The 'S5_chg' column will contain the percentage change of the 'S5' column relative to its corresponding 'S5_mean' value for rows where 'S5_mean' is not 0. For rows where 'S5_mean' is 0, the 'S5_chg' value will be set to 0 to avoid potential division by zero errors. This allows you to calculate percentage changes selectively based on the 'S5_mean' column's values."
      ],
      "metadata": {
        "id": "t75ZnWJ2hnFP"
      }
    },
    {
      "cell_type": "markdown",
      "source": [
        "## Dealing with the small number of failures.\n",
        "\n",
        "Expand the Failure (Target) Window"
      ],
      "metadata": {
        "id": "fG-u0gLImw59"
      }
    },
    {
      "cell_type": "code",
      "source": [
        "target_window=28\n"
      ],
      "metadata": {
        "id": "n23ODKcChpIh"
      },
      "execution_count": null,
      "outputs": []
    },
    {
      "cell_type": "code",
      "source": [
        "pd_data=pd_data.sort_values(by=['ID', 'DATE'], ascending=[True, True])\n",
        "pd_data.reset_index(level=0, inplace=True)"
      ],
      "metadata": {
        "id": "7gKLPfqVm52_"
      },
      "execution_count": null,
      "outputs": []
    },
    {
      "cell_type": "markdown",
      "source": [
        "Create a new data frame that contains the failure records. Rename DATE to FAILURE_DATE.\n",
        "\n"
      ],
      "metadata": {
        "id": "1RvbgkdZnIoU"
      }
    },
    {
      "cell_type": "code",
      "source": [
        "df_failure_thingy=pd_data[pd_data['EQUIPMENT_FAILURE'] == 1]\n",
        "df_failure_thingy=df_failure_thingy[['DATE','ID']]\n",
        "df_failure_thingy=df_failure_thingy.rename(index=str, columns={\"DATE\": \"FAILURE_DATE\"})\n",
        "pd_data=pd_data.sort_values(by=['ID'], ascending=[True])\n",
        "df_failure_thingy=df_failure_thingy.sort_values(by=['ID'], ascending=[True])"
      ],
      "metadata": {
        "id": "ASU-WtrynH_k"
      },
      "execution_count": null,
      "outputs": []
    },
    {
      "cell_type": "code",
      "source": [
        "#Append the FAILURE_DATE to each ID.\n",
        "\n",
        "pd_data =pd_data.merge(df_failure_thingy, on=['ID'], how='left')\n"
      ],
      "metadata": {
        "id": "XnPzk8zxnL9Y"
      },
      "execution_count": null,
      "outputs": []
    },
    {
      "cell_type": "markdown",
      "source": [
        "For each record, calculate the number of days until failure.\n",
        "\n"
      ],
      "metadata": {
        "id": "Q9gMHqdDnkxD"
      }
    },
    {
      "cell_type": "code",
      "source": [
        "pd_data=pd_data.sort_values(by=['ID','DATE'], ascending=[True, True])\n",
        "pd_data['FAILURE_DATE'] = pd.to_datetime(pd_data['FAILURE_DATE'])\n",
        "pd_data['DATE'] = pd.to_datetime(pd_data['DATE'])\n",
        "pd_data['C'] = pd_data['FAILURE_DATE'] - pd_data['DATE']\n",
        "pd_data['TIME_TO_FAILURE'] = pd_data['C'] / np.timedelta64(1, 'D')"
      ],
      "metadata": {
        "id": "PomDRjmSnSyA"
      },
      "execution_count": null,
      "outputs": []
    },
    {
      "cell_type": "code",
      "source": [
        "#Clean up and sort the records by ID and DATE.\n",
        "\n",
        "pd_data=pd_data.drop(columns=['index'])\n",
        "pd_data=pd_data.sort_values(by=['ID', 'DATE'], ascending=[True, True])\n",
        "pd_data.reset_index(inplace=True)"
      ],
      "metadata": {
        "id": "FUL5gID3nnv0"
      },
      "execution_count": null,
      "outputs": []
    },
    {
      "cell_type": "code",
      "source": [
        "#new variable, FAILURE_TARGET. It is equal to 1 if the record proceeds a failure by “failure_window” days or less.\n",
        "pd_data['FAILURE_TARGET'] = np.where(((pd_data.TIME_TO_FAILURE < target_window) & ((pd_data.TIME_TO_FAILURE>=0))), 1, 0)\n",
        "tips_summed = pd_data.groupby(['FAILURE_TARGET'])['S5'].count()\n",
        "tips_summed"
      ],
      "metadata": {
        "colab": {
          "base_uri": "https://localhost:8080/"
        },
        "id": "x7weS5NVn13y",
        "outputId": "a9ebddad-b692-4b84-8ddd-2a6a68ad0645"
      },
      "execution_count": null,
      "outputs": [
        {
          "output_type": "execute_result",
          "data": {
            "text/plain": [
              "FAILURE_TARGET\n",
              "0    296011\n",
              "1     11740\n",
              "Name: S5, dtype: int64"
            ]
          },
          "metadata": {},
          "execution_count": 28
        }
      ]
    },
    {
      "cell_type": "code",
      "source": [
        "pd_data['FAILURE_TARGET'].mean()\n"
      ],
      "metadata": {
        "colab": {
          "base_uri": "https://localhost:8080/"
        },
        "id": "D9NGIwo1oGQ0",
        "outputId": "50de0dd5-1b18-42f9-8346-4fc5df98e096"
      },
      "execution_count": null,
      "outputs": [
        {
          "output_type": "execute_result",
          "data": {
            "text/plain": [
              "0.03814772332177637"
            ]
          },
          "metadata": {},
          "execution_count": 29
        }
      ]
    },
    {
      "cell_type": "markdown",
      "source": [
        "Now we have 11,740 target observations. This is better, but the data set is far from balanced. In the next section, we will use SMOTE to increase the number of failures synthetically. However, let’s split our data into training, testing, and a validation sample before we do that."
      ],
      "metadata": {
        "id": "wB0GznIfoJyH"
      }
    },
    {
      "cell_type": "markdown",
      "source": [
        " Create the Testing, Training and Validation Groupings"
      ],
      "metadata": {
        "id": "3UsaFACiqZgK"
      }
    },
    {
      "cell_type": "code",
      "source": [
        "# Because we are dealing with a panel data set (cross-sectional time-series), it is better not to take a random sample of all records.\n",
        "# Doing so would put the records from one machine in all three sample data sets. To avoid this, we’ll randomly select IDs and place all of the records for each machine in either the training, testing, or validation data set."
      ],
      "metadata": {
        "id": "IxOunxJ_oLCz"
      },
      "execution_count": null,
      "outputs": []
    },
    {
      "cell_type": "code",
      "source": [
        "#Get a Unique List of All IDs\n",
        "aa=pd_data\n",
        "pd_id=aa.drop_duplicates(subset='ID')\n",
        "pd_id=pd_id[['ID']]\n",
        "pd_id.shape"
      ],
      "metadata": {
        "colab": {
          "base_uri": "https://localhost:8080/"
        },
        "id": "__3WXK4Gq7Ka",
        "outputId": "d2be2b35-8bef-4651-8aae-66ddce3f62dd"
      },
      "execution_count": null,
      "outputs": [
        {
          "output_type": "execute_result",
          "data": {
            "text/plain": [
              "(421, 1)"
            ]
          },
          "metadata": {},
          "execution_count": 31
        }
      ]
    },
    {
      "cell_type": "code",
      "source": [
        "np.random.seed(42)\n",
        "pd_id['wookie'] = (np.random.randint(0, 10000, pd_id.shape[0]))/10000\n",
        "pd_id=pd_id[['ID', 'wookie']]"
      ],
      "metadata": {
        "id": "m2O9cMwrrTq3"
      },
      "execution_count": null,
      "outputs": []
    },
    {
      "cell_type": "markdown",
      "source": [
        "Give each record a 30% chance of being in the validation, a 35% chance of being in the testing, and a 35% chance of being in the training data set.\n",
        "\n"
      ],
      "metadata": {
        "id": "8anZTmX2rbrG"
      }
    },
    {
      "cell_type": "markdown",
      "source": [
        "The logic works as follows:\n",
        "\n",
        "If the value in the 'wookie' column is less than or equal to 0.35, the corresponding row will be assigned the label 'TRAINING'.\n",
        "If the value in the 'wookie' column is greater than 0.35 but less than or equal to 0.65, the corresponding row will be assigned the label 'VALIDATION'.\n",
        "If the value in the 'wookie' column is greater than 0.65, the corresponding row will be assigned the label 'TESTING'."
      ],
      "metadata": {
        "id": "DZvxqwFExl55"
      }
    },
    {
      "cell_type": "code",
      "source": [
        "pd_id['MODELING_GROUP'] = np.where(((pd_id.wookie <= 0.35)), 'TRAINING', np.where(((pd_id.wookie <= 0.65)), 'VALIDATION', 'TESTING'))"
      ],
      "metadata": {
        "id": "lBOwM2bdreSA"
      },
      "execution_count": null,
      "outputs": []
    },
    {
      "cell_type": "code",
      "source": [
        "#This is how many machines fall in each group.\n",
        "tips_summed = pd_id.groupby(['MODELING_GROUP'])['wookie'].count()\n",
        "tips_summed"
      ],
      "metadata": {
        "colab": {
          "base_uri": "https://localhost:8080/"
        },
        "id": "pwFZi2n0yPi-",
        "outputId": "ccd0e90d-a0b6-4a1f-8e85-7e2082f153f5"
      },
      "execution_count": null,
      "outputs": [
        {
          "output_type": "execute_result",
          "data": {
            "text/plain": [
              "MODELING_GROUP\n",
              "TESTING       149\n",
              "TRAINING      146\n",
              "VALIDATION    126\n",
              "Name: wookie, dtype: int64"
            ]
          },
          "metadata": {},
          "execution_count": 34
        }
      ]
    },
    {
      "cell_type": "code",
      "source": [
        "#Append the Group of each id to each individual record.\n",
        "pd_data=pd_data.sort_values(by=['ID'], ascending=[True])\n",
        "pd_id=pd_id.sort_values(by=['ID'], ascending=[True])\n",
        "pd_data =pd_data.merge(pd_id, on=['ID'], how='inner')"
      ],
      "metadata": {
        "id": "ul1v5_gJzUiw"
      },
      "execution_count": null,
      "outputs": []
    },
    {
      "cell_type": "code",
      "source": [
        "tips_summed = pd_data.groupby(['MODELING_GROUP'])['wookie'].count()\n",
        "tips_summed"
      ],
      "metadata": {
        "colab": {
          "base_uri": "https://localhost:8080/"
        },
        "id": "zidXYGjM0DMP",
        "outputId": "eace6160-318e-46c7-b481-07ae1f85d08c"
      },
      "execution_count": null,
      "outputs": [
        {
          "output_type": "execute_result",
          "data": {
            "text/plain": [
              "MODELING_GROUP\n",
              "TESTING       108919\n",
              "TRAINING      106726\n",
              "VALIDATION     92106\n",
              "Name: wookie, dtype: int64"
            ]
          },
          "metadata": {},
          "execution_count": 36
        }
      ]
    },
    {
      "cell_type": "markdown",
      "source": [
        "This is how many failure targets are in each group.\n",
        "\n"
      ],
      "metadata": {
        "id": "udSI4mJc0L8x"
      }
    },
    {
      "cell_type": "code",
      "source": [
        "tips_summed = pd_data.groupby(['MODELING_GROUP'])['FAILURE_TARGET'].sum()\n",
        "tips_summed"
      ],
      "metadata": {
        "colab": {
          "base_uri": "https://localhost:8080/"
        },
        "id": "cos1nBvT0LMa",
        "outputId": "291dfb0c-05da-48fe-823b-2626a8a03731"
      },
      "execution_count": null,
      "outputs": [
        {
          "output_type": "execute_result",
          "data": {
            "text/plain": [
              "MODELING_GROUP\n",
              "TESTING       4151\n",
              "TRAINING      4071\n",
              "VALIDATION    3518\n",
              "Name: FAILURE_TARGET, dtype: int64"
            ]
          },
          "metadata": {},
          "execution_count": 37
        }
      ]
    },
    {
      "cell_type": "markdown",
      "source": [
        "separate data frame for the training data"
      ],
      "metadata": {
        "id": "kWGogZKW4N8Y"
      }
    },
    {
      "cell_type": "code",
      "source": [
        "df_training=pd_data[pd_data['MODELING_GROUP'] == 'TRAINING']\n",
        "df_training=df_training.drop(columns=['MODELING_GROUP','C','wookie','TIME_TO_FAILURE','flipper','START_DATE'])"
      ],
      "metadata": {
        "id": "D5t0Q2FI4M6a"
      },
      "execution_count": null,
      "outputs": []
    },
    {
      "cell_type": "markdown",
      "source": [
        "separate data frame for the training and testing data sets"
      ],
      "metadata": {
        "id": "IIZ56Lef4TCa"
      }
    },
    {
      "cell_type": "code",
      "source": [
        "df_train_test=pd_data[pd_data['MODELING_GROUP'] != 'VALIDATION']\n",
        "df_train_test=df_train_test.drop(columns=['wookie','TIME_TO_FAILURE','flipper','START_DATE'])\n",
        "df_train_test.shape"
      ],
      "metadata": {
        "colab": {
          "base_uri": "https://localhost:8080/"
        },
        "id": "ahnjYTQa4R7R",
        "outputId": "72c634fa-29c7-4821-fcf9-428673583b3e"
      },
      "execution_count": null,
      "outputs": [
        {
          "output_type": "execute_result",
          "data": {
            "text/plain": [
              "(215645, 58)"
            ]
          },
          "metadata": {},
          "execution_count": 39
        }
      ]
    },
    {
      "cell_type": "markdown",
      "source": [
        "separate data frame for all the data. We will use this to validate the model and compare the accuracy of all groups."
      ],
      "metadata": {
        "id": "IXqE7wJ74mxN"
      }
    },
    {
      "cell_type": "code",
      "source": [
        "df_total=pd_data.drop(columns=['C','wookie','TIME_TO_FAILURE','flipper','START_DATE'])"
      ],
      "metadata": {
        "id": "kGKZvQJF4g_o"
      },
      "execution_count": null,
      "outputs": []
    },
    {
      "cell_type": "markdown",
      "source": [
        "SMOTE the Training Data\n",
        "we are only balancing the training data set. You may be asking why. Remember that our goal is to build a model the represents reality, right? When we SMOTE the data, we change the failure rate to 50%. This is nowhere near what we see in the actual machine data. Thus, it makes sense to build the model on the SMOTE data but evaluate it on the unaltered data. The unaltered data will be a better reflection of what to expect when you deploy the model to production.\n"
      ],
      "metadata": {
        "id": "ZKvYtEfy4rGe"
      }
    },
    {
      "cell_type": "markdown",
      "source": [
        "Define the Training features and Target."
      ],
      "metadata": {
        "id": "3qGeG_8S6V99"
      }
    },
    {
      "cell_type": "code",
      "source": [
        "training_features=df_training[['REGION_CLUSTER','MAINTENANCE_VENDOR','MANUFACTURER','WELL_GROUP','AGE_OF_EQUIPMENT','S15','S17','S13','S5',\n",
        " 'S16','S19','S18','S8','S5_mean','S5_median','S5_max','S5_min','S13_mean','S13_median','S13_max','S13_min','S15_mean','S15_median',\n",
        " 'S15_max','S15_min','S16_mean','S16_median','S16_max','S16_min','S17_mean','S17_median','S17_max','S17_min','S18_mean','S18_median','S18_max','S18_min','S19_mean','S19_median','S19_max','S19_min',\n",
        " 'S5_chg','S13_chg','S15_chg','S16_chg','S17_chg','S18_chg','S19_chg']]\n",
        "training_target=df_training[['FAILURE_TARGET']]"
      ],
      "metadata": {
        "id": "TZu7Ih5z6NAY"
      },
      "execution_count": null,
      "outputs": []
    },
    {
      "cell_type": "code",
      "source": [
        "from imblearn.over_sampling import SMOTE\n",
        "from imblearn.over_sampling import SMOTENC\n",
        "smx = SMOTENC(random_state=12,  categorical_features=[0, 1, 2, 3])\n",
        "x_res, y_res = smx.fit_resample(training_features, training_target.values.ravel())\n"
      ],
      "metadata": {
        "id": "Od3ED2Fn6NEH"
      },
      "execution_count": null,
      "outputs": []
    },
    {
      "cell_type": "markdown",
      "source": [
        "Convert the SMOTE output back to complete data frames with independent and dependent variables. Examine the results."
      ],
      "metadata": {
        "id": "GnjCYq1A62Ds"
      }
    },
    {
      "cell_type": "code",
      "source": [
        "#Format the Independent Variables.\n",
        "\n",
        "df_x=pd.DataFrame(x_res)\n",
        "df_x.columns = [\n",
        " 'REGION_CLUSTER','MAINTENANCE_VENDOR','MANUFACTURER','WELL_GROUP','AGE_OF_EQUIPMENT','S15','S17','S13','S5','S16','S19',\n",
        " 'S18','S8','S5_mean','S5_median','S5_max','S5_min','S13_mean','S13_median','S13_max','S13_min','S15_mean','S15_median','S15_max',\n",
        " 'S15_min','S16_mean','S16_median','S16_max','S16_min','S17_mean','S17_median','S17_max','S17_min','S18_mean','S18_median','S18_max','S18_min',\n",
        " 'S19_mean','S19_median','S19_max','S19_min','S5_chg','S13_chg','S15_chg','S16_chg','S17_chg','S18_chg','S19_chg']"
      ],
      "metadata": {
        "id": "62a3jPSJ6NHv"
      },
      "execution_count": null,
      "outputs": []
    },
    {
      "cell_type": "code",
      "source": [
        "#Format the Dependent Variable.\n",
        "\n",
        "df_y=pd.DataFrame(y_res)\n",
        "df_y.columns = ['FAILURE_TARGET']"
      ],
      "metadata": {
        "id": "VKfOITGk6NK5"
      },
      "execution_count": null,
      "outputs": []
    },
    {
      "cell_type": "code",
      "source": [
        "#Check that the dependent variable is balanced. It is.\n",
        "df_y.mean(axis = 0)"
      ],
      "metadata": {
        "colab": {
          "base_uri": "https://localhost:8080/"
        },
        "id": "x8o5ME706NN6",
        "outputId": "f915bc47-0419-4b58-f802-276459a55196"
      },
      "execution_count": null,
      "outputs": [
        {
          "output_type": "execute_result",
          "data": {
            "text/plain": [
              "FAILURE_TARGET    0.5\n",
              "dtype: float64"
            ]
          },
          "metadata": {},
          "execution_count": 45
        }
      ]
    },
    {
      "cell_type": "code",
      "source": [
        "#Merge the dependent and independent variables post SMOTE into a data frame.\n",
        "df_balanced = pd.concat([df_y, df_x], axis=1)"
      ],
      "metadata": {
        "id": "mwl9tHDQ6NSl"
      },
      "execution_count": null,
      "outputs": []
    },
    {
      "cell_type": "markdown",
      "source": [
        "More data transformation and feature engineering\n",
        "Convert the categorical variables into binary dummy variables. We need to do this because the XGBT model (below) doesn’t like categorical fields.\n"
      ],
      "metadata": {
        "id": "5Ig2pfqVUxLs"
      }
    },
    {
      "cell_type": "code",
      "source": [
        "df_dv = pd.get_dummies(df_balanced['REGION_CLUSTER'])\n",
        "df_dv=df_dv.rename(columns={\"A\": \"CLUSTER_A\",\"B\":\"CLUSTER_B\",\"C\":\"CLUSTER_C\",\"D\":\"CLUSTER_D\",\"E\":\"CLUSTER_E\",\"F\":\"CLUSTER_F\",\"G\":\"CLUSTER_G\",\"H\":\"CLUSTER_H\"})\n",
        "df_balanced= pd.concat([df_balanced, df_dv], axis=1)\n",
        "df_dv = pd.get_dummies(df_balanced['MAINTENANCE_VENDOR'])\n",
        "df_dv=df_dv.rename(columns={\"I\": \"MV_I\",\"J\":\"MV_J\",\"K\":\"MV_K\",\"L\":\"MV_L\",\"M\":\"MV_M\",\"N\":\"MV_N\",\"O\":\"MV_O\",\"P\":\"MV_P\"})\n",
        "df_balanced = pd.concat([df_balanced, df_dv], axis=1)\n",
        "df_dv = pd.get_dummies(df_balanced['MANUFACTURER'])\n",
        "df_dv=df_dv.rename(columns={\"Q\": \"MN_Q\",\"R\":\"MN_R\",\"S\":\"MN_S\",\"T\":\"MN_T\",\"U\":\"MN_U\",\"V\":\"MN_V\",\"W\":\"MN_W\",\"X\":\"MN_X\",\"Y\":\"MN_Y\",\"Z\":\"MN_Z\"})\n",
        "df_balanced = pd.concat([df_balanced, df_dv], axis=1)\n",
        "df_dv = pd.get_dummies(df_balanced['WELL_GROUP'])\n",
        "df_dv=df_dv.rename(columns={1: \"WG_1\",2:\"WG_2\",3:\"WG_3\",4:\"WG_4\",5:\"WG_5\",6:\"WG_6\",7:\"WG_7\",8:\"WG_8\"})\n",
        "df_balanced = pd.concat([df_balanced, df_dv], axis=1)"
      ],
      "metadata": {
        "id": "0Z_MAYesSZsy"
      },
      "execution_count": null,
      "outputs": []
    },
    {
      "cell_type": "markdown",
      "source": [
        "Execute the same transformation on the train_test data set.\n",
        "\n"
      ],
      "metadata": {
        "id": "aHCTRTMcVgOK"
      }
    },
    {
      "cell_type": "code",
      "source": [
        "df_dv = pd.get_dummies(df_train_test['REGION_CLUSTER'])\n",
        "df_dv=df_dv.rename(columns={\"A\": \"CLUSTER_A\",\"B\":\"CLUSTER_B\",\"C\":\"CLUSTER_C\",\"D\":\"CLUSTER_D\",\"E\":\"CLUSTER_E\",\"F\":\"CLUSTER_F\",\"G\":\"CLUSTER_G\",\"H\":\"CLUSTER_H\"})\n",
        "df_train_test= pd.concat([df_train_test, df_dv], axis=1)\n",
        "df_dv = pd.get_dummies(df_train_test['MAINTENANCE_VENDOR'])\n",
        "df_dv=df_dv.rename(columns={\"I\": \"MV_I\",\"J\":\"MV_J\",\"K\":\"MV_K\",\"L\":\"MV_L\",\"M\":\"MV_M\",\"N\":\"MV_N\",\"O\":\"MV_O\",\"P\":\"MV_P\"})\n",
        "df_train_test = pd.concat([df_train_test, df_dv], axis=1)\n",
        "df_dv = pd.get_dummies(df_train_test['MANUFACTURER'])\n",
        "df_dv=df_dv.rename(columns={\"Q\": \"MN_Q\",\"R\":\"MN_R\",\"S\":\"MN_S\",\"T\":\"MN_T\",\"U\":\"MN_U\",\"V\":\"MN_V\",\"W\":\"MN_W\",\"X\":\"MN_X\",\"Y\":\"MN_Y\",\"Z\":\"MN_Z\"})\n",
        "df_train_test = pd.concat([df_train_test, df_dv], axis=1)\n",
        "df_dv = pd.get_dummies(df_train_test['WELL_GROUP'])\n",
        "df_dv=df_dv.rename(columns={1: \"WG_1\",2:\"WG_2\",3:\"WG_3\",4:\"WG_4\",5:\"WG_5\",6:\"WG_6\",7:\"WG_7\",8:\"WG_8\"})\n",
        "df_train_test = pd.concat([df_train_test, df_dv], axis=1)"
      ],
      "metadata": {
        "id": "viF_muteVe5u"
      },
      "execution_count": null,
      "outputs": []
    },
    {
      "cell_type": "markdown",
      "source": [
        "And, also on the df_total data set.\n",
        "\n"
      ],
      "metadata": {
        "id": "sIuQMEvpVnU8"
      }
    },
    {
      "cell_type": "code",
      "source": [
        "df_dv = pd.get_dummies(df_total['REGION_CLUSTER'])\n",
        "df_dv=df_dv.rename(columns={\"A\": \"CLUSTER_A\",\"B\":\"CLUSTER_B\",\"C\":\"CLUSTER_C\",\"D\":\"CLUSTER_D\",\"E\":\"CLUSTER_E\",\"F\":\"CLUSTER_F\",\"G\":\"CLUSTER_G\",\"H\":\"CLUSTER_H\"})\n",
        "df_total= pd.concat([df_total, df_dv], axis=1)\n",
        "df_dv = pd.get_dummies(df_total['MAINTENANCE_VENDOR'])\n",
        "df_dv=df_dv.rename(columns={\"I\": \"MV_I\",\"J\":\"MV_J\",\"K\":\"MV_K\",\"L\":\"MV_L\",\"M\":\"MV_M\",\"N\":\"MV_N\",\"O\":\"MV_O\",\"P\":\"MV_P\"})\n",
        "df_total = pd.concat([df_total, df_dv], axis=1)\n",
        "df_dv = pd.get_dummies(df_total['MANUFACTURER'])\n",
        "df_dv=df_dv.rename(columns={\"Q\": \"MN_Q\",\"R\":\"MN_R\",\"S\":\"MN_S\",\"T\":\"MN_T\",\"U\":\"MN_U\",\"V\":\"MN_V\",\"W\":\"MN_W\",\"X\":\"MN_X\",\"Y\":\"MN_Y\",\"Z\":\"MN_Z\"})\n",
        "df_total = pd.concat([df_total, df_dv], axis=1)\n",
        "df_dv = pd.get_dummies(df_total['WELL_GROUP'])\n",
        "df_dv=df_dv.rename(columns={1: \"WG_1\",2:\"WG_2\",3:\"WG_3\",4:\"WG_4\",5:\"WG_5\",6:\"WG_6\",7:\"WG_7\",8:\"WG_8\"})\n",
        "df_total = pd.concat([df_total, df_dv], axis=1)"
      ],
      "metadata": {
        "id": "CWMKyXXIVk6K"
      },
      "execution_count": null,
      "outputs": []
    },
    {
      "cell_type": "markdown",
      "source": [
        "Build the model on the balanced training data set\n"
      ],
      "metadata": {
        "id": "Blmk806ZWi_3"
      }
    },
    {
      "cell_type": "code",
      "source": [
        "#Remove the newly redundant categorical variables. This are now represented by dummy variables.\n",
        "df_balanced=df_balanced.drop(columns=['REGION_CLUSTER','MAINTENANCE_VENDOR','MANUFACTURER','WELL_GROUP'])"
      ],
      "metadata": {
        "id": "rvyTa3uqWj11"
      },
      "execution_count": null,
      "outputs": []
    },
    {
      "cell_type": "code",
      "source": [
        "#In the balanced data set, separate the dependent and independent variables to feed the model development process.\n",
        "\n",
        "features = [x for x in df_balanced.columns if x not in ['FAILURE_TARGET']]\n",
        "dependent=pd.DataFrame(df_balanced['FAILURE_TARGET'])\n",
        "independent=df_balanced.drop(columns=['FAILURE_TARGET'])"
      ],
      "metadata": {
        "id": "9Xi4n51GWumA"
      },
      "execution_count": null,
      "outputs": []
    },
    {
      "cell_type": "code",
      "source": [
        "#Define model specs.\n",
        "\n",
        "import matplotlib.pylab as plt\n",
        "%matplotlib inline\n",
        "def evaluate_model(alg, train, target, predictors,  early_stopping_rounds=1):\n",
        "\n",
        "\n",
        "    #Fit the algorithm on the data\n",
        "    alg.fit(train[predictors], target['FAILURE_TARGET'], eval_metric='error')\n",
        "\n",
        "    #Predict training set:\n",
        "    dtrain_predictions = alg.predict(train[predictors])\n",
        "    dtrain_predprob = alg.predict_proba(train[predictors])[:,1]\n",
        "\n",
        "    feat_imp = pd.Series(alg.get_booster().get_fscore()).sort_values(ascending=False)\n",
        "    feat_imp.plot(kind='bar', title='Feature Importance', color='g')\n",
        "    plt.ylabel('Feature Importance Score')\n",
        "\n",
        "    #Print model report:\n",
        "    print(\"\\nModel Report\")\n",
        "    print(\"Accuracy : %.4g\" % metrics.accuracy_score(target['FAILURE_TARGET'].values, dtrain_predictions))\n",
        "    print(\"AUC Score (Balanced): %f\" % metrics.roc_auc_score(target['FAILURE_TARGET'], dtrain_predprob))"
      ],
      "metadata": {
        "id": "6DcXIBXUX0Bi"
      },
      "execution_count": null,
      "outputs": []
    },
    {
      "cell_type": "markdown",
      "source": [
        "Define the parameter values for a xgbt model\n",
        "\n"
      ],
      "metadata": {
        "id": "Q97EiGJkX9hP"
      }
    },
    {
      "cell_type": "code",
      "source": [
        "estimator_vals=160\n",
        "lr_vals = 0.8\n",
        "md_vals = 12\n",
        "mcw_vals = 0.5\n",
        "gamma_vals =.1\n",
        "subsample_vals = .5\n",
        "c_bt_vals = 1\n",
        "reg_lambda_vals = 1\n",
        "reg_alpha_vals = 1"
      ],
      "metadata": {
        "id": "Pft8LMpgX8_e"
      },
      "execution_count": null,
      "outputs": []
    },
    {
      "cell_type": "markdown",
      "source": [
        "Define the model.\n",
        "\n"
      ],
      "metadata": {
        "id": "p0KeH7veYBmq"
      }
    },
    {
      "cell_type": "code",
      "source": [
        "xgb0 = XGBClassifier(objective = 'binary:logistic',use_label_encoder=False,learning_rate = lr_vals,\n",
        "n_estimators=estimator_vals,max_depth=md_vals,min_child_weight=mcw_vals,\n",
        "gamma=gamma_vals,subsample=subsample_vals,colsample_bytree=c_bt_vals,\n",
        "reg_lambda=reg_lambda_vals,reg_alpha=reg_alpha_vals);"
      ],
      "metadata": {
        "colab": {
          "base_uri": "https://localhost:8080/"
        },
        "id": "UAIeWN3aYBA4",
        "outputId": "e059a535-ef81-4706-fb73-a8134928ac55"
      },
      "execution_count": null,
      "outputs": [
        {
          "output_type": "stream",
          "name": "stderr",
          "text": [
            "/usr/local/lib/python3.10/dist-packages/xgboost/sklearn.py:1395: UserWarning: `use_label_encoder` is deprecated in 1.7.0.\n",
            "  warnings.warn(\"`use_label_encoder` is deprecated in 1.7.0.\")\n"
          ]
        }
      ]
    },
    {
      "cell_type": "markdown",
      "source": [
        "Build the model on the balanced training data set.\n",
        "\n",
        "\n"
      ],
      "metadata": {
        "id": "6tSCmfkwYJSh"
      }
    },
    {
      "cell_type": "code",
      "source": [
        "evaluate_model(xgb0, independent, dependent,features)\n"
      ],
      "metadata": {
        "colab": {
          "base_uri": "https://localhost:8080/",
          "height": 653
        },
        "id": "IiBQBmlzYIaQ",
        "outputId": "92e96866-49e5-4c09-ae8b-12e275a78924"
      },
      "execution_count": null,
      "outputs": [
        {
          "output_type": "stream",
          "name": "stdout",
          "text": [
            "\n",
            "Model Report\n",
            "Accuracy : 1\n",
            "AUC Score (Balanced): 1.000000\n"
          ]
        },
        {
          "output_type": "display_data",
          "data": {
            "text/plain": [
              "<Figure size 640x480 with 1 Axes>"
            ],
            "image/png": "[encoded data removed]"
          },
          "metadata": {}
        }
      ]
    },
    {
      "cell_type": "markdown",
      "source": [
        " Evaluate the Model\n",
        "\n",
        "\n",
        "The most confusing element of PM problems is building a realistic model assessment. Because of timing and the small number of failures, understanding how the model will work once deployed in production is challenging.\n",
        "\n"
      ],
      "metadata": {
        "id": "S5Xg2oC5Ya0D"
      }
    },
    {
      "cell_type": "markdown",
      "source": [
        "Evaluate the model using an AUC and accuacy metrics.\n"
      ],
      "metadata": {
        "id": "-rCZFvoLYsUX"
      }
    },
    {
      "cell_type": "code",
      "source": [
        "df_testing=df_train_test[df_train_test['MODELING_GROUP'] == 'TESTING'].copy()\n",
        "df_training=df_train_test[df_train_test['MODELING_GROUP'] != 'TESTING'].copy()"
      ],
      "metadata": {
        "id": "qemp1RY3YaPy"
      },
      "execution_count": null,
      "outputs": []
    },
    {
      "cell_type": "markdown",
      "source": [
        "Now, we will evaluate the unbalanced training data.\n",
        "\n",
        "The AUC-ROC score is a performance metric that evaluates the model's ability to discriminate between positive and negative instances, with values ranging from 0 to 1. A score of 0.5 indicates random guessing, while a score of 1 indicates a perfect model.\n",
        "\n"
      ],
      "metadata": {
        "id": "FKtfmw4DYynJ"
      }
    },
    {
      "cell_type": "code",
      "source": [
        "df_training['P_FAIL']= xgb0.predict_proba(df_training[features])[:,1];\n",
        "df_training['Y_FAIL'] = np.where(((df_training.P_FAIL <= .50)), 0, 1)\n",
        "#Print model report:\n",
        "print(\"Accuracy : %.4g\" % metrics.accuracy_score(df_training['FAILURE_TARGET'].values, df_training['Y_FAIL']))\n",
        "print(\"AUC Score (Train): %f\" % metrics.roc_auc_score(df_training['FAILURE_TARGET'], df_training['P_FAIL']))\n"
      ],
      "metadata": {
        "colab": {
          "base_uri": "https://localhost:8080/"
        },
        "id": "m_v7HFf2YyG0",
        "outputId": "15e93973-93a1-4dda-c731-3f1904687c25"
      },
      "execution_count": null,
      "outputs": [
        {
          "output_type": "stream",
          "name": "stdout",
          "text": [
            "Accuracy : 1\n",
            "AUC Score (Train): 1.000000\n"
          ]
        }
      ]
    },
    {
      "cell_type": "code",
      "source": [
        "df_testing['P_FAIL']= xgb0.predict_proba(df_testing[features])[:,1];\n",
        "df_testing['Y_FAIL'] = np.where(((df_testing.P_FAIL <= .50)), 0, 1)\n",
        "#Print model report:\n",
        "print(\"Accuracy : %.4g\" % metrics.accuracy_score(df_testing['FAILURE_TARGET'].values, df_testing['Y_FAIL']))\n",
        "print(\"AUC Score (Train): %f\" % metrics.roc_auc_score(df_testing['FAILURE_TARGET'], df_testing['P_FAIL']))\n"
      ],
      "metadata": {
        "colab": {
          "base_uri": "https://localhost:8080/"
        },
        "id": "tYNb0DT8gzJE",
        "outputId": "d2fddfc6-d586-4063-e24b-b4acd28361f3"
      },
      "execution_count": null,
      "outputs": [
        {
          "output_type": "stream",
          "name": "stdout",
          "text": [
            "Accuracy : 0.9543\n",
            "AUC Score (Train): 0.518169\n"
          ]
        }
      ]
    },
    {
      "cell_type": "markdown",
      "source": [
        "**df_testing['P_FAIL'] = xgb0.predict_proba(df_testing[features])[:, 1]: ** This line predicts the probabilities of the positive class (label 1) for each instance in the testing dataset. predict_proba is a method in XGBoost that outputs the predicted probabilities for each class. [:, 1] slices the second column of the predicted probabilities, which corresponds to the probability of the positive class (label 1). These probabilities are then stored in the new column 'P_FAIL' in the DataFrame df_testing.\n",
        "\n",
        "**df_testing['Y_FAIL'] = np.where(((df_testing.P_FAIL <= .50)), 0, 1):** This line creates a new column 'Y_FAIL' in the DataFrame df_testing. It assigns a binary value (0 or 1) to each row based on the predicted probability 'P_FAIL'. If the probability is less than or equal to 0.50, the corresponding row will be assigned the value 0, indicating a negative prediction (not failure). If the probability is greater than 0.50, the row will be assigned the value 1, indicating a positive prediction (failure).\n",
        "\n",
        "**metrics.accuracy_score(df_testing['FAILURE_TARGET'].values, df_testing['Y_FAIL']):** This line calculates the accuracy of the model's predictions on the testing data. metrics.accuracy_score is a function from the scikit-learn library that computes the accuracy of the predicted labels compared to the true labels. The true labels are obtained from the 'FAILURE_TARGET' column in the DataFrame df_testing. The accuracy score measures the percentage of correctly classified instances in the testing data.\n",
        "\n",
        "**metrics.roc_auc_score(df_testing['FAILURE_TARGET'], df_testing['P_FAIL']): ** This line calculates the Area Under the Receiver Operating Characteristic Curve (AUC-ROC) score for the model's predictions. metrics.roc_auc_score is another function from scikit-learn that computes the AUC-ROC score using the true labels ('FAILURE_TARGET') and the predicted probabilities ('P_FAIL'). The AUC-ROC score is a performance metric that evaluates the model's ability to discriminate between positive and negative instances, with values ranging from 0 to 1. A score of 0.5 indicates random guessing, while a score of 1 indicates a perfect model."
      ],
      "metadata": {
        "id": "RseT3Oshb0kZ"
      }
    },
    {
      "cell_type": "markdown",
      "source": [
        "Evaluate the model using a simple confusion matrix.\n"
      ],
      "metadata": {
        "id": "dmAz4ojmfNXc"
      }
    },
    {
      "cell_type": "code",
      "source": [
        "print(pd.crosstab(df_testing.Y_FAIL, df_testing.EQUIPMENT_FAILURE, dropna=False))"
      ],
      "metadata": {
        "colab": {
          "base_uri": "https://localhost:8080/"
        },
        "id": "VRiwjk5lcE6f",
        "outputId": "3ae1f8f5-9d1e-40b8-af79-043674446b2b"
      },
      "execution_count": null,
      "outputs": [
        {
          "output_type": "stream",
          "name": "stdout",
          "text": [
            "EQUIPMENT_FAILURE       0    1\n",
            "Y_FAIL                        \n",
            "0                  107851  147\n",
            "1                     919    2\n"
          ]
        }
      ]
    },
    {
      "cell_type": "markdown",
      "source": [
        "The ‘EQUIPMENT_FAILURE’ variable identifies a failure on the day it occurs. Let’s say that failure occurs on Friday, and we have failure signals on Monday, Tuesday, Wednesday, and Thursday, but not on Friday. I would argue that the failure on Friday is a True Positive, given that there were four failure signals in the days leading up to the failure. However, the confusion matrix above counts Monday, Tuesday, Wednesday, and Thursday as false positives and Friday as a false negative. This cross-tab alone doesn’t give us a realistic view of how the model will perform in production.\n",
        "\n",
        "Now, we will create a confusion matrix using ‘FAILURE_TARGET.’ This variable is the predicted binary variable where the 28 days leading up to a failure are flagged as failures."
      ],
      "metadata": {
        "id": "-MwaNEeHhx2p"
      }
    },
    {
      "cell_type": "code",
      "source": [
        "print(pd.crosstab(df_testing.Y_FAIL, df_testing.FAILURE_TARGET, dropna=False))"
      ],
      "metadata": {
        "colab": {
          "base_uri": "https://localhost:8080/"
        },
        "id": "HgUhXLbhhy32",
        "outputId": "a29c1e61-9a90-4b79-d3ce-f0589945602f"
      },
      "execution_count": null,
      "outputs": [
        {
          "output_type": "stream",
          "name": "stdout",
          "text": [
            "FAILURE_TARGET       0     1\n",
            "Y_FAIL                      \n",
            "0               103894  4104\n",
            "1                  874    47\n"
          ]
        }
      ]
    },
    {
      "cell_type": "markdown",
      "source": [
        "Each failure is represented 28 different times. If a machine fails on Friday the 28th, the previous twenty-seven days of the month are also flagged as a failure. This clearly won’t work, will it?\n",
        "\n",
        "The example above clearly does not reflect what we can expect when we push this model into production. To get a realistic evaluation of the model, we must have practical definitions of false positives, false negatives, true negatives, and false negatives.\n",
        "\n"
      ],
      "metadata": {
        "id": "ID-ZcYYGiTvI"
      }
    },
    {
      "cell_type": "markdown",
      "source": [
        "Using Heuristics to Define a False Positive, True Positive, False Negative, and True Negative."
      ],
      "metadata": {
        "id": "GC7xXn5Eicaa"
      }
    },
    {
      "cell_type": "code",
      "source": [
        "forecast_window=90\n",
        "cutoff=0.50"
      ],
      "metadata": {
        "id": "M7gAv-2AiUyZ"
      },
      "execution_count": null,
      "outputs": []
    },
    {
      "cell_type": "code",
      "source": [
        "df=df_train_test\n",
        "df['P_FAIL']= xgb0.predict_proba(df[features])[:,1];\n",
        "df['Y_FAIL'] = np.where(((df.P_FAIL <= cutoff)), 0, 1)"
      ],
      "metadata": {
        "id": "0Qsi25sZkDWy"
      },
      "execution_count": null,
      "outputs": []
    },
    {
      "cell_type": "markdown",
      "source": [
        "Eliminate redundant failure signals\n",
        "\n"
      ],
      "metadata": {
        "id": "AIdNO_dHkOAO"
      }
    },
    {
      "cell_type": "code",
      "source": [
        "xx=df\n",
        "xx=xx.sort_values(by=['ID','DATE'], ascending=[True, True])"
      ],
      "metadata": {
        "id": "4bNg6dUEkQHf"
      },
      "execution_count": null,
      "outputs": []
    },
    {
      "cell_type": "code",
      "source": [
        "#Create a unique list of machines\n",
        "aa=xx\n",
        "pd_id=aa.drop_duplicates(subset='ID')\n",
        "pd_id=pd_id[['ID']]\n",
        "pd_id.shape"
      ],
      "metadata": {
        "colab": {
          "base_uri": "https://localhost:8080/"
        },
        "id": "QD__mZ1RkZB-",
        "outputId": "6f5b9c6d-79a4-4227-db92-dc1ee05c4e5c"
      },
      "execution_count": null,
      "outputs": [
        {
          "output_type": "execute_result",
          "data": {
            "text/plain": [
              "(295, 1)"
            ]
          },
          "metadata": {},
          "execution_count": 72
        }
      ]
    },
    {
      "cell_type": "code",
      "source": [
        "#Label each machine with a sequential number. We need the id to be sequential for use in a later step.\n",
        "pd_id=pd_id.reset_index(drop=True)\n",
        "pd_id=pd_id.reset_index(drop=False)\n",
        "pd_id=pd_id.rename(columns={\"index\": \"SCOOBYDOO\"})\n",
        "pd_id['SCOOBYDOO']=pd_id['SCOOBYDOO']+1\n",
        "pd_id.head()"
      ],
      "metadata": {
        "colab": {
          "base_uri": "https://localhost:8080/",
          "height": 206
        },
        "id": "wtZYnd12kjCH",
        "outputId": "44ca0e7e-a031-4333-e71e-c619444df6f3"
      },
      "execution_count": null,
      "outputs": [
        {
          "output_type": "execute_result",
          "data": {
            "text/plain": [
              "   SCOOBYDOO      ID\n",
              "0          1  100001\n",
              "1          2  100002\n",
              "2          3  100014\n",
              "3          4  100017\n",
              "4          5  100018"
            ],
            "text/html": [
              "\n",
              "\n",
              "  <div id=\"df-c6037a59-ab87-41e5-be96-7089c2271808\">\n",
              "    <div class=\"colab-df-container\">\n",
              "      <div>\n",
              "<style scoped>\n",
              "    .dataframe tbody tr th:only-of-type {\n",
              "        vertical-align: middle;\n",
              "    }\n",
              "\n",
              "    .dataframe tbody tr th {\n",
              "        vertical-align: top;\n",
              "    }\n",
              "\n",
              "    .dataframe thead th {\n",
              "        text-align: right;\n",
              "    }\n",
              "</style>\n",
              "<table border=\"1\" class=\"dataframe\">\n",
              "  <thead>\n",
              "    <tr style=\"text-align: right;\">\n",
              "      <th></th>\n",
              "      <th>SCOOBYDOO</th>\n",
              "      <th>ID</th>\n",
              "    </tr>\n",
              "  </thead>\n",
              "  <tbody>\n",
              "    <tr>\n",
              "      <th>0</th>\n",
              "      <td>1</td>\n",
              "      <td>100001</td>\n",
              "    </tr>\n",
              "    <tr>\n",
              "      <th>1</th>\n",
              "      <td>2</td>\n",
              "      <td>100002</td>\n",
              "    </tr>\n",
              "    <tr>\n",
              "      <th>2</th>\n",
              "      <td>3</td>\n",
              "      <td>100014</td>\n",
              "    </tr>\n",
              "    <tr>\n",
              "      <th>3</th>\n",
              "      <td>4</td>\n",
              "      <td>100017</td>\n",
              "    </tr>\n",
              "    <tr>\n",
              "      <th>4</th>\n",
              "      <td>5</td>\n",
              "      <td>100018</td>\n",
              "    </tr>\n",
              "  </tbody>\n",
              "</table>\n",
              "</div>\n",
              "      <button class=\"colab-df-convert\" onclick=\"convertToInteractive('df-c6037a59-ab87-41e5-be96-7089c2271808')\"\n",
              "              title=\"Convert this dataframe to an interactive table.\"\n",
              "              style=\"display:none;\">\n",
              "\n",
              "  <svg xmlns=\"http://www.w3.org/2000/svg\" height=\"24px\"viewBox=\"0 0 24 24\"\n",
              "       width=\"24px\">\n",
              "    <path d=\"M0 0h24v24H0V0z\" fill=\"none\"/>\n",
              "    <path d=\"M18.56 5.44l.94 2.06.94-2.06 2.06-.94-2.06-.94-.94-2.06-.94 2.06-2.06.94zm-11 1L8.5 8.5l.94-2.06 2.06-.94-2.06-.94L8.5 2.5l-.94 2.06-2.06.94zm10 10l.94 2.06.94-2.06 2.06-.94-2.06-.94-.94-2.06-.94 2.06-2.06.94z\"/><path d=\"M17.41 7.96l-1.37-1.37c-.4-.4-.92-.59-1.43-.59-.52 0-1.04.2-1.43.59L10.3 9.45l-7.72 7.72c-.78.78-.78 2.05 0 2.83L4 21.41c.39.39.9.59 1.41.59.51 0 1.02-.2 1.41-.59l7.78-7.78 2.81-2.81c.8-.78.8-2.07 0-2.86zM5.41 20L4 18.59l7.72-7.72 1.47 1.35L5.41 20z\"/>\n",
              "  </svg>\n",
              "      </button>\n",
              "\n",
              "\n",
              "\n",
              "    <div id=\"df-3948445a-4be0-4172-a658-708d5f2a7fa3\">\n",
              "      <button class=\"colab-df-quickchart\" onclick=\"quickchart('df-3948445a-4be0-4172-a658-708d5f2a7fa3')\"\n",
              "              title=\"Suggest charts.\"\n",
              "              style=\"display:none;\">\n",
              "\n",
              "<svg xmlns=\"http://www.w3.org/2000/svg\" height=\"24px\"viewBox=\"0 0 24 24\"\n",
              "     width=\"24px\">\n",
              "    <g>\n",
              "        <path d=\"M19 3H5c-1.1 0-2 .9-2 2v14c0 1.1.9 2 2 2h14c1.1 0 2-.9 2-2V5c0-1.1-.9-2-2-2zM9 17H7v-7h2v7zm4 0h-2V7h2v10zm4 0h-2v-4h2v4z\"/>\n",
              "    </g>\n",
              "</svg>\n",
              "      </button>\n",
              "    </div>\n",
              "\n",
              "<style>\n",
              "  .colab-df-quickchart {\n",
              "    background-color: #E8F0FE;\n",
              "    border: none;\n",
              "    border-radius: 50%;\n",
              "    cursor: pointer;\n",
              "    display: none;\n",
              "    fill: #1967D2;\n",
              "    height: 32px;\n",
              "    padding: 0 0 0 0;\n",
              "    width: 32px;\n",
              "  }\n",
              "\n",
              "  .colab-df-quickchart:hover {\n",
              "    background-color: #E2EBFA;\n",
              "    box-shadow: 0px 1px 2px rgba(60, 64, 67, 0.3), 0px 1px 3px 1px rgba(60, 64, 67, 0.15);\n",
              "    fill: #174EA6;\n",
              "  }\n",
              "\n",
              "  [theme=dark] .colab-df-quickchart {\n",
              "    background-color: #3B4455;\n",
              "    fill: #D2E3FC;\n",
              "  }\n",
              "\n",
              "  [theme=dark] .colab-df-quickchart:hover {\n",
              "    background-color: #434B5C;\n",
              "    box-shadow: 0px 1px 3px 1px rgba(0, 0, 0, 0.15);\n",
              "    filter: drop-shadow(0px 1px 2px rgba(0, 0, 0, 0.3));\n",
              "    fill: #FFFFFF;\n",
              "  }\n",
              "</style>\n",
              "\n",
              "    <script>\n",
              "      async function quickchart(key) {\n",
              "        const containerElement = document.querySelector('#' + key);\n",
              "        const charts = await google.colab.kernel.invokeFunction(\n",
              "            'suggestCharts', [key], {});\n",
              "      }\n",
              "    </script>\n",
              "\n",
              "      <script>\n",
              "\n",
              "function displayQuickchartButton(domScope) {\n",
              "  let quickchartButtonEl =\n",
              "    domScope.querySelector('#df-3948445a-4be0-4172-a658-708d5f2a7fa3 button.colab-df-quickchart');\n",
              "  quickchartButtonEl.style.display =\n",
              "    google.colab.kernel.accessAllowed ? 'block' : 'none';\n",
              "}\n",
              "\n",
              "        displayQuickchartButton(document);\n",
              "      </script>\n",
              "      <style>\n",
              "    .colab-df-container {\n",
              "      display:flex;\n",
              "      flex-wrap:wrap;\n",
              "      gap: 12px;\n",
              "    }\n",
              "\n",
              "    .colab-df-convert {\n",
              "      background-color: #E8F0FE;\n",
              "      border: none;\n",
              "      border-radius: 50%;\n",
              "      cursor: pointer;\n",
              "      display: none;\n",
              "      fill: #1967D2;\n",
              "      height: 32px;\n",
              "      padding: 0 0 0 0;\n",
              "      width: 32px;\n",
              "    }\n",
              "\n",
              "    .colab-df-convert:hover {\n",
              "      background-color: #E2EBFA;\n",
              "      box-shadow: 0px 1px 2px rgba(60, 64, 67, 0.3), 0px 1px 3px 1px rgba(60, 64, 67, 0.15);\n",
              "      fill: #174EA6;\n",
              "    }\n",
              "\n",
              "    [theme=dark] .colab-df-convert {\n",
              "      background-color: #3B4455;\n",
              "      fill: #D2E3FC;\n",
              "    }\n",
              "\n",
              "    [theme=dark] .colab-df-convert:hover {\n",
              "      background-color: #434B5C;\n",
              "      box-shadow: 0px 1px 3px 1px rgba(0, 0, 0, 0.15);\n",
              "      filter: drop-shadow(0px 1px 2px rgba(0, 0, 0, 0.3));\n",
              "      fill: #FFFFFF;\n",
              "    }\n",
              "  </style>\n",
              "\n",
              "      <script>\n",
              "        const buttonEl =\n",
              "          document.querySelector('#df-c6037a59-ab87-41e5-be96-7089c2271808 button.colab-df-convert');\n",
              "        buttonEl.style.display =\n",
              "          google.colab.kernel.accessAllowed ? 'block' : 'none';\n",
              "\n",
              "        async function convertToInteractive(key) {\n",
              "          const element = document.querySelector('#df-c6037a59-ab87-41e5-be96-7089c2271808');\n",
              "          const dataTable =\n",
              "            await google.colab.kernel.invokeFunction('convertToInteractive',\n",
              "                                                     [key], {});\n",
              "          if (!dataTable) return;\n",
              "\n",
              "          const docLinkHtml = 'Like what you see? Visit the ' +\n",
              "            '<a target=\"_blank\" href=https://colab.research.google.com/notebooks/data_table.ipynb>data table notebook</a>'\n",
              "            + ' to learn more about interactive tables.';\n",
              "          element.innerHTML = '';\n",
              "          dataTable['output_type'] = 'display_data';\n",
              "          await google.colab.output.renderOutput(dataTable, element);\n",
              "          const docLink = document.createElement('div');\n",
              "          docLink.innerHTML = docLinkHtml;\n",
              "          element.appendChild(docLink);\n",
              "        }\n",
              "      </script>\n",
              "    </div>\n",
              "  </div>\n"
            ]
          },
          "metadata": {},
          "execution_count": 73
        }
      ]
    },
    {
      "cell_type": "code",
      "source": [
        "#Grab the max number of machines. We will use this in a loop in a later step.\n",
        "\n",
        "column = pd_id['SCOOBYDOO']\n",
        "max_value = column.max()+1\n",
        "max_value"
      ],
      "metadata": {
        "colab": {
          "base_uri": "https://localhost:8080/"
        },
        "id": "ZAXqU5WIkrzr",
        "outputId": "1ad52a63-0c16-43b1-d0d7-b4af7f466444"
      },
      "execution_count": null,
      "outputs": [
        {
          "output_type": "execute_result",
          "data": {
            "text/plain": [
              "296"
            ]
          },
          "metadata": {},
          "execution_count": 75
        }
      ]
    },
    {
      "cell_type": "code",
      "source": [
        "#Append the sequencial number to the main file. Now each machine a sequencial id.\n",
        "xx=xx.sort_values(by=['ID'], ascending=[True])\n",
        "pd_id=pd_id.sort_values(by=['ID'], ascending=[True])\n",
        "xx =xx.merge(pd_id, on=['ID'], how='inner')\n",
        "xx.head()\n"
      ],
      "metadata": {
        "colab": {
          "base_uri": "https://localhost:8080/",
          "height": 386
        },
        "id": "tee7vwMNky3a",
        "outputId": "648ca310-7bc3-4293-cc51-207abbfb34a4"
      },
      "execution_count": null,
      "outputs": [
        {
          "output_type": "execute_result",
          "data": {
            "text/plain": [
              "   index      ID       DATE REGION_CLUSTER MAINTENANCE_VENDOR MANUFACTURER  \\\n",
              "0      0  100001 2014-12-02              G                  O            Y   \n",
              "1      1  100001 2016-03-29              G                  O            Y   \n",
              "2      2  100001 2016-03-30              G                  O            Y   \n",
              "3      3  100001 2016-03-31              G                  O            Y   \n",
              "4      4  100001 2016-04-01              G                  O            Y   \n",
              "\n",
              "   WELL_GROUP     S15         S17    S13  ...  WG_2  WG_3  WG_4  WG_5  WG_6  \\\n",
              "0           1  11.088  145.223448  39.34  ...     0     0     0     0     0   \n",
              "1           1  18.960    0.000000  38.87  ...     0     0     0     0     0   \n",
              "2           1  29.040    0.000000  37.36  ...     0     0     0     0     0   \n",
              "3           1  18.000    0.000000  38.81  ...     0     0     0     0     0   \n",
              "4           1  26.160    0.000000  39.47  ...     0     0     0     0     0   \n",
              "\n",
              "   WG_7  WG_8    P_FAIL  Y_FAIL  SCOOBYDOO  \n",
              "0     0     0  0.000008       0          1  \n",
              "1     0     0  0.009255       0          1  \n",
              "2     0     0  0.018464       0          1  \n",
              "3     0     0  0.002859       0          1  \n",
              "4     0     0  0.000043       0          1  \n",
              "\n",
              "[5 rows x 95 columns]"
            ],
            "text/html": [
              "\n",
              "\n",
              "  <div id=\"df-b4ddc14a-2c28-4a1c-81b7-2a5d66d8345f\">\n",
              "    <div class=\"colab-df-container\">\n",
              "      <div>\n",
              "<style scoped>\n",
              "    .dataframe tbody tr th:only-of-type {\n",
              "        vertical-align: middle;\n",
              "    }\n",
              "\n",
              "    .dataframe tbody tr th {\n",
              "        vertical-align: top;\n",
              "    }\n",
              "\n",
              "    .dataframe thead th {\n",
              "        text-align: right;\n",
              "    }\n",
              "</style>\n",
              "<table border=\"1\" class=\"dataframe\">\n",
              "  <thead>\n",
              "    <tr style=\"text-align: right;\">\n",
              "      <th></th>\n",
              "      <th>index</th>\n",
              "      <th>ID</th>\n",
              "      <th>DATE</th>\n",
              "      <th>REGION_CLUSTER</th>\n",
              "      <th>MAINTENANCE_VENDOR</th>\n",
              "      <th>MANUFACTURER</th>\n",
              "      <th>WELL_GROUP</th>\n",
              "      <th>S15</th>\n",
              "      <th>S17</th>\n",
              "      <th>S13</th>\n",
              "      <th>...</th>\n",
              "      <th>WG_2</th>\n",
              "      <th>WG_3</th>\n",
              "      <th>WG_4</th>\n",
              "      <th>WG_5</th>\n",
              "      <th>WG_6</th>\n",
              "      <th>WG_7</th>\n",
              "      <th>WG_8</th>\n",
              "      <th>P_FAIL</th>\n",
              "      <th>Y_FAIL</th>\n",
              "      <th>SCOOBYDOO</th>\n",
              "    </tr>\n",
              "  </thead>\n",
              "  <tbody>\n",
              "    <tr>\n",
              "      <th>0</th>\n",
              "      <td>0</td>\n",
              "      <td>100001</td>\n",
              "      <td>2014-12-02</td>\n",
              "      <td>G</td>\n",
              "      <td>O</td>\n",
              "      <td>Y</td>\n",
              "      <td>1</td>\n",
              "      <td>11.088</td>\n",
              "      <td>145.223448</td>\n",
              "      <td>39.34</td>\n",
              "      <td>...</td>\n",
              "      <td>0</td>\n",
              "      <td>0</td>\n",
              "      <td>0</td>\n",
              "      <td>0</td>\n",
              "      <td>0</td>\n",
              "      <td>0</td>\n",
              "      <td>0</td>\n",
              "      <td>0.000008</td>\n",
              "      <td>0</td>\n",
              "      <td>1</td>\n",
              "    </tr>\n",
              "    <tr>\n",
              "      <th>1</th>\n",
              "      <td>1</td>\n",
              "      <td>100001</td>\n",
              "      <td>2016-03-29</td>\n",
              "      <td>G</td>\n",
              "      <td>O</td>\n",
              "      <td>Y</td>\n",
              "      <td>1</td>\n",
              "      <td>18.960</td>\n",
              "      <td>0.000000</td>\n",
              "      <td>38.87</td>\n",
              "      <td>...</td>\n",
              "      <td>0</td>\n",
              "      <td>0</td>\n",
              "      <td>0</td>\n",
              "      <td>0</td>\n",
              "      <td>0</td>\n",
              "      <td>0</td>\n",
              "      <td>0</td>\n",
              "      <td>0.009255</td>\n",
              "      <td>0</td>\n",
              "      <td>1</td>\n",
              "    </tr>\n",
              "    <tr>\n",
              "      <th>2</th>\n",
              "      <td>2</td>\n",
              "      <td>100001</td>\n",
              "      <td>2016-03-30</td>\n",
              "      <td>G</td>\n",
              "      <td>O</td>\n",
              "      <td>Y</td>\n",
              "      <td>1</td>\n",
              "      <td>29.040</td>\n",
              "      <td>0.000000</td>\n",
              "      <td>37.36</td>\n",
              "      <td>...</td>\n",
              "      <td>0</td>\n",
              "      <td>0</td>\n",
              "      <td>0</td>\n",
              "      <td>0</td>\n",
              "      <td>0</td>\n",
              "      <td>0</td>\n",
              "      <td>0</td>\n",
              "      <td>0.018464</td>\n",
              "      <td>0</td>\n",
              "      <td>1</td>\n",
              "    </tr>\n",
              "    <tr>\n",
              "      <th>3</th>\n",
              "      <td>3</td>\n",
              "      <td>100001</td>\n",
              "      <td>2016-03-31</td>\n",
              "      <td>G</td>\n",
              "      <td>O</td>\n",
              "      <td>Y</td>\n",
              "      <td>1</td>\n",
              "      <td>18.000</td>\n",
              "      <td>0.000000</td>\n",
              "      <td>38.81</td>\n",
              "      <td>...</td>\n",
              "      <td>0</td>\n",
              "      <td>0</td>\n",
              "      <td>0</td>\n",
              "      <td>0</td>\n",
              "      <td>0</td>\n",
              "      <td>0</td>\n",
              "      <td>0</td>\n",
              "      <td>0.002859</td>\n",
              "      <td>0</td>\n",
              "      <td>1</td>\n",
              "    </tr>\n",
              "    <tr>\n",
              "      <th>4</th>\n",
              "      <td>4</td>\n",
              "      <td>100001</td>\n",
              "      <td>2016-04-01</td>\n",
              "      <td>G</td>\n",
              "      <td>O</td>\n",
              "      <td>Y</td>\n",
              "      <td>1</td>\n",
              "      <td>26.160</td>\n",
              "      <td>0.000000</td>\n",
              "      <td>39.47</td>\n",
              "      <td>...</td>\n",
              "      <td>0</td>\n",
              "      <td>0</td>\n",
              "      <td>0</td>\n",
              "      <td>0</td>\n",
              "      <td>0</td>\n",
              "      <td>0</td>\n",
              "      <td>0</td>\n",
              "      <td>0.000043</td>\n",
              "      <td>0</td>\n",
              "      <td>1</td>\n",
              "    </tr>\n",
              "  </tbody>\n",
              "</table>\n",
              "<p>5 rows × 95 columns</p>\n",
              "</div>\n",
              "      <button class=\"colab-df-convert\" onclick=\"convertToInteractive('df-b4ddc14a-2c28-4a1c-81b7-2a5d66d8345f')\"\n",
              "              title=\"Convert this dataframe to an interactive table.\"\n",
              "              style=\"display:none;\">\n",
              "\n",
              "  <svg xmlns=\"http://www.w3.org/2000/svg\" height=\"24px\"viewBox=\"0 0 24 24\"\n",
              "       width=\"24px\">\n",
              "    <path d=\"M0 0h24v24H0V0z\" fill=\"none\"/>\n",
              "    <path d=\"M18.56 5.44l.94 2.06.94-2.06 2.06-.94-2.06-.94-.94-2.06-.94 2.06-2.06.94zm-11 1L8.5 8.5l.94-2.06 2.06-.94-2.06-.94L8.5 2.5l-.94 2.06-2.06.94zm10 10l.94 2.06.94-2.06 2.06-.94-2.06-.94-.94-2.06-.94 2.06-2.06.94z\"/><path d=\"M17.41 7.96l-1.37-1.37c-.4-.4-.92-.59-1.43-.59-.52 0-1.04.2-1.43.59L10.3 9.45l-7.72 7.72c-.78.78-.78 2.05 0 2.83L4 21.41c.39.39.9.59 1.41.59.51 0 1.02-.2 1.41-.59l7.78-7.78 2.81-2.81c.8-.78.8-2.07 0-2.86zM5.41 20L4 18.59l7.72-7.72 1.47 1.35L5.41 20z\"/>\n",
              "  </svg>\n",
              "      </button>\n",
              "\n",
              "\n",
              "\n",
              "    <div id=\"df-02f1334d-8f83-4c43-89c0-d769b6c8f506\">\n",
              "      <button class=\"colab-df-quickchart\" onclick=\"quickchart('df-02f1334d-8f83-4c43-89c0-d769b6c8f506')\"\n",
              "              title=\"Suggest charts.\"\n",
              "              style=\"display:none;\">\n",
              "\n",
              "<svg xmlns=\"http://www.w3.org/2000/svg\" height=\"24px\"viewBox=\"0 0 24 24\"\n",
              "     width=\"24px\">\n",
              "    <g>\n",
              "        <path d=\"M19 3H5c-1.1 0-2 .9-2 2v14c0 1.1.9 2 2 2h14c1.1 0 2-.9 2-2V5c0-1.1-.9-2-2-2zM9 17H7v-7h2v7zm4 0h-2V7h2v10zm4 0h-2v-4h2v4z\"/>\n",
              "    </g>\n",
              "</svg>\n",
              "      </button>\n",
              "    </div>\n",
              "\n",
              "<style>\n",
              "  .colab-df-quickchart {\n",
              "    background-color: #E8F0FE;\n",
              "    border: none;\n",
              "    border-radius: 50%;\n",
              "    cursor: pointer;\n",
              "    display: none;\n",
              "    fill: #1967D2;\n",
              "    height: 32px;\n",
              "    padding: 0 0 0 0;\n",
              "    width: 32px;\n",
              "  }\n",
              "\n",
              "  .colab-df-quickchart:hover {\n",
              "    background-color: #E2EBFA;\n",
              "    box-shadow: 0px 1px 2px rgba(60, 64, 67, 0.3), 0px 1px 3px 1px rgba(60, 64, 67, 0.15);\n",
              "    fill: #174EA6;\n",
              "  }\n",
              "\n",
              "  [theme=dark] .colab-df-quickchart {\n",
              "    background-color: #3B4455;\n",
              "    fill: #D2E3FC;\n",
              "  }\n",
              "\n",
              "  [theme=dark] .colab-df-quickchart:hover {\n",
              "    background-color: #434B5C;\n",
              "    box-shadow: 0px 1px 3px 1px rgba(0, 0, 0, 0.15);\n",
              "    filter: drop-shadow(0px 1px 2px rgba(0, 0, 0, 0.3));\n",
              "    fill: #FFFFFF;\n",
              "  }\n",
              "</style>\n",
              "\n",
              "    <script>\n",
              "      async function quickchart(key) {\n",
              "        const containerElement = document.querySelector('#' + key);\n",
              "        const charts = await google.colab.kernel.invokeFunction(\n",
              "            'suggestCharts', [key], {});\n",
              "      }\n",
              "    </script>\n",
              "\n",
              "      <script>\n",
              "\n",
              "function displayQuickchartButton(domScope) {\n",
              "  let quickchartButtonEl =\n",
              "    domScope.querySelector('#df-02f1334d-8f83-4c43-89c0-d769b6c8f506 button.colab-df-quickchart');\n",
              "  quickchartButtonEl.style.display =\n",
              "    google.colab.kernel.accessAllowed ? 'block' : 'none';\n",
              "}\n",
              "\n",
              "        displayQuickchartButton(document);\n",
              "      </script>\n",
              "      <style>\n",
              "    .colab-df-container {\n",
              "      display:flex;\n",
              "      flex-wrap:wrap;\n",
              "      gap: 12px;\n",
              "    }\n",
              "\n",
              "    .colab-df-convert {\n",
              "      background-color: #E8F0FE;\n",
              "      border: none;\n",
              "      border-radius: 50%;\n",
              "      cursor: pointer;\n",
              "      display: none;\n",
              "      fill: #1967D2;\n",
              "      height: 32px;\n",
              "      padding: 0 0 0 0;\n",
              "      width: 32px;\n",
              "    }\n",
              "\n",
              "    .colab-df-convert:hover {\n",
              "      background-color: #E2EBFA;\n",
              "      box-shadow: 0px 1px 2px rgba(60, 64, 67, 0.3), 0px 1px 3px 1px rgba(60, 64, 67, 0.15);\n",
              "      fill: #174EA6;\n",
              "    }\n",
              "\n",
              "    [theme=dark] .colab-df-convert {\n",
              "      background-color: #3B4455;\n",
              "      fill: #D2E3FC;\n",
              "    }\n",
              "\n",
              "    [theme=dark] .colab-df-convert:hover {\n",
              "      background-color: #434B5C;\n",
              "      box-shadow: 0px 1px 3px 1px rgba(0, 0, 0, 0.15);\n",
              "      filter: drop-shadow(0px 1px 2px rgba(0, 0, 0, 0.3));\n",
              "      fill: #FFFFFF;\n",
              "    }\n",
              "  </style>\n",
              "\n",
              "      <script>\n",
              "        const buttonEl =\n",
              "          document.querySelector('#df-b4ddc14a-2c28-4a1c-81b7-2a5d66d8345f button.colab-df-convert');\n",
              "        buttonEl.style.display =\n",
              "          google.colab.kernel.accessAllowed ? 'block' : 'none';\n",
              "\n",
              "        async function convertToInteractive(key) {\n",
              "          const element = document.querySelector('#df-b4ddc14a-2c28-4a1c-81b7-2a5d66d8345f');\n",
              "          const dataTable =\n",
              "            await google.colab.kernel.invokeFunction('convertToInteractive',\n",
              "                                                     [key], {});\n",
              "          if (!dataTable) return;\n",
              "\n",
              "          const docLinkHtml = 'Like what you see? Visit the ' +\n",
              "            '<a target=\"_blank\" href=https://colab.research.google.com/notebooks/data_table.ipynb>data table notebook</a>'\n",
              "            + ' to learn more about interactive tables.';\n",
              "          element.innerHTML = '';\n",
              "          dataTable['output_type'] = 'display_data';\n",
              "          await google.colab.output.renderOutput(dataTable, element);\n",
              "          const docLink = document.createElement('div');\n",
              "          docLink.innerHTML = docLinkHtml;\n",
              "          element.appendChild(docLink);\n",
              "        }\n",
              "      </script>\n",
              "    </div>\n",
              "  </div>\n"
            ]
          },
          "metadata": {},
          "execution_count": 76
        }
      ]
    },
    {
      "cell_type": "code",
      "source": [
        "#Sort the data by ID and Date and reset the index of the dataframe so it matches the sort.\n",
        "xx=xx.sort_values(by=['ID','DATE'], ascending=[True,True])\n",
        "#reset index\n",
        "xx=xx.reset_index(drop=True)"
      ],
      "metadata": {
        "id": "0JvlWF5ak4JS"
      },
      "execution_count": null,
      "outputs": []
    },
    {
      "cell_type": "markdown",
      "source": [
        "The next few steps assign a new failure indicator that incorporates the forecast window. Note that this calculation occurs at a machine level. Doing this keeps a signal from one machine affecting another machine.\n",
        "\n",
        "This loop takes a while to run.\n",
        "\n",
        "The output is a new failure indicator called “Y_FAILZ.” This failure signal incorporates the forecast window and will not occur more than once every 90 days."
      ],
      "metadata": {
        "id": "0rh_YkthlCJW"
      }
    },
    {
      "cell_type": "code",
      "source": [
        "#create a null dataframe for the next step\n",
        "df_fred=xx\n",
        "df_fred['Y_FAIL_sumxx']=0\n",
        "df_fred=df_fred[df_fred['SCOOBYDOO'] == max_value+1]\n",
        "df_fred.shape\n",
        "#sum the number of signals occuring over the last 90 days for each machine individually\n",
        "for x in range(max_value):\n",
        "        dffx=xx[xx['SCOOBYDOO'] ==x]\n",
        "        dff=dffx.copy()\n",
        "        dff['Y_FAIL_sumxx'] =(dff['Y_FAIL'].rolling(min_periods=1, window=(forecast_window)).sum())\n",
        "        df_fred= pd.concat([df_fred,dff])\n",
        "\n",
        "xx=df_fred\n",
        "# if a signal has occured in the last 90 days, the signal is 0.\n",
        "xx['Y_FAILZ']=np.where((xx.Y_FAIL_sumxx>1), 0, xx.Y_FAIL)\n",
        "df=xx"
      ],
      "metadata": {
        "id": "51JTmQALlGoh"
      },
      "execution_count": null,
      "outputs": []
    },
    {
      "cell_type": "markdown",
      "source": [
        "Identify the machine id for each signal. Identify the date of the failure signal."
      ],
      "metadata": {
        "id": "7GKRGuvqlNA5"
      }
    },
    {
      "cell_type": "code",
      "source": [
        "xx=df\n",
        "xx=xx.sort_values(by=['ID','DATE'], ascending=[True, True])\n"
      ],
      "metadata": {
        "id": "dzyYpV7jlN2L"
      },
      "execution_count": null,
      "outputs": []
    },
    {
      "cell_type": "code",
      "source": [
        "#Create signal id with the cumsum function.\n",
        "\n",
        "xx['SIGNAL_ID'] = xx['Y_FAILZ'].cumsum()\n"
      ],
      "metadata": {
        "id": "jiQwEHVGlRNd"
      },
      "execution_count": null,
      "outputs": []
    },
    {
      "cell_type": "markdown",
      "source": [
        "Pull the records with a signal into a different data frame, create a new field that identifies the date of each signal (SIGNAL_DATE) and identify the machine ID Associated with each signal (ID_OF_SIGNAL)."
      ],
      "metadata": {
        "id": "Vw0spAuFlc31"
      }
    },
    {
      "cell_type": "code",
      "source": [
        "df_signals=xx[xx['Y_FAILZ'] == 1]\n",
        "df_signal_date=df_signals[['SIGNAL_ID','DATE','ID']]\n",
        "df_signal_date=df_signal_date.rename(index=str, columns={\"DATE\": \"SIGNAL_DATE\"})\n",
        "df_signal_date=df_signal_date.rename(index=str, columns={\"ID\": \"ID_OF_SIGNAL\"})"
      ],
      "metadata": {
        "id": "LO96L3u4lcRE"
      },
      "execution_count": null,
      "outputs": []
    },
    {
      "cell_type": "markdown",
      "source": [
        "Append ID_OF_SIGNAL and SIGNAL_DATE to the original Dataframe based on the SIGNAL_ID."
      ],
      "metadata": {
        "id": "OdUYHH9Hlj_Y"
      }
    },
    {
      "cell_type": "code",
      "source": [
        "xx =xx.merge(df_signal_date, on=['SIGNAL_ID'], how='outer')\n",
        "df=xx.copy()"
      ],
      "metadata": {
        "id": "wfTvWy5tljXx"
      },
      "execution_count": null,
      "outputs": []
    },
    {
      "cell_type": "code",
      "source": [
        "df=df[['DATE', 'ID', 'EQUIPMENT_FAILURE', 'FAILURE_TARGET','FAILURE_DATE',\n",
        " 'P_FAIL', 'Y_FAILZ','SIGNAL_ID',\n",
        " 'SIGNAL_DATE','ID_OF_SIGNAL','MODELING_GROUP']]"
      ],
      "metadata": {
        "id": "pqtQznorlpRK"
      },
      "execution_count": null,
      "outputs": []
    },
    {
      "cell_type": "markdown",
      "source": [
        "Create a field called “Warning” that indicates the time from signal to failure.\n",
        "\n"
      ],
      "metadata": {
        "id": "5pfCsvMVltuR"
      }
    },
    {
      "cell_type": "code",
      "source": [
        "df['C'] = df['FAILURE_DATE'] - df['SIGNAL_DATE'].copy()\n",
        "df['WARNING'] = df['C'] / np.timedelta64(1, 'D').copy()\n",
        "df.head()"
      ],
      "metadata": {
        "colab": {
          "base_uri": "https://localhost:8080/",
          "height": 357
        },
        "id": "v6CKSn7mlsOr",
        "outputId": "e2a55181-ab38-448a-d646-fb8c8b96fec2"
      },
      "execution_count": null,
      "outputs": [
        {
          "output_type": "execute_result",
          "data": {
            "text/plain": [
              "        DATE      ID  EQUIPMENT_FAILURE  FAILURE_TARGET FAILURE_DATE  \\\n",
              "0 2014-12-02  100001                  0               0   2015-04-24   \n",
              "1 2014-12-03  100001                  0               0   2015-04-24   \n",
              "2 2014-12-04  100001                  0               0   2015-04-24   \n",
              "3 2014-12-05  100001                  0               0   2015-04-24   \n",
              "4 2014-12-06  100001                  0               0   2015-04-24   \n",
              "\n",
              "         P_FAIL  Y_FAILZ  SIGNAL_ID SIGNAL_DATE  ID_OF_SIGNAL MODELING_GROUP  \\\n",
              "0  8.063382e-06        0          0         NaT           NaN        TESTING   \n",
              "1  4.159480e-07        0          0         NaT           NaN        TESTING   \n",
              "2  1.069239e-06        0          0         NaT           NaN        TESTING   \n",
              "3  2.323576e-04        0          0         NaT           NaN        TESTING   \n",
              "4  1.314291e-04        0          0         NaT           NaN        TESTING   \n",
              "\n",
              "    C  WARNING  \n",
              "0 NaT      NaN  \n",
              "1 NaT      NaN  \n",
              "2 NaT      NaN  \n",
              "3 NaT      NaN  \n",
              "4 NaT      NaN  "
            ],
            "text/html": [
              "\n",
              "\n",
              "  <div id=\"df-972b8e0e-c77e-41d6-81fb-a6b26db41c74\">\n",
              "    <div class=\"colab-df-container\">\n",
              "      <div>\n",
              "<style scoped>\n",
              "    .dataframe tbody tr th:only-of-type {\n",
              "        vertical-align: middle;\n",
              "    }\n",
              "\n",
              "    .dataframe tbody tr th {\n",
              "        vertical-align: top;\n",
              "    }\n",
              "\n",
              "    .dataframe thead th {\n",
              "        text-align: right;\n",
              "    }\n",
              "</style>\n",
              "<table border=\"1\" class=\"dataframe\">\n",
              "  <thead>\n",
              "    <tr style=\"text-align: right;\">\n",
              "      <th></th>\n",
              "      <th>DATE</th>\n",
              "      <th>ID</th>\n",
              "      <th>EQUIPMENT_FAILURE</th>\n",
              "      <th>FAILURE_TARGET</th>\n",
              "      <th>FAILURE_DATE</th>\n",
              "      <th>P_FAIL</th>\n",
              "      <th>Y_FAILZ</th>\n",
              "      <th>SIGNAL_ID</th>\n",
              "      <th>SIGNAL_DATE</th>\n",
              "      <th>ID_OF_SIGNAL</th>\n",
              "      <th>MODELING_GROUP</th>\n",
              "      <th>C</th>\n",
              "      <th>WARNING</th>\n",
              "    </tr>\n",
              "  </thead>\n",
              "  <tbody>\n",
              "    <tr>\n",
              "      <th>0</th>\n",
              "      <td>2014-12-02</td>\n",
              "      <td>100001</td>\n",
              "      <td>0</td>\n",
              "      <td>0</td>\n",
              "      <td>2015-04-24</td>\n",
              "      <td>8.063382e-06</td>\n",
              "      <td>0</td>\n",
              "      <td>0</td>\n",
              "      <td>NaT</td>\n",
              "      <td>NaN</td>\n",
              "      <td>TESTING</td>\n",
              "      <td>NaT</td>\n",
              "      <td>NaN</td>\n",
              "    </tr>\n",
              "    <tr>\n",
              "      <th>1</th>\n",
              "      <td>2014-12-03</td>\n",
              "      <td>100001</td>\n",
              "      <td>0</td>\n",
              "      <td>0</td>\n",
              "      <td>2015-04-24</td>\n",
              "      <td>4.159480e-07</td>\n",
              "      <td>0</td>\n",
              "      <td>0</td>\n",
              "      <td>NaT</td>\n",
              "      <td>NaN</td>\n",
              "      <td>TESTING</td>\n",
              "      <td>NaT</td>\n",
              "      <td>NaN</td>\n",
              "    </tr>\n",
              "    <tr>\n",
              "      <th>2</th>\n",
              "      <td>2014-12-04</td>\n",
              "      <td>100001</td>\n",
              "      <td>0</td>\n",
              "      <td>0</td>\n",
              "      <td>2015-04-24</td>\n",
              "      <td>1.069239e-06</td>\n",
              "      <td>0</td>\n",
              "      <td>0</td>\n",
              "      <td>NaT</td>\n",
              "      <td>NaN</td>\n",
              "      <td>TESTING</td>\n",
              "      <td>NaT</td>\n",
              "      <td>NaN</td>\n",
              "    </tr>\n",
              "    <tr>\n",
              "      <th>3</th>\n",
              "      <td>2014-12-05</td>\n",
              "      <td>100001</td>\n",
              "      <td>0</td>\n",
              "      <td>0</td>\n",
              "      <td>2015-04-24</td>\n",
              "      <td>2.323576e-04</td>\n",
              "      <td>0</td>\n",
              "      <td>0</td>\n",
              "      <td>NaT</td>\n",
              "      <td>NaN</td>\n",
              "      <td>TESTING</td>\n",
              "      <td>NaT</td>\n",
              "      <td>NaN</td>\n",
              "    </tr>\n",
              "    <tr>\n",
              "      <th>4</th>\n",
              "      <td>2014-12-06</td>\n",
              "      <td>100001</td>\n",
              "      <td>0</td>\n",
              "      <td>0</td>\n",
              "      <td>2015-04-24</td>\n",
              "      <td>1.314291e-04</td>\n",
              "      <td>0</td>\n",
              "      <td>0</td>\n",
              "      <td>NaT</td>\n",
              "      <td>NaN</td>\n",
              "      <td>TESTING</td>\n",
              "      <td>NaT</td>\n",
              "      <td>NaN</td>\n",
              "    </tr>\n",
              "  </tbody>\n",
              "</table>\n",
              "</div>\n",
              "      <button class=\"colab-df-convert\" onclick=\"convertToInteractive('df-972b8e0e-c77e-41d6-81fb-a6b26db41c74')\"\n",
              "              title=\"Convert this dataframe to an interactive table.\"\n",
              "              style=\"display:none;\">\n",
              "\n",
              "  <svg xmlns=\"http://www.w3.org/2000/svg\" height=\"24px\"viewBox=\"0 0 24 24\"\n",
              "       width=\"24px\">\n",
              "    <path d=\"M0 0h24v24H0V0z\" fill=\"none\"/>\n",
              "    <path d=\"M18.56 5.44l.94 2.06.94-2.06 2.06-.94-2.06-.94-.94-2.06-.94 2.06-2.06.94zm-11 1L8.5 8.5l.94-2.06 2.06-.94-2.06-.94L8.5 2.5l-.94 2.06-2.06.94zm10 10l.94 2.06.94-2.06 2.06-.94-2.06-.94-.94-2.06-.94 2.06-2.06.94z\"/><path d=\"M17.41 7.96l-1.37-1.37c-.4-.4-.92-.59-1.43-.59-.52 0-1.04.2-1.43.59L10.3 9.45l-7.72 7.72c-.78.78-.78 2.05 0 2.83L4 21.41c.39.39.9.59 1.41.59.51 0 1.02-.2 1.41-.59l7.78-7.78 2.81-2.81c.8-.78.8-2.07 0-2.86zM5.41 20L4 18.59l7.72-7.72 1.47 1.35L5.41 20z\"/>\n",
              "  </svg>\n",
              "      </button>\n",
              "\n",
              "\n",
              "\n",
              "    <div id=\"df-e0d42a77-382e-4519-b261-01473faab213\">\n",
              "      <button class=\"colab-df-quickchart\" onclick=\"quickchart('df-e0d42a77-382e-4519-b261-01473faab213')\"\n",
              "              title=\"Suggest charts.\"\n",
              "              style=\"display:none;\">\n",
              "\n",
              "<svg xmlns=\"http://www.w3.org/2000/svg\" height=\"24px\"viewBox=\"0 0 24 24\"\n",
              "     width=\"24px\">\n",
              "    <g>\n",
              "        <path d=\"M19 3H5c-1.1 0-2 .9-2 2v14c0 1.1.9 2 2 2h14c1.1 0 2-.9 2-2V5c0-1.1-.9-2-2-2zM9 17H7v-7h2v7zm4 0h-2V7h2v10zm4 0h-2v-4h2v4z\"/>\n",
              "    </g>\n",
              "</svg>\n",
              "      </button>\n",
              "    </div>\n",
              "\n",
              "<style>\n",
              "  .colab-df-quickchart {\n",
              "    background-color: #E8F0FE;\n",
              "    border: none;\n",
              "    border-radius: 50%;\n",
              "    cursor: pointer;\n",
              "    display: none;\n",
              "    fill: #1967D2;\n",
              "    height: 32px;\n",
              "    padding: 0 0 0 0;\n",
              "    width: 32px;\n",
              "  }\n",
              "\n",
              "  .colab-df-quickchart:hover {\n",
              "    background-color: #E2EBFA;\n",
              "    box-shadow: 0px 1px 2px rgba(60, 64, 67, 0.3), 0px 1px 3px 1px rgba(60, 64, 67, 0.15);\n",
              "    fill: #174EA6;\n",
              "  }\n",
              "\n",
              "  [theme=dark] .colab-df-quickchart {\n",
              "    background-color: #3B4455;\n",
              "    fill: #D2E3FC;\n",
              "  }\n",
              "\n",
              "  [theme=dark] .colab-df-quickchart:hover {\n",
              "    background-color: #434B5C;\n",
              "    box-shadow: 0px 1px 3px 1px rgba(0, 0, 0, 0.15);\n",
              "    filter: drop-shadow(0px 1px 2px rgba(0, 0, 0, 0.3));\n",
              "    fill: #FFFFFF;\n",
              "  }\n",
              "</style>\n",
              "\n",
              "    <script>\n",
              "      async function quickchart(key) {\n",
              "        const containerElement = document.querySelector('#' + key);\n",
              "        const charts = await google.colab.kernel.invokeFunction(\n",
              "            'suggestCharts', [key], {});\n",
              "      }\n",
              "    </script>\n",
              "\n",
              "      <script>\n",
              "\n",
              "function displayQuickchartButton(domScope) {\n",
              "  let quickchartButtonEl =\n",
              "    domScope.querySelector('#df-e0d42a77-382e-4519-b261-01473faab213 button.colab-df-quickchart');\n",
              "  quickchartButtonEl.style.display =\n",
              "    google.colab.kernel.accessAllowed ? 'block' : 'none';\n",
              "}\n",
              "\n",
              "        displayQuickchartButton(document);\n",
              "      </script>\n",
              "      <style>\n",
              "    .colab-df-container {\n",
              "      display:flex;\n",
              "      flex-wrap:wrap;\n",
              "      gap: 12px;\n",
              "    }\n",
              "\n",
              "    .colab-df-convert {\n",
              "      background-color: #E8F0FE;\n",
              "      border: none;\n",
              "      border-radius: 50%;\n",
              "      cursor: pointer;\n",
              "      display: none;\n",
              "      fill: #1967D2;\n",
              "      height: 32px;\n",
              "      padding: 0 0 0 0;\n",
              "      width: 32px;\n",
              "    }\n",
              "\n",
              "    .colab-df-convert:hover {\n",
              "      background-color: #E2EBFA;\n",
              "      box-shadow: 0px 1px 2px rgba(60, 64, 67, 0.3), 0px 1px 3px 1px rgba(60, 64, 67, 0.15);\n",
              "      fill: #174EA6;\n",
              "    }\n",
              "\n",
              "    [theme=dark] .colab-df-convert {\n",
              "      background-color: #3B4455;\n",
              "      fill: #D2E3FC;\n",
              "    }\n",
              "\n",
              "    [theme=dark] .colab-df-convert:hover {\n",
              "      background-color: #434B5C;\n",
              "      box-shadow: 0px 1px 3px 1px rgba(0, 0, 0, 0.15);\n",
              "      filter: drop-shadow(0px 1px 2px rgba(0, 0, 0, 0.3));\n",
              "      fill: #FFFFFF;\n",
              "    }\n",
              "  </style>\n",
              "\n",
              "      <script>\n",
              "        const buttonEl =\n",
              "          document.querySelector('#df-972b8e0e-c77e-41d6-81fb-a6b26db41c74 button.colab-df-convert');\n",
              "        buttonEl.style.display =\n",
              "          google.colab.kernel.accessAllowed ? 'block' : 'none';\n",
              "\n",
              "        async function convertToInteractive(key) {\n",
              "          const element = document.querySelector('#df-972b8e0e-c77e-41d6-81fb-a6b26db41c74');\n",
              "          const dataTable =\n",
              "            await google.colab.kernel.invokeFunction('convertToInteractive',\n",
              "                                                     [key], {});\n",
              "          if (!dataTable) return;\n",
              "\n",
              "          const docLinkHtml = 'Like what you see? Visit the ' +\n",
              "            '<a target=\"_blank\" href=https://colab.research.google.com/notebooks/data_table.ipynb>data table notebook</a>'\n",
              "            + ' to learn more about interactive tables.';\n",
              "          element.innerHTML = '';\n",
              "          dataTable['output_type'] = 'display_data';\n",
              "          await google.colab.output.renderOutput(dataTable, element);\n",
              "          const docLink = document.createElement('div');\n",
              "          docLink.innerHTML = docLinkHtml;\n",
              "          element.appendChild(docLink);\n",
              "        }\n",
              "      </script>\n",
              "    </div>\n",
              "  </div>\n"
            ]
          },
          "metadata": {},
          "execution_count": 88
        }
      ]
    },
    {
      "cell_type": "markdown",
      "source": [
        " Create a realistic confusion matrix.\n"
      ],
      "metadata": {
        "id": "O0BbrMI3u3Zq"
      }
    },
    {
      "cell_type": "code",
      "source": [
        "# define a true positive\n",
        "df['TRUE_POSITIVE'] = np.where(((df.EQUIPMENT_FAILURE == 1) & (df.WARNING<=forecast_window) &(df.WARNING>=0) & (df.ID_OF_SIGNAL==df.ID)), 1, 0)\n",
        "# define a false negative\n",
        "df['FALSE_NEGATIVE'] = np.where((df.TRUE_POSITIVE==0) & (df.EQUIPMENT_FAILURE==1), 1, 0)\n",
        "# define a false positive\n",
        "df['BAD_S']=np.where((df.WARNING<0) | (df.WARNING>=forecast_window | df.WARNING.isnull().values.any()), 1, 0)\n",
        "df['FALSE_POSITIVE'] = np.where(((df.Y_FAILZ == 1) & (df.BAD_S==1) & (df.ID_OF_SIGNAL==xx.ID)), 1, 0)\n",
        "df['bootie']=1\n",
        "df['CATEGORY']=np.where((df.FALSE_POSITIVE==1),'FALSE_POSITIVE',\n",
        "                                      (np.where((df.FALSE_NEGATIVE==1),'FALSE_NEGATIVE',\n",
        "                                                (np.where((df.TRUE_POSITIVE==1),'TRUE_POSITIVE','TRUE_NEGATIVE')))))\n",
        "table = pd.pivot_table(df, values=['bootie'], index=['MODELING_GROUP'],columns=['CATEGORY'], aggfunc=np.sum)\n",
        "table"
      ],
      "metadata": {
        "colab": {
          "base_uri": "https://localhost:8080/",
          "height": 175
        },
        "id": "4tEGTDINu4L1",
        "outputId": "499f1b9b-5bfe-4851-a1e5-a37a6e269ffb"
      },
      "execution_count": null,
      "outputs": [
        {
          "output_type": "execute_result",
          "data": {
            "text/plain": [
              "                       bootie                                           \n",
              "CATEGORY       FALSE_NEGATIVE FALSE_POSITIVE TRUE_NEGATIVE TRUE_POSITIVE\n",
              "MODELING_GROUP                                                          \n",
              "TESTING                 135.0           94.0      108676.0          14.0\n",
              "TRAINING                  NaN            NaN      106580.0         146.0"
            ],
            "text/html": [
              "\n",
              "\n",
              "  <div id=\"df-a6597ecd-83cf-4d63-8ec4-aa8afb39ce8a\">\n",
              "    <div class=\"colab-df-container\">\n",
              "      <div>\n",
              "<style scoped>\n",
              "    .dataframe tbody tr th:only-of-type {\n",
              "        vertical-align: middle;\n",
              "    }\n",
              "\n",
              "    .dataframe tbody tr th {\n",
              "        vertical-align: top;\n",
              "    }\n",
              "\n",
              "    .dataframe thead tr th {\n",
              "        text-align: left;\n",
              "    }\n",
              "\n",
              "    .dataframe thead tr:last-of-type th {\n",
              "        text-align: right;\n",
              "    }\n",
              "</style>\n",
              "<table border=\"1\" class=\"dataframe\">\n",
              "  <thead>\n",
              "    <tr>\n",
              "      <th></th>\n",
              "      <th colspan=\"4\" halign=\"left\">bootie</th>\n",
              "    </tr>\n",
              "    <tr>\n",
              "      <th>CATEGORY</th>\n",
              "      <th>FALSE_NEGATIVE</th>\n",
              "      <th>FALSE_POSITIVE</th>\n",
              "      <th>TRUE_NEGATIVE</th>\n",
              "      <th>TRUE_POSITIVE</th>\n",
              "    </tr>\n",
              "    <tr>\n",
              "      <th>MODELING_GROUP</th>\n",
              "      <th></th>\n",
              "      <th></th>\n",
              "      <th></th>\n",
              "      <th></th>\n",
              "    </tr>\n",
              "  </thead>\n",
              "  <tbody>\n",
              "    <tr>\n",
              "      <th>TESTING</th>\n",
              "      <td>135.0</td>\n",
              "      <td>94.0</td>\n",
              "      <td>108676.0</td>\n",
              "      <td>14.0</td>\n",
              "    </tr>\n",
              "    <tr>\n",
              "      <th>TRAINING</th>\n",
              "      <td>NaN</td>\n",
              "      <td>NaN</td>\n",
              "      <td>106580.0</td>\n",
              "      <td>146.0</td>\n",
              "    </tr>\n",
              "  </tbody>\n",
              "</table>\n",
              "</div>\n",
              "      <button class=\"colab-df-convert\" onclick=\"convertToInteractive('df-a6597ecd-83cf-4d63-8ec4-aa8afb39ce8a')\"\n",
              "              title=\"Convert this dataframe to an interactive table.\"\n",
              "              style=\"display:none;\">\n",
              "\n",
              "  <svg xmlns=\"http://www.w3.org/2000/svg\" height=\"24px\"viewBox=\"0 0 24 24\"\n",
              "       width=\"24px\">\n",
              "    <path d=\"M0 0h24v24H0V0z\" fill=\"none\"/>\n",
              "    <path d=\"M18.56 5.44l.94 2.06.94-2.06 2.06-.94-2.06-.94-.94-2.06-.94 2.06-2.06.94zm-11 1L8.5 8.5l.94-2.06 2.06-.94-2.06-.94L8.5 2.5l-.94 2.06-2.06.94zm10 10l.94 2.06.94-2.06 2.06-.94-2.06-.94-.94-2.06-.94 2.06-2.06.94z\"/><path d=\"M17.41 7.96l-1.37-1.37c-.4-.4-.92-.59-1.43-.59-.52 0-1.04.2-1.43.59L10.3 9.45l-7.72 7.72c-.78.78-.78 2.05 0 2.83L4 21.41c.39.39.9.59 1.41.59.51 0 1.02-.2 1.41-.59l7.78-7.78 2.81-2.81c.8-.78.8-2.07 0-2.86zM5.41 20L4 18.59l7.72-7.72 1.47 1.35L5.41 20z\"/>\n",
              "  </svg>\n",
              "      </button>\n",
              "\n",
              "\n",
              "\n",
              "    <div id=\"df-62961b62-27c8-4c5c-9312-63f043f5ba3c\">\n",
              "      <button class=\"colab-df-quickchart\" onclick=\"quickchart('df-62961b62-27c8-4c5c-9312-63f043f5ba3c')\"\n",
              "              title=\"Suggest charts.\"\n",
              "              style=\"display:none;\">\n",
              "\n",
              "<svg xmlns=\"http://www.w3.org/2000/svg\" height=\"24px\"viewBox=\"0 0 24 24\"\n",
              "     width=\"24px\">\n",
              "    <g>\n",
              "        <path d=\"M19 3H5c-1.1 0-2 .9-2 2v14c0 1.1.9 2 2 2h14c1.1 0 2-.9 2-2V5c0-1.1-.9-2-2-2zM9 17H7v-7h2v7zm4 0h-2V7h2v10zm4 0h-2v-4h2v4z\"/>\n",
              "    </g>\n",
              "</svg>\n",
              "      </button>\n",
              "    </div>\n",
              "\n",
              "<style>\n",
              "  .colab-df-quickchart {\n",
              "    background-color: #E8F0FE;\n",
              "    border: none;\n",
              "    border-radius: 50%;\n",
              "    cursor: pointer;\n",
              "    display: none;\n",
              "    fill: #1967D2;\n",
              "    height: 32px;\n",
              "    padding: 0 0 0 0;\n",
              "    width: 32px;\n",
              "  }\n",
              "\n",
              "  .colab-df-quickchart:hover {\n",
              "    background-color: #E2EBFA;\n",
              "    box-shadow: 0px 1px 2px rgba(60, 64, 67, 0.3), 0px 1px 3px 1px rgba(60, 64, 67, 0.15);\n",
              "    fill: #174EA6;\n",
              "  }\n",
              "\n",
              "  [theme=dark] .colab-df-quickchart {\n",
              "    background-color: #3B4455;\n",
              "    fill: #D2E3FC;\n",
              "  }\n",
              "\n",
              "  [theme=dark] .colab-df-quickchart:hover {\n",
              "    background-color: #434B5C;\n",
              "    box-shadow: 0px 1px 3px 1px rgba(0, 0, 0, 0.15);\n",
              "    filter: drop-shadow(0px 1px 2px rgba(0, 0, 0, 0.3));\n",
              "    fill: #FFFFFF;\n",
              "  }\n",
              "</style>\n",
              "\n",
              "    <script>\n",
              "      async function quickchart(key) {\n",
              "        const containerElement = document.querySelector('#' + key);\n",
              "        const charts = await google.colab.kernel.invokeFunction(\n",
              "            'suggestCharts', [key], {});\n",
              "      }\n",
              "    </script>\n",
              "\n",
              "      <script>\n",
              "\n",
              "function displayQuickchartButton(domScope) {\n",
              "  let quickchartButtonEl =\n",
              "    domScope.querySelector('#df-62961b62-27c8-4c5c-9312-63f043f5ba3c button.colab-df-quickchart');\n",
              "  quickchartButtonEl.style.display =\n",
              "    google.colab.kernel.accessAllowed ? 'block' : 'none';\n",
              "}\n",
              "\n",
              "        displayQuickchartButton(document);\n",
              "      </script>\n",
              "      <style>\n",
              "    .colab-df-container {\n",
              "      display:flex;\n",
              "      flex-wrap:wrap;\n",
              "      gap: 12px;\n",
              "    }\n",
              "\n",
              "    .colab-df-convert {\n",
              "      background-color: #E8F0FE;\n",
              "      border: none;\n",
              "      border-radius: 50%;\n",
              "      cursor: pointer;\n",
              "      display: none;\n",
              "      fill: #1967D2;\n",
              "      height: 32px;\n",
              "      padding: 0 0 0 0;\n",
              "      width: 32px;\n",
              "    }\n",
              "\n",
              "    .colab-df-convert:hover {\n",
              "      background-color: #E2EBFA;\n",
              "      box-shadow: 0px 1px 2px rgba(60, 64, 67, 0.3), 0px 1px 3px 1px rgba(60, 64, 67, 0.15);\n",
              "      fill: #174EA6;\n",
              "    }\n",
              "\n",
              "    [theme=dark] .colab-df-convert {\n",
              "      background-color: #3B4455;\n",
              "      fill: #D2E3FC;\n",
              "    }\n",
              "\n",
              "    [theme=dark] .colab-df-convert:hover {\n",
              "      background-color: #434B5C;\n",
              "      box-shadow: 0px 1px 3px 1px rgba(0, 0, 0, 0.15);\n",
              "      filter: drop-shadow(0px 1px 2px rgba(0, 0, 0, 0.3));\n",
              "      fill: #FFFFFF;\n",
              "    }\n",
              "  </style>\n",
              "\n",
              "      <script>\n",
              "        const buttonEl =\n",
              "          document.querySelector('#df-a6597ecd-83cf-4d63-8ec4-aa8afb39ce8a button.colab-df-convert');\n",
              "        buttonEl.style.display =\n",
              "          google.colab.kernel.accessAllowed ? 'block' : 'none';\n",
              "\n",
              "        async function convertToInteractive(key) {\n",
              "          const element = document.querySelector('#df-a6597ecd-83cf-4d63-8ec4-aa8afb39ce8a');\n",
              "          const dataTable =\n",
              "            await google.colab.kernel.invokeFunction('convertToInteractive',\n",
              "                                                     [key], {});\n",
              "          if (!dataTable) return;\n",
              "\n",
              "          const docLinkHtml = 'Like what you see? Visit the ' +\n",
              "            '<a target=\"_blank\" href=https://colab.research.google.com/notebooks/data_table.ipynb>data table notebook</a>'\n",
              "            + ' to learn more about interactive tables.';\n",
              "          element.innerHTML = '';\n",
              "          dataTable['output_type'] = 'display_data';\n",
              "          await google.colab.output.renderOutput(dataTable, element);\n",
              "          const docLink = document.createElement('div');\n",
              "          docLink.innerHTML = docLinkHtml;\n",
              "          element.appendChild(docLink);\n",
              "        }\n",
              "      </script>\n",
              "    </div>\n",
              "  </div>\n"
            ]
          },
          "metadata": {},
          "execution_count": 90
        }
      ]
    },
    {
      "cell_type": "markdown",
      "source": [
        "Incorporating the Economics of the Problem."
      ],
      "metadata": {
        "id": "jcsvdDTfvPSo"
      }
    },
    {
      "cell_type": "code",
      "source": [
        "df['TOTAL_COST']=df.FALSE_NEGATIVE*30000+df.FALSE_POSITIVE*1500+df.TRUE_POSITIVE*7500"
      ],
      "metadata": {
        "id": "e-kuUj-DvQCu"
      },
      "execution_count": null,
      "outputs": []
    },
    {
      "cell_type": "markdown",
      "source": [
        "Aggregate the costs by modeling group.\n",
        "\n"
      ],
      "metadata": {
        "id": "ZV0ZJucQvqXH"
      }
    },
    {
      "cell_type": "code",
      "source": [
        "table = pd.pivot_table(df, values=['TOTAL_COST'],index=['MODELING_GROUP'], aggfunc=np.sum)\n",
        "table"
      ],
      "metadata": {
        "colab": {
          "base_uri": "https://localhost:8080/",
          "height": 143
        },
        "id": "E5_3LHsVvWTk",
        "outputId": "664a81cf-5962-46c2-d36e-8797d9bcdfc0"
      },
      "execution_count": null,
      "outputs": [
        {
          "output_type": "execute_result",
          "data": {
            "text/plain": [
              "                TOTAL_COST\n",
              "MODELING_GROUP            \n",
              "TESTING            4296000\n",
              "TRAINING           1095000"
            ],
            "text/html": [
              "\n",
              "\n",
              "  <div id=\"df-ed605000-b16d-4f9a-9023-ff6d94efd35c\">\n",
              "    <div class=\"colab-df-container\">\n",
              "      <div>\n",
              "<style scoped>\n",
              "    .dataframe tbody tr th:only-of-type {\n",
              "        vertical-align: middle;\n",
              "    }\n",
              "\n",
              "    .dataframe tbody tr th {\n",
              "        vertical-align: top;\n",
              "    }\n",
              "\n",
              "    .dataframe thead th {\n",
              "        text-align: right;\n",
              "    }\n",
              "</style>\n",
              "<table border=\"1\" class=\"dataframe\">\n",
              "  <thead>\n",
              "    <tr style=\"text-align: right;\">\n",
              "      <th></th>\n",
              "      <th>TOTAL_COST</th>\n",
              "    </tr>\n",
              "    <tr>\n",
              "      <th>MODELING_GROUP</th>\n",
              "      <th></th>\n",
              "    </tr>\n",
              "  </thead>\n",
              "  <tbody>\n",
              "    <tr>\n",
              "      <th>TESTING</th>\n",
              "      <td>4296000</td>\n",
              "    </tr>\n",
              "    <tr>\n",
              "      <th>TRAINING</th>\n",
              "      <td>1095000</td>\n",
              "    </tr>\n",
              "  </tbody>\n",
              "</table>\n",
              "</div>\n",
              "      <button class=\"colab-df-convert\" onclick=\"convertToInteractive('df-ed605000-b16d-4f9a-9023-ff6d94efd35c')\"\n",
              "              title=\"Convert this dataframe to an interactive table.\"\n",
              "              style=\"display:none;\">\n",
              "\n",
              "  <svg xmlns=\"http://www.w3.org/2000/svg\" height=\"24px\"viewBox=\"0 0 24 24\"\n",
              "       width=\"24px\">\n",
              "    <path d=\"M0 0h24v24H0V0z\" fill=\"none\"/>\n",
              "    <path d=\"M18.56 5.44l.94 2.06.94-2.06 2.06-.94-2.06-.94-.94-2.06-.94 2.06-2.06.94zm-11 1L8.5 8.5l.94-2.06 2.06-.94-2.06-.94L8.5 2.5l-.94 2.06-2.06.94zm10 10l.94 2.06.94-2.06 2.06-.94-2.06-.94-.94-2.06-.94 2.06-2.06.94z\"/><path d=\"M17.41 7.96l-1.37-1.37c-.4-.4-.92-.59-1.43-.59-.52 0-1.04.2-1.43.59L10.3 9.45l-7.72 7.72c-.78.78-.78 2.05 0 2.83L4 21.41c.39.39.9.59 1.41.59.51 0 1.02-.2 1.41-.59l7.78-7.78 2.81-2.81c.8-.78.8-2.07 0-2.86zM5.41 20L4 18.59l7.72-7.72 1.47 1.35L5.41 20z\"/>\n",
              "  </svg>\n",
              "      </button>\n",
              "\n",
              "\n",
              "\n",
              "    <div id=\"df-0fea96af-6003-4ef6-926d-eab2537f8868\">\n",
              "      <button class=\"colab-df-quickchart\" onclick=\"quickchart('df-0fea96af-6003-4ef6-926d-eab2537f8868')\"\n",
              "              title=\"Suggest charts.\"\n",
              "              style=\"display:none;\">\n",
              "\n",
              "<svg xmlns=\"http://www.w3.org/2000/svg\" height=\"24px\"viewBox=\"0 0 24 24\"\n",
              "     width=\"24px\">\n",
              "    <g>\n",
              "        <path d=\"M19 3H5c-1.1 0-2 .9-2 2v14c0 1.1.9 2 2 2h14c1.1 0 2-.9 2-2V5c0-1.1-.9-2-2-2zM9 17H7v-7h2v7zm4 0h-2V7h2v10zm4 0h-2v-4h2v4z\"/>\n",
              "    </g>\n",
              "</svg>\n",
              "      </button>\n",
              "    </div>\n",
              "\n",
              "<style>\n",
              "  .colab-df-quickchart {\n",
              "    background-color: #E8F0FE;\n",
              "    border: none;\n",
              "    border-radius: 50%;\n",
              "    cursor: pointer;\n",
              "    display: none;\n",
              "    fill: #1967D2;\n",
              "    height: 32px;\n",
              "    padding: 0 0 0 0;\n",
              "    width: 32px;\n",
              "  }\n",
              "\n",
              "  .colab-df-quickchart:hover {\n",
              "    background-color: #E2EBFA;\n",
              "    box-shadow: 0px 1px 2px rgba(60, 64, 67, 0.3), 0px 1px 3px 1px rgba(60, 64, 67, 0.15);\n",
              "    fill: #174EA6;\n",
              "  }\n",
              "\n",
              "  [theme=dark] .colab-df-quickchart {\n",
              "    background-color: #3B4455;\n",
              "    fill: #D2E3FC;\n",
              "  }\n",
              "\n",
              "  [theme=dark] .colab-df-quickchart:hover {\n",
              "    background-color: #434B5C;\n",
              "    box-shadow: 0px 1px 3px 1px rgba(0, 0, 0, 0.15);\n",
              "    filter: drop-shadow(0px 1px 2px rgba(0, 0, 0, 0.3));\n",
              "    fill: #FFFFFF;\n",
              "  }\n",
              "</style>\n",
              "\n",
              "    <script>\n",
              "      async function quickchart(key) {\n",
              "        const containerElement = document.querySelector('#' + key);\n",
              "        const charts = await google.colab.kernel.invokeFunction(\n",
              "            'suggestCharts', [key], {});\n",
              "      }\n",
              "    </script>\n",
              "\n",
              "      <script>\n",
              "\n",
              "function displayQuickchartButton(domScope) {\n",
              "  let quickchartButtonEl =\n",
              "    domScope.querySelector('#df-0fea96af-6003-4ef6-926d-eab2537f8868 button.colab-df-quickchart');\n",
              "  quickchartButtonEl.style.display =\n",
              "    google.colab.kernel.accessAllowed ? 'block' : 'none';\n",
              "}\n",
              "\n",
              "        displayQuickchartButton(document);\n",
              "      </script>\n",
              "      <style>\n",
              "    .colab-df-container {\n",
              "      display:flex;\n",
              "      flex-wrap:wrap;\n",
              "      gap: 12px;\n",
              "    }\n",
              "\n",
              "    .colab-df-convert {\n",
              "      background-color: #E8F0FE;\n",
              "      border: none;\n",
              "      border-radius: 50%;\n",
              "      cursor: pointer;\n",
              "      display: none;\n",
              "      fill: #1967D2;\n",
              "      height: 32px;\n",
              "      padding: 0 0 0 0;\n",
              "      width: 32px;\n",
              "    }\n",
              "\n",
              "    .colab-df-convert:hover {\n",
              "      background-color: #E2EBFA;\n",
              "      box-shadow: 0px 1px 2px rgba(60, 64, 67, 0.3), 0px 1px 3px 1px rgba(60, 64, 67, 0.15);\n",
              "      fill: #174EA6;\n",
              "    }\n",
              "\n",
              "    [theme=dark] .colab-df-convert {\n",
              "      background-color: #3B4455;\n",
              "      fill: #D2E3FC;\n",
              "    }\n",
              "\n",
              "    [theme=dark] .colab-df-convert:hover {\n",
              "      background-color: #434B5C;\n",
              "      box-shadow: 0px 1px 3px 1px rgba(0, 0, 0, 0.15);\n",
              "      filter: drop-shadow(0px 1px 2px rgba(0, 0, 0, 0.3));\n",
              "      fill: #FFFFFF;\n",
              "    }\n",
              "  </style>\n",
              "\n",
              "      <script>\n",
              "        const buttonEl =\n",
              "          document.querySelector('#df-ed605000-b16d-4f9a-9023-ff6d94efd35c button.colab-df-convert');\n",
              "        buttonEl.style.display =\n",
              "          google.colab.kernel.accessAllowed ? 'block' : 'none';\n",
              "\n",
              "        async function convertToInteractive(key) {\n",
              "          const element = document.querySelector('#df-ed605000-b16d-4f9a-9023-ff6d94efd35c');\n",
              "          const dataTable =\n",
              "            await google.colab.kernel.invokeFunction('convertToInteractive',\n",
              "                                                     [key], {});\n",
              "          if (!dataTable) return;\n",
              "\n",
              "          const docLinkHtml = 'Like what you see? Visit the ' +\n",
              "            '<a target=\"_blank\" href=https://colab.research.google.com/notebooks/data_table.ipynb>data table notebook</a>'\n",
              "            + ' to learn more about interactive tables.';\n",
              "          element.innerHTML = '';\n",
              "          dataTable['output_type'] = 'display_data';\n",
              "          await google.colab.output.renderOutput(dataTable, element);\n",
              "          const docLink = document.createElement('div');\n",
              "          docLink.innerHTML = docLinkHtml;\n",
              "          element.appendChild(docLink);\n",
              "        }\n",
              "      </script>\n",
              "    </div>\n",
              "  </div>\n"
            ]
          },
          "metadata": {},
          "execution_count": 92
        }
      ]
    },
    {
      "cell_type": "markdown",
      "source": [
        "Calculate the number of machines in each modeling group.\n",
        "\n"
      ],
      "metadata": {
        "id": "o3df0lmyvaHS"
      }
    },
    {
      "cell_type": "code",
      "source": [
        "wells=df[['ID','MODELING_GROUP']]\n",
        "wells=wells.drop_duplicates(subset='ID')\n",
        "wells = wells.groupby(['MODELING_GROUP'])['ID'].count()\n",
        "wells=pd.DataFrame(wells)\n",
        "wells=wells.rename(columns={'ID': 'WELLS'})\n",
        "wells\n"
      ],
      "metadata": {
        "colab": {
          "base_uri": "https://localhost:8080/",
          "height": 143
        },
        "id": "P3f8DDC3vbMy",
        "outputId": "44c9c1bd-4a3f-459c-f252-93f27785fe1c"
      },
      "execution_count": null,
      "outputs": [
        {
          "output_type": "execute_result",
          "data": {
            "text/plain": [
              "                WELLS\n",
              "MODELING_GROUP       \n",
              "TESTING           149\n",
              "TRAINING          146"
            ],
            "text/html": [
              "\n",
              "\n",
              "  <div id=\"df-d4a9be7c-6592-44b0-b4b9-7b7c8020e4f3\">\n",
              "    <div class=\"colab-df-container\">\n",
              "      <div>\n",
              "<style scoped>\n",
              "    .dataframe tbody tr th:only-of-type {\n",
              "        vertical-align: middle;\n",
              "    }\n",
              "\n",
              "    .dataframe tbody tr th {\n",
              "        vertical-align: top;\n",
              "    }\n",
              "\n",
              "    .dataframe thead th {\n",
              "        text-align: right;\n",
              "    }\n",
              "</style>\n",
              "<table border=\"1\" class=\"dataframe\">\n",
              "  <thead>\n",
              "    <tr style=\"text-align: right;\">\n",
              "      <th></th>\n",
              "      <th>WELLS</th>\n",
              "    </tr>\n",
              "    <tr>\n",
              "      <th>MODELING_GROUP</th>\n",
              "      <th></th>\n",
              "    </tr>\n",
              "  </thead>\n",
              "  <tbody>\n",
              "    <tr>\n",
              "      <th>TESTING</th>\n",
              "      <td>149</td>\n",
              "    </tr>\n",
              "    <tr>\n",
              "      <th>TRAINING</th>\n",
              "      <td>146</td>\n",
              "    </tr>\n",
              "  </tbody>\n",
              "</table>\n",
              "</div>\n",
              "      <button class=\"colab-df-convert\" onclick=\"convertToInteractive('df-d4a9be7c-6592-44b0-b4b9-7b7c8020e4f3')\"\n",
              "              title=\"Convert this dataframe to an interactive table.\"\n",
              "              style=\"display:none;\">\n",
              "\n",
              "  <svg xmlns=\"http://www.w3.org/2000/svg\" height=\"24px\"viewBox=\"0 0 24 24\"\n",
              "       width=\"24px\">\n",
              "    <path d=\"M0 0h24v24H0V0z\" fill=\"none\"/>\n",
              "    <path d=\"M18.56 5.44l.94 2.06.94-2.06 2.06-.94-2.06-.94-.94-2.06-.94 2.06-2.06.94zm-11 1L8.5 8.5l.94-2.06 2.06-.94-2.06-.94L8.5 2.5l-.94 2.06-2.06.94zm10 10l.94 2.06.94-2.06 2.06-.94-2.06-.94-.94-2.06-.94 2.06-2.06.94z\"/><path d=\"M17.41 7.96l-1.37-1.37c-.4-.4-.92-.59-1.43-.59-.52 0-1.04.2-1.43.59L10.3 9.45l-7.72 7.72c-.78.78-.78 2.05 0 2.83L4 21.41c.39.39.9.59 1.41.59.51 0 1.02-.2 1.41-.59l7.78-7.78 2.81-2.81c.8-.78.8-2.07 0-2.86zM5.41 20L4 18.59l7.72-7.72 1.47 1.35L5.41 20z\"/>\n",
              "  </svg>\n",
              "      </button>\n",
              "\n",
              "\n",
              "\n",
              "    <div id=\"df-8f2a0539-8e58-4ed9-a2da-02dfcc6aa2ad\">\n",
              "      <button class=\"colab-df-quickchart\" onclick=\"quickchart('df-8f2a0539-8e58-4ed9-a2da-02dfcc6aa2ad')\"\n",
              "              title=\"Suggest charts.\"\n",
              "              style=\"display:none;\">\n",
              "\n",
              "<svg xmlns=\"http://www.w3.org/2000/svg\" height=\"24px\"viewBox=\"0 0 24 24\"\n",
              "     width=\"24px\">\n",
              "    <g>\n",
              "        <path d=\"M19 3H5c-1.1 0-2 .9-2 2v14c0 1.1.9 2 2 2h14c1.1 0 2-.9 2-2V5c0-1.1-.9-2-2-2zM9 17H7v-7h2v7zm4 0h-2V7h2v10zm4 0h-2v-4h2v4z\"/>\n",
              "    </g>\n",
              "</svg>\n",
              "      </button>\n",
              "    </div>\n",
              "\n",
              "<style>\n",
              "  .colab-df-quickchart {\n",
              "    background-color: #E8F0FE;\n",
              "    border: none;\n",
              "    border-radius: 50%;\n",
              "    cursor: pointer;\n",
              "    display: none;\n",
              "    fill: #1967D2;\n",
              "    height: 32px;\n",
              "    padding: 0 0 0 0;\n",
              "    width: 32px;\n",
              "  }\n",
              "\n",
              "  .colab-df-quickchart:hover {\n",
              "    background-color: #E2EBFA;\n",
              "    box-shadow: 0px 1px 2px rgba(60, 64, 67, 0.3), 0px 1px 3px 1px rgba(60, 64, 67, 0.15);\n",
              "    fill: #174EA6;\n",
              "  }\n",
              "\n",
              "  [theme=dark] .colab-df-quickchart {\n",
              "    background-color: #3B4455;\n",
              "    fill: #D2E3FC;\n",
              "  }\n",
              "\n",
              "  [theme=dark] .colab-df-quickchart:hover {\n",
              "    background-color: #434B5C;\n",
              "    box-shadow: 0px 1px 3px 1px rgba(0, 0, 0, 0.15);\n",
              "    filter: drop-shadow(0px 1px 2px rgba(0, 0, 0, 0.3));\n",
              "    fill: #FFFFFF;\n",
              "  }\n",
              "</style>\n",
              "\n",
              "    <script>\n",
              "      async function quickchart(key) {\n",
              "        const containerElement = document.querySelector('#' + key);\n",
              "        const charts = await google.colab.kernel.invokeFunction(\n",
              "            'suggestCharts', [key], {});\n",
              "      }\n",
              "    </script>\n",
              "\n",
              "      <script>\n",
              "\n",
              "function displayQuickchartButton(domScope) {\n",
              "  let quickchartButtonEl =\n",
              "    domScope.querySelector('#df-8f2a0539-8e58-4ed9-a2da-02dfcc6aa2ad button.colab-df-quickchart');\n",
              "  quickchartButtonEl.style.display =\n",
              "    google.colab.kernel.accessAllowed ? 'block' : 'none';\n",
              "}\n",
              "\n",
              "        displayQuickchartButton(document);\n",
              "      </script>\n",
              "      <style>\n",
              "    .colab-df-container {\n",
              "      display:flex;\n",
              "      flex-wrap:wrap;\n",
              "      gap: 12px;\n",
              "    }\n",
              "\n",
              "    .colab-df-convert {\n",
              "      background-color: #E8F0FE;\n",
              "      border: none;\n",
              "      border-radius: 50%;\n",
              "      cursor: pointer;\n",
              "      display: none;\n",
              "      fill: #1967D2;\n",
              "      height: 32px;\n",
              "      padding: 0 0 0 0;\n",
              "      width: 32px;\n",
              "    }\n",
              "\n",
              "    .colab-df-convert:hover {\n",
              "      background-color: #E2EBFA;\n",
              "      box-shadow: 0px 1px 2px rgba(60, 64, 67, 0.3), 0px 1px 3px 1px rgba(60, 64, 67, 0.15);\n",
              "      fill: #174EA6;\n",
              "    }\n",
              "\n",
              "    [theme=dark] .colab-df-convert {\n",
              "      background-color: #3B4455;\n",
              "      fill: #D2E3FC;\n",
              "    }\n",
              "\n",
              "    [theme=dark] .colab-df-convert:hover {\n",
              "      background-color: #434B5C;\n",
              "      box-shadow: 0px 1px 3px 1px rgba(0, 0, 0, 0.15);\n",
              "      filter: drop-shadow(0px 1px 2px rgba(0, 0, 0, 0.3));\n",
              "      fill: #FFFFFF;\n",
              "    }\n",
              "  </style>\n",
              "\n",
              "      <script>\n",
              "        const buttonEl =\n",
              "          document.querySelector('#df-d4a9be7c-6592-44b0-b4b9-7b7c8020e4f3 button.colab-df-convert');\n",
              "        buttonEl.style.display =\n",
              "          google.colab.kernel.accessAllowed ? 'block' : 'none';\n",
              "\n",
              "        async function convertToInteractive(key) {\n",
              "          const element = document.querySelector('#df-d4a9be7c-6592-44b0-b4b9-7b7c8020e4f3');\n",
              "          const dataTable =\n",
              "            await google.colab.kernel.invokeFunction('convertToInteractive',\n",
              "                                                     [key], {});\n",
              "          if (!dataTable) return;\n",
              "\n",
              "          const docLinkHtml = 'Like what you see? Visit the ' +\n",
              "            '<a target=\"_blank\" href=https://colab.research.google.com/notebooks/data_table.ipynb>data table notebook</a>'\n",
              "            + ' to learn more about interactive tables.';\n",
              "          element.innerHTML = '';\n",
              "          dataTable['output_type'] = 'display_data';\n",
              "          await google.colab.output.renderOutput(dataTable, element);\n",
              "          const docLink = document.createElement('div');\n",
              "          docLink.innerHTML = docLinkHtml;\n",
              "          element.appendChild(docLink);\n",
              "        }\n",
              "      </script>\n",
              "    </div>\n",
              "  </div>\n"
            ]
          },
          "metadata": {},
          "execution_count": 96
        }
      ]
    },
    {
      "cell_type": "markdown",
      "source": [
        "Merge the total costs and total machines into one data frame.\n",
        "\n"
      ],
      "metadata": {
        "id": "DcuKi9zjvu6d"
      }
    },
    {
      "cell_type": "code",
      "source": [
        "tc = df.groupby(['MODELING_GROUP'])['TOTAL_COST'].sum()\n",
        "tc=pd.DataFrame(tc)\n",
        "ac =tc.merge(wells, on=['MODELING_GROUP'], how='inner')"
      ],
      "metadata": {
        "id": "QlYhcW9Ovv4A"
      },
      "execution_count": null,
      "outputs": []
    },
    {
      "cell_type": "markdown",
      "source": [
        "Calculate the average cost per machine.\n",
        "\n"
      ],
      "metadata": {
        "id": "EfI4M8gyv1XW"
      }
    },
    {
      "cell_type": "code",
      "source": [
        "ac['AVERAGE_COST']=ac.TOTAL_COST/ac.WELLS\n",
        "ac['LIFT']=27948-ac.AVERAGE_COST\n",
        "ac"
      ],
      "metadata": {
        "colab": {
          "base_uri": "https://localhost:8080/",
          "height": 143
        },
        "id": "P5WxozuUv2V0",
        "outputId": "ec6c9a2d-3fca-49a4-ccc0-8f0603fe4e9a"
      },
      "execution_count": null,
      "outputs": [
        {
          "output_type": "execute_result",
          "data": {
            "text/plain": [
              "                TOTAL_COST  WELLS  AVERAGE_COST          LIFT\n",
              "MODELING_GROUP                                               \n",
              "TESTING            4296000    149  28832.214765   -884.214765\n",
              "TRAINING           1095000    146   7500.000000  20448.000000"
            ],
            "text/html": [
              "\n",
              "\n",
              "  <div id=\"df-5099beb1-e815-4600-b6bd-e25b60bca1fb\">\n",
              "    <div class=\"colab-df-container\">\n",
              "      <div>\n",
              "<style scoped>\n",
              "    .dataframe tbody tr th:only-of-type {\n",
              "        vertical-align: middle;\n",
              "    }\n",
              "\n",
              "    .dataframe tbody tr th {\n",
              "        vertical-align: top;\n",
              "    }\n",
              "\n",
              "    .dataframe thead th {\n",
              "        text-align: right;\n",
              "    }\n",
              "</style>\n",
              "<table border=\"1\" class=\"dataframe\">\n",
              "  <thead>\n",
              "    <tr style=\"text-align: right;\">\n",
              "      <th></th>\n",
              "      <th>TOTAL_COST</th>\n",
              "      <th>WELLS</th>\n",
              "      <th>AVERAGE_COST</th>\n",
              "      <th>LIFT</th>\n",
              "    </tr>\n",
              "    <tr>\n",
              "      <th>MODELING_GROUP</th>\n",
              "      <th></th>\n",
              "      <th></th>\n",
              "      <th></th>\n",
              "      <th></th>\n",
              "    </tr>\n",
              "  </thead>\n",
              "  <tbody>\n",
              "    <tr>\n",
              "      <th>TESTING</th>\n",
              "      <td>4296000</td>\n",
              "      <td>149</td>\n",
              "      <td>28832.214765</td>\n",
              "      <td>-884.214765</td>\n",
              "    </tr>\n",
              "    <tr>\n",
              "      <th>TRAINING</th>\n",
              "      <td>1095000</td>\n",
              "      <td>146</td>\n",
              "      <td>7500.000000</td>\n",
              "      <td>20448.000000</td>\n",
              "    </tr>\n",
              "  </tbody>\n",
              "</table>\n",
              "</div>\n",
              "      <button class=\"colab-df-convert\" onclick=\"convertToInteractive('df-5099beb1-e815-4600-b6bd-e25b60bca1fb')\"\n",
              "              title=\"Convert this dataframe to an interactive table.\"\n",
              "              style=\"display:none;\">\n",
              "\n",
              "  <svg xmlns=\"http://www.w3.org/2000/svg\" height=\"24px\"viewBox=\"0 0 24 24\"\n",
              "       width=\"24px\">\n",
              "    <path d=\"M0 0h24v24H0V0z\" fill=\"none\"/>\n",
              "    <path d=\"M18.56 5.44l.94 2.06.94-2.06 2.06-.94-2.06-.94-.94-2.06-.94 2.06-2.06.94zm-11 1L8.5 8.5l.94-2.06 2.06-.94-2.06-.94L8.5 2.5l-.94 2.06-2.06.94zm10 10l.94 2.06.94-2.06 2.06-.94-2.06-.94-.94-2.06-.94 2.06-2.06.94z\"/><path d=\"M17.41 7.96l-1.37-1.37c-.4-.4-.92-.59-1.43-.59-.52 0-1.04.2-1.43.59L10.3 9.45l-7.72 7.72c-.78.78-.78 2.05 0 2.83L4 21.41c.39.39.9.59 1.41.59.51 0 1.02-.2 1.41-.59l7.78-7.78 2.81-2.81c.8-.78.8-2.07 0-2.86zM5.41 20L4 18.59l7.72-7.72 1.47 1.35L5.41 20z\"/>\n",
              "  </svg>\n",
              "      </button>\n",
              "\n",
              "\n",
              "\n",
              "    <div id=\"df-cba2503b-28ed-4b2b-aab9-548da737db9b\">\n",
              "      <button class=\"colab-df-quickchart\" onclick=\"quickchart('df-cba2503b-28ed-4b2b-aab9-548da737db9b')\"\n",
              "              title=\"Suggest charts.\"\n",
              "              style=\"display:none;\">\n",
              "\n",
              "<svg xmlns=\"http://www.w3.org/2000/svg\" height=\"24px\"viewBox=\"0 0 24 24\"\n",
              "     width=\"24px\">\n",
              "    <g>\n",
              "        <path d=\"M19 3H5c-1.1 0-2 .9-2 2v14c0 1.1.9 2 2 2h14c1.1 0 2-.9 2-2V5c0-1.1-.9-2-2-2zM9 17H7v-7h2v7zm4 0h-2V7h2v10zm4 0h-2v-4h2v4z\"/>\n",
              "    </g>\n",
              "</svg>\n",
              "      </button>\n",
              "    </div>\n",
              "\n",
              "<style>\n",
              "  .colab-df-quickchart {\n",
              "    background-color: #E8F0FE;\n",
              "    border: none;\n",
              "    border-radius: 50%;\n",
              "    cursor: pointer;\n",
              "    display: none;\n",
              "    fill: #1967D2;\n",
              "    height: 32px;\n",
              "    padding: 0 0 0 0;\n",
              "    width: 32px;\n",
              "  }\n",
              "\n",
              "  .colab-df-quickchart:hover {\n",
              "    background-color: #E2EBFA;\n",
              "    box-shadow: 0px 1px 2px rgba(60, 64, 67, 0.3), 0px 1px 3px 1px rgba(60, 64, 67, 0.15);\n",
              "    fill: #174EA6;\n",
              "  }\n",
              "\n",
              "  [theme=dark] .colab-df-quickchart {\n",
              "    background-color: #3B4455;\n",
              "    fill: #D2E3FC;\n",
              "  }\n",
              "\n",
              "  [theme=dark] .colab-df-quickchart:hover {\n",
              "    background-color: #434B5C;\n",
              "    box-shadow: 0px 1px 3px 1px rgba(0, 0, 0, 0.15);\n",
              "    filter: drop-shadow(0px 1px 2px rgba(0, 0, 0, 0.3));\n",
              "    fill: #FFFFFF;\n",
              "  }\n",
              "</style>\n",
              "\n",
              "    <script>\n",
              "      async function quickchart(key) {\n",
              "        const containerElement = document.querySelector('#' + key);\n",
              "        const charts = await google.colab.kernel.invokeFunction(\n",
              "            'suggestCharts', [key], {});\n",
              "      }\n",
              "    </script>\n",
              "\n",
              "      <script>\n",
              "\n",
              "function displayQuickchartButton(domScope) {\n",
              "  let quickchartButtonEl =\n",
              "    domScope.querySelector('#df-cba2503b-28ed-4b2b-aab9-548da737db9b button.colab-df-quickchart');\n",
              "  quickchartButtonEl.style.display =\n",
              "    google.colab.kernel.accessAllowed ? 'block' : 'none';\n",
              "}\n",
              "\n",
              "        displayQuickchartButton(document);\n",
              "      </script>\n",
              "      <style>\n",
              "    .colab-df-container {\n",
              "      display:flex;\n",
              "      flex-wrap:wrap;\n",
              "      gap: 12px;\n",
              "    }\n",
              "\n",
              "    .colab-df-convert {\n",
              "      background-color: #E8F0FE;\n",
              "      border: none;\n",
              "      border-radius: 50%;\n",
              "      cursor: pointer;\n",
              "      display: none;\n",
              "      fill: #1967D2;\n",
              "      height: 32px;\n",
              "      padding: 0 0 0 0;\n",
              "      width: 32px;\n",
              "    }\n",
              "\n",
              "    .colab-df-convert:hover {\n",
              "      background-color: #E2EBFA;\n",
              "      box-shadow: 0px 1px 2px rgba(60, 64, 67, 0.3), 0px 1px 3px 1px rgba(60, 64, 67, 0.15);\n",
              "      fill: #174EA6;\n",
              "    }\n",
              "\n",
              "    [theme=dark] .colab-df-convert {\n",
              "      background-color: #3B4455;\n",
              "      fill: #D2E3FC;\n",
              "    }\n",
              "\n",
              "    [theme=dark] .colab-df-convert:hover {\n",
              "      background-color: #434B5C;\n",
              "      box-shadow: 0px 1px 3px 1px rgba(0, 0, 0, 0.15);\n",
              "      filter: drop-shadow(0px 1px 2px rgba(0, 0, 0, 0.3));\n",
              "      fill: #FFFFFF;\n",
              "    }\n",
              "  </style>\n",
              "\n",
              "      <script>\n",
              "        const buttonEl =\n",
              "          document.querySelector('#df-5099beb1-e815-4600-b6bd-e25b60bca1fb button.colab-df-convert');\n",
              "        buttonEl.style.display =\n",
              "          google.colab.kernel.accessAllowed ? 'block' : 'none';\n",
              "\n",
              "        async function convertToInteractive(key) {\n",
              "          const element = document.querySelector('#df-5099beb1-e815-4600-b6bd-e25b60bca1fb');\n",
              "          const dataTable =\n",
              "            await google.colab.kernel.invokeFunction('convertToInteractive',\n",
              "                                                     [key], {});\n",
              "          if (!dataTable) return;\n",
              "\n",
              "          const docLinkHtml = 'Like what you see? Visit the ' +\n",
              "            '<a target=\"_blank\" href=https://colab.research.google.com/notebooks/data_table.ipynb>data table notebook</a>'\n",
              "            + ' to learn more about interactive tables.';\n",
              "          element.innerHTML = '';\n",
              "          dataTable['output_type'] = 'display_data';\n",
              "          await google.colab.output.renderOutput(dataTable, element);\n",
              "          const docLink = document.createElement('div');\n",
              "          docLink.innerHTML = docLinkHtml;\n",
              "          element.appendChild(docLink);\n",
              "        }\n",
              "      </script>\n",
              "    </div>\n",
              "  </div>\n"
            ]
          },
          "metadata": {},
          "execution_count": 99
        }
      ]
    },
    {
      "cell_type": "markdown",
      "source": [
        "Fine-Tuning the solution.\n",
        "\n",
        "First, we will define the forecast window and change the cut-off from .50 to 0.02. If the probability is less than 0.02, we expect a non-failure. If the likelihood is more than 0.02, we expect a failure. The forecast window doesn’t change."
      ],
      "metadata": {
        "id": "tRAGHuFYwLpy"
      }
    },
    {
      "cell_type": "code",
      "source": [
        "forecast_window=90\n",
        "cutoff=0.02"
      ],
      "metadata": {
        "id": "Kl4HkqkowM2b"
      },
      "execution_count": null,
      "outputs": []
    },
    {
      "cell_type": "markdown",
      "source": [
        "Now, clean up the data so that only one failure signal occurs every 90 days. Associate a machine with each signal and find the date of each signal."
      ],
      "metadata": {
        "id": "r78UuJWBwWdd"
      }
    },
    {
      "cell_type": "code",
      "source": [
        "df=df_train_test\n",
        "df['P_FAIL']= xgb0.predict_proba(df[features])[:,1];\n",
        "df['Y_FAIL'] = np.where(((df.P_FAIL <= cutoff)), 0, 1)\n",
        "#sort the data by id and date.\n",
        "xx=df\n",
        "xx=xx.sort_values(by=['ID','DATE'], ascending=[True, True])\n",
        "#create a unique list of machines\n",
        "aa=xx\n",
        "pd_id=aa.drop_duplicates(subset='ID')\n",
        "pd_id=pd_id[['ID']]\n",
        "#label each machine with a sequential number\n",
        "pd_id=pd_id.reset_index(drop=True)\n",
        "pd_id=pd_id.reset_index(drop=False)\n",
        "pd_id=pd_id.rename(columns={\"index\": \"SCOOBYDOO\"})\n",
        "pd_id['SCOOBYDOO']=pd_id['SCOOBYDOO']+1\n",
        "pd_id.head()\n",
        "#grab the max number of machines +1\n",
        "column = pd_id[\"SCOOBYDOO\"]\n",
        "max_value = column.max()+1\n",
        "max_value\n",
        "#append sequential number to main file.  Now each machine has a sequencial id.\n",
        "xx=xx.sort_values(by=['ID'], ascending=[True])\n",
        "pd_id=pd_id.sort_values(by=['ID'], ascending=[True])\n",
        "xx =xx.merge(pd_id, on=['ID'], how='inner')\n",
        "xx.head()\n",
        "#sort data\n",
        "xx=xx.sort_values(by=['ID','DATE'], ascending=[True,True])\n",
        "#reset index\n",
        "xx=xx.reset_index(drop=True)\n",
        "#create a null dataframe for the next step\n",
        "df_fred=xx\n",
        "df_fred['Y_FAIL_sumxx']=0\n",
        "df_fred=df_fred[df_fred['SCOOBYDOO'] == max_value+1]\n",
        "df_fred.shape\n",
        "#sum the number of signals occuring over the last 90 days for each machine individually\n",
        "for x in range(max_value):\n",
        "        dffx=xx[xx['SCOOBYDOO'] ==x]\n",
        "        dff=dffx.copy()\n",
        "        dff['Y_FAIL_sumxx'] =(dff['Y_FAIL'].rolling(min_periods=1, window=(forecast_window)).sum())\n",
        "        df_fred= pd.concat([df_fred,dff])\n",
        "\n",
        "\n",
        "xx=df_fred\n",
        "# if a signal has occured in the last 90 days, the signal is 0.\n",
        "xx['Y_FAILZ']=np.where((xx.Y_FAIL_sumxx>1), 0, xx.Y_FAIL)\n",
        "#sort the data by id and date.\n",
        "xx=xx.sort_values(by=['ID','DATE'], ascending=[True, True])\n",
        "#create signal id with the cumsum function.\n",
        "xx['SIGNAL_ID'] = xx['Y_FAILZ'].cumsum()\n",
        "df_signals=xx[xx['Y_FAILZ'] == 1]\n",
        "df_signal_date=df_signals[['SIGNAL_ID','DATE','ID']]\n",
        "df_signal_date=df_signal_date.rename(index=str, columns={\"DATE\": \"SIGNAL_DATE\"})\n",
        "df_signal_date=df_signal_date.rename(index=str, columns={\"ID\": \"ID_OF_SIGNAL\"})\n",
        "xx =xx.merge(df_signal_date, on=['SIGNAL_ID'], how='outer')\n",
        "xx=xx[['DATE', 'ID', 'EQUIPMENT_FAILURE', 'FAILURE_TARGET','FAILURE_DATE',\n",
        "       'P_FAIL', 'Y_FAILZ','SIGNAL_ID',\n",
        "       'SIGNAL_DATE','ID_OF_SIGNAL','MODELING_GROUP']]\n",
        "xx['C'] = xx['FAILURE_DATE'] - xx['SIGNAL_DATE']\n",
        "xx['WARNING'] = xx['C'] / np.timedelta64(1, 'D')\n",
        "df=xx\n"
      ],
      "metadata": {
        "colab": {
          "base_uri": "https://localhost:8080/"
        },
        "id": "XUiYojl8wXaP",
        "outputId": "250e4c08-5cda-451f-f3b4-3625b25e0ad8"
      },
      "execution_count": null,
      "outputs": [
        {
          "output_type": "stream",
          "name": "stderr",
          "text": [
            "<ipython-input-101-89f60ac9915d>:58: SettingWithCopyWarning: \n",
            "A value is trying to be set on a copy of a slice from a DataFrame.\n",
            "Try using .loc[row_indexer,col_indexer] = value instead\n",
            "\n",
            "See the caveats in the documentation: https://pandas.pydata.org/pandas-docs/stable/user_guide/indexing.html#returning-a-view-versus-a-copy\n",
            "  xx['C'] = xx['FAILURE_DATE'] - xx['SIGNAL_DATE']\n",
            "<ipython-input-101-89f60ac9915d>:59: SettingWithCopyWarning: \n",
            "A value is trying to be set on a copy of a slice from a DataFrame.\n",
            "Try using .loc[row_indexer,col_indexer] = value instead\n",
            "\n",
            "See the caveats in the documentation: https://pandas.pydata.org/pandas-docs/stable/user_guide/indexing.html#returning-a-view-versus-a-copy\n",
            "  xx['WARNING'] = xx['C'] / np.timedelta64(1, 'D')\n"
          ]
        }
      ]
    },
    {
      "cell_type": "markdown",
      "source": [
        "Use Heuristics to define false positives, false negatives, true positives and true negatives."
      ],
      "metadata": {
        "id": "4ITFGzyTwjYB"
      }
    },
    {
      "cell_type": "code",
      "source": [
        "# define a true positive\n",
        "df['TRUE_POSITIVE'] = np.where(((df.EQUIPMENT_FAILURE == 1) & (df.WARNING<=forecast_window) &(df.WARNING>=0) & (df.ID_OF_SIGNAL==df.ID)), 1, 0)\n",
        "# define a false negative\n",
        "df['FALSE_NEGATIVE'] = np.where((df.TRUE_POSITIVE==0) & (df.EQUIPMENT_FAILURE==1), 1, 0)\n",
        "# define a false positive\n",
        "df['BAD_S']=np.where((df.WARNING<0) | (df.WARNING>=forecast_window), 1, 0)\n",
        "df['FALSE_POSITIVE'] = np.where(((df.Y_FAILZ == 1) & (df.BAD_S==1) & (df.ID_OF_SIGNAL==df.ID)), 1, 0)\n",
        "df['bootie']=1\n",
        "df['CATEGORY']=np.where((df.FALSE_POSITIVE==1),'FALSE_POSITIVE',\n",
        "                                      (np.where((df.FALSE_NEGATIVE==1),'FALSE_NEGATIVE',\n",
        "                                                (np.where((df.TRUE_POSITIVE==1),'TRUE_POSITIVE','TRUE_NEGATIVE')))))"
      ],
      "metadata": {
        "id": "8ViEzLd4wkRP"
      },
      "execution_count": null,
      "outputs": []
    },
    {
      "cell_type": "markdown",
      "source": [
        "cross-tabulation."
      ],
      "metadata": {
        "id": "TgNzqSBnwpNz"
      }
    },
    {
      "cell_type": "code",
      "source": [
        "table = pd.pivot_table(df, values=['bootie'], index=['MODELING_GROUP'],columns=['CATEGORY'], aggfunc=np.sum)\n",
        "table"
      ],
      "metadata": {
        "colab": {
          "base_uri": "https://localhost:8080/",
          "height": 175
        },
        "id": "1DgzxzaNwp8p",
        "outputId": "06c8f5c5-607c-4683-adc8-0bb6bbbffb91"
      },
      "execution_count": null,
      "outputs": [
        {
          "output_type": "execute_result",
          "data": {
            "text/plain": [
              "                       bootie                                           \n",
              "CATEGORY       FALSE_NEGATIVE FALSE_POSITIVE TRUE_NEGATIVE TRUE_POSITIVE\n",
              "MODELING_GROUP                                                          \n",
              "TESTING                    99            276        108494            50\n",
              "TRAINING                    8             48        106532           138"
            ],
            "text/html": [
              "\n",
              "\n",
              "  <div id=\"df-7994364c-6f36-4e61-9487-2d6b04aa9f99\">\n",
              "    <div class=\"colab-df-container\">\n",
              "      <div>\n",
              "<style scoped>\n",
              "    .dataframe tbody tr th:only-of-type {\n",
              "        vertical-align: middle;\n",
              "    }\n",
              "\n",
              "    .dataframe tbody tr th {\n",
              "        vertical-align: top;\n",
              "    }\n",
              "\n",
              "    .dataframe thead tr th {\n",
              "        text-align: left;\n",
              "    }\n",
              "\n",
              "    .dataframe thead tr:last-of-type th {\n",
              "        text-align: right;\n",
              "    }\n",
              "</style>\n",
              "<table border=\"1\" class=\"dataframe\">\n",
              "  <thead>\n",
              "    <tr>\n",
              "      <th></th>\n",
              "      <th colspan=\"4\" halign=\"left\">bootie</th>\n",
              "    </tr>\n",
              "    <tr>\n",
              "      <th>CATEGORY</th>\n",
              "      <th>FALSE_NEGATIVE</th>\n",
              "      <th>FALSE_POSITIVE</th>\n",
              "      <th>TRUE_NEGATIVE</th>\n",
              "      <th>TRUE_POSITIVE</th>\n",
              "    </tr>\n",
              "    <tr>\n",
              "      <th>MODELING_GROUP</th>\n",
              "      <th></th>\n",
              "      <th></th>\n",
              "      <th></th>\n",
              "      <th></th>\n",
              "    </tr>\n",
              "  </thead>\n",
              "  <tbody>\n",
              "    <tr>\n",
              "      <th>TESTING</th>\n",
              "      <td>99</td>\n",
              "      <td>276</td>\n",
              "      <td>108494</td>\n",
              "      <td>50</td>\n",
              "    </tr>\n",
              "    <tr>\n",
              "      <th>TRAINING</th>\n",
              "      <td>8</td>\n",
              "      <td>48</td>\n",
              "      <td>106532</td>\n",
              "      <td>138</td>\n",
              "    </tr>\n",
              "  </tbody>\n",
              "</table>\n",
              "</div>\n",
              "      <button class=\"colab-df-convert\" onclick=\"convertToInteractive('df-7994364c-6f36-4e61-9487-2d6b04aa9f99')\"\n",
              "              title=\"Convert this dataframe to an interactive table.\"\n",
              "              style=\"display:none;\">\n",
              "\n",
              "  <svg xmlns=\"http://www.w3.org/2000/svg\" height=\"24px\"viewBox=\"0 0 24 24\"\n",
              "       width=\"24px\">\n",
              "    <path d=\"M0 0h24v24H0V0z\" fill=\"none\"/>\n",
              "    <path d=\"M18.56 5.44l.94 2.06.94-2.06 2.06-.94-2.06-.94-.94-2.06-.94 2.06-2.06.94zm-11 1L8.5 8.5l.94-2.06 2.06-.94-2.06-.94L8.5 2.5l-.94 2.06-2.06.94zm10 10l.94 2.06.94-2.06 2.06-.94-2.06-.94-.94-2.06-.94 2.06-2.06.94z\"/><path d=\"M17.41 7.96l-1.37-1.37c-.4-.4-.92-.59-1.43-.59-.52 0-1.04.2-1.43.59L10.3 9.45l-7.72 7.72c-.78.78-.78 2.05 0 2.83L4 21.41c.39.39.9.59 1.41.59.51 0 1.02-.2 1.41-.59l7.78-7.78 2.81-2.81c.8-.78.8-2.07 0-2.86zM5.41 20L4 18.59l7.72-7.72 1.47 1.35L5.41 20z\"/>\n",
              "  </svg>\n",
              "      </button>\n",
              "\n",
              "\n",
              "\n",
              "    <div id=\"df-95b38516-8474-488a-9076-0fd6327a1994\">\n",
              "      <button class=\"colab-df-quickchart\" onclick=\"quickchart('df-95b38516-8474-488a-9076-0fd6327a1994')\"\n",
              "              title=\"Suggest charts.\"\n",
              "              style=\"display:none;\">\n",
              "\n",
              "<svg xmlns=\"http://www.w3.org/2000/svg\" height=\"24px\"viewBox=\"0 0 24 24\"\n",
              "     width=\"24px\">\n",
              "    <g>\n",
              "        <path d=\"M19 3H5c-1.1 0-2 .9-2 2v14c0 1.1.9 2 2 2h14c1.1 0 2-.9 2-2V5c0-1.1-.9-2-2-2zM9 17H7v-7h2v7zm4 0h-2V7h2v10zm4 0h-2v-4h2v4z\"/>\n",
              "    </g>\n",
              "</svg>\n",
              "      </button>\n",
              "    </div>\n",
              "\n",
              "<style>\n",
              "  .colab-df-quickchart {\n",
              "    background-color: #E8F0FE;\n",
              "    border: none;\n",
              "    border-radius: 50%;\n",
              "    cursor: pointer;\n",
              "    display: none;\n",
              "    fill: #1967D2;\n",
              "    height: 32px;\n",
              "    padding: 0 0 0 0;\n",
              "    width: 32px;\n",
              "  }\n",
              "\n",
              "  .colab-df-quickchart:hover {\n",
              "    background-color: #E2EBFA;\n",
              "    box-shadow: 0px 1px 2px rgba(60, 64, 67, 0.3), 0px 1px 3px 1px rgba(60, 64, 67, 0.15);\n",
              "    fill: #174EA6;\n",
              "  }\n",
              "\n",
              "  [theme=dark] .colab-df-quickchart {\n",
              "    background-color: #3B4455;\n",
              "    fill: #D2E3FC;\n",
              "  }\n",
              "\n",
              "  [theme=dark] .colab-df-quickchart:hover {\n",
              "    background-color: #434B5C;\n",
              "    box-shadow: 0px 1px 3px 1px rgba(0, 0, 0, 0.15);\n",
              "    filter: drop-shadow(0px 1px 2px rgba(0, 0, 0, 0.3));\n",
              "    fill: #FFFFFF;\n",
              "  }\n",
              "</style>\n",
              "\n",
              "    <script>\n",
              "      async function quickchart(key) {\n",
              "        const containerElement = document.querySelector('#' + key);\n",
              "        const charts = await google.colab.kernel.invokeFunction(\n",
              "            'suggestCharts', [key], {});\n",
              "      }\n",
              "    </script>\n",
              "\n",
              "      <script>\n",
              "\n",
              "function displayQuickchartButton(domScope) {\n",
              "  let quickchartButtonEl =\n",
              "    domScope.querySelector('#df-95b38516-8474-488a-9076-0fd6327a1994 button.colab-df-quickchart');\n",
              "  quickchartButtonEl.style.display =\n",
              "    google.colab.kernel.accessAllowed ? 'block' : 'none';\n",
              "}\n",
              "\n",
              "        displayQuickchartButton(document);\n",
              "      </script>\n",
              "      <style>\n",
              "    .colab-df-container {\n",
              "      display:flex;\n",
              "      flex-wrap:wrap;\n",
              "      gap: 12px;\n",
              "    }\n",
              "\n",
              "    .colab-df-convert {\n",
              "      background-color: #E8F0FE;\n",
              "      border: none;\n",
              "      border-radius: 50%;\n",
              "      cursor: pointer;\n",
              "      display: none;\n",
              "      fill: #1967D2;\n",
              "      height: 32px;\n",
              "      padding: 0 0 0 0;\n",
              "      width: 32px;\n",
              "    }\n",
              "\n",
              "    .colab-df-convert:hover {\n",
              "      background-color: #E2EBFA;\n",
              "      box-shadow: 0px 1px 2px rgba(60, 64, 67, 0.3), 0px 1px 3px 1px rgba(60, 64, 67, 0.15);\n",
              "      fill: #174EA6;\n",
              "    }\n",
              "\n",
              "    [theme=dark] .colab-df-convert {\n",
              "      background-color: #3B4455;\n",
              "      fill: #D2E3FC;\n",
              "    }\n",
              "\n",
              "    [theme=dark] .colab-df-convert:hover {\n",
              "      background-color: #434B5C;\n",
              "      box-shadow: 0px 1px 3px 1px rgba(0, 0, 0, 0.15);\n",
              "      filter: drop-shadow(0px 1px 2px rgba(0, 0, 0, 0.3));\n",
              "      fill: #FFFFFF;\n",
              "    }\n",
              "  </style>\n",
              "\n",
              "      <script>\n",
              "        const buttonEl =\n",
              "          document.querySelector('#df-7994364c-6f36-4e61-9487-2d6b04aa9f99 button.colab-df-convert');\n",
              "        buttonEl.style.display =\n",
              "          google.colab.kernel.accessAllowed ? 'block' : 'none';\n",
              "\n",
              "        async function convertToInteractive(key) {\n",
              "          const element = document.querySelector('#df-7994364c-6f36-4e61-9487-2d6b04aa9f99');\n",
              "          const dataTable =\n",
              "            await google.colab.kernel.invokeFunction('convertToInteractive',\n",
              "                                                     [key], {});\n",
              "          if (!dataTable) return;\n",
              "\n",
              "          const docLinkHtml = 'Like what you see? Visit the ' +\n",
              "            '<a target=\"_blank\" href=https://colab.research.google.com/notebooks/data_table.ipynb>data table notebook</a>'\n",
              "            + ' to learn more about interactive tables.';\n",
              "          element.innerHTML = '';\n",
              "          dataTable['output_type'] = 'display_data';\n",
              "          await google.colab.output.renderOutput(dataTable, element);\n",
              "          const docLink = document.createElement('div');\n",
              "          docLink.innerHTML = docLinkHtml;\n",
              "          element.appendChild(docLink);\n",
              "        }\n",
              "      </script>\n",
              "    </div>\n",
              "  </div>\n"
            ]
          },
          "metadata": {},
          "execution_count": 103
        }
      ]
    },
    {
      "cell_type": "code",
      "source": [
        "#Now we can calculate the total cost.\n",
        "df['TOTAL_COST']=df.FALSE_NEGATIVE*30000+df.FALSE_POSITIVE*1500+df.TRUE_POSITIVE*7500\n",
        "#Aggregate the costs by modeling group.\n",
        "table = pd.pivot_table(df, values=['TOTAL_COST'],index=['MODELING_GROUP'], aggfunc=np.sum)\n",
        "#Calculate the number of machines in each modeling group.\n",
        "wells=df[['ID','MODELING_GROUP']]\n",
        "wells=wells.drop_duplicates(subset='ID')\n",
        "wells = wells.groupby(['MODELING_GROUP'])['ID'].count()\n",
        "wells=pd.DataFrame(wells)\n",
        "wells=wells.rename(columns={\"ID\": \"WELLS\"})\n",
        "tc = df.groupby(['MODELING_GROUP'])['TOTAL_COST'].sum()\n",
        "tc=pd.DataFrame(tc)\n",
        "#Merge the total costs and total machines into one data frame.\n",
        "ac =tc.merge(wells, on=['MODELING_GROUP'], how='inner')\n",
        "#Calculate the average cost per machine.\n",
        "ac['AVERAGE_COST']=ac.TOTAL_COST/ac.WELLS\n",
        "ac['LIFT']=27948-ac.AVERAGE_COST\n",
        "ac\n"
      ],
      "metadata": {
        "colab": {
          "base_uri": "https://localhost:8080/",
          "height": 143
        },
        "id": "PmeA2R9dwwO0",
        "outputId": "5e9c544d-1388-4428-ff87-b2ced572e969"
      },
      "execution_count": null,
      "outputs": [
        {
          "output_type": "execute_result",
          "data": {
            "text/plain": [
              "                TOTAL_COST  WELLS  AVERAGE_COST          LIFT\n",
              "MODELING_GROUP                                               \n",
              "TESTING            3759000    149  25228.187919   2719.812081\n",
              "TRAINING           1347000    146   9226.027397  18721.972603"
            ],
            "text/html": [
              "\n",
              "\n",
              "  <div id=\"df-744a698b-6efd-4c53-97e7-d036b802a699\">\n",
              "    <div class=\"colab-df-container\">\n",
              "      <div>\n",
              "<style scoped>\n",
              "    .dataframe tbody tr th:only-of-type {\n",
              "        vertical-align: middle;\n",
              "    }\n",
              "\n",
              "    .dataframe tbody tr th {\n",
              "        vertical-align: top;\n",
              "    }\n",
              "\n",
              "    .dataframe thead th {\n",
              "        text-align: right;\n",
              "    }\n",
              "</style>\n",
              "<table border=\"1\" class=\"dataframe\">\n",
              "  <thead>\n",
              "    <tr style=\"text-align: right;\">\n",
              "      <th></th>\n",
              "      <th>TOTAL_COST</th>\n",
              "      <th>WELLS</th>\n",
              "      <th>AVERAGE_COST</th>\n",
              "      <th>LIFT</th>\n",
              "    </tr>\n",
              "    <tr>\n",
              "      <th>MODELING_GROUP</th>\n",
              "      <th></th>\n",
              "      <th></th>\n",
              "      <th></th>\n",
              "      <th></th>\n",
              "    </tr>\n",
              "  </thead>\n",
              "  <tbody>\n",
              "    <tr>\n",
              "      <th>TESTING</th>\n",
              "      <td>3759000</td>\n",
              "      <td>149</td>\n",
              "      <td>25228.187919</td>\n",
              "      <td>2719.812081</td>\n",
              "    </tr>\n",
              "    <tr>\n",
              "      <th>TRAINING</th>\n",
              "      <td>1347000</td>\n",
              "      <td>146</td>\n",
              "      <td>9226.027397</td>\n",
              "      <td>18721.972603</td>\n",
              "    </tr>\n",
              "  </tbody>\n",
              "</table>\n",
              "</div>\n",
              "      <button class=\"colab-df-convert\" onclick=\"convertToInteractive('df-744a698b-6efd-4c53-97e7-d036b802a699')\"\n",
              "              title=\"Convert this dataframe to an interactive table.\"\n",
              "              style=\"display:none;\">\n",
              "\n",
              "  <svg xmlns=\"http://www.w3.org/2000/svg\" height=\"24px\"viewBox=\"0 0 24 24\"\n",
              "       width=\"24px\">\n",
              "    <path d=\"M0 0h24v24H0V0z\" fill=\"none\"/>\n",
              "    <path d=\"M18.56 5.44l.94 2.06.94-2.06 2.06-.94-2.06-.94-.94-2.06-.94 2.06-2.06.94zm-11 1L8.5 8.5l.94-2.06 2.06-.94-2.06-.94L8.5 2.5l-.94 2.06-2.06.94zm10 10l.94 2.06.94-2.06 2.06-.94-2.06-.94-.94-2.06-.94 2.06-2.06.94z\"/><path d=\"M17.41 7.96l-1.37-1.37c-.4-.4-.92-.59-1.43-.59-.52 0-1.04.2-1.43.59L10.3 9.45l-7.72 7.72c-.78.78-.78 2.05 0 2.83L4 21.41c.39.39.9.59 1.41.59.51 0 1.02-.2 1.41-.59l7.78-7.78 2.81-2.81c.8-.78.8-2.07 0-2.86zM5.41 20L4 18.59l7.72-7.72 1.47 1.35L5.41 20z\"/>\n",
              "  </svg>\n",
              "      </button>\n",
              "\n",
              "\n",
              "\n",
              "    <div id=\"df-a7fdc352-ff1e-4217-9b9f-1b111d6d94e6\">\n",
              "      <button class=\"colab-df-quickchart\" onclick=\"quickchart('df-a7fdc352-ff1e-4217-9b9f-1b111d6d94e6')\"\n",
              "              title=\"Suggest charts.\"\n",
              "              style=\"display:none;\">\n",
              "\n",
              "<svg xmlns=\"http://www.w3.org/2000/svg\" height=\"24px\"viewBox=\"0 0 24 24\"\n",
              "     width=\"24px\">\n",
              "    <g>\n",
              "        <path d=\"M19 3H5c-1.1 0-2 .9-2 2v14c0 1.1.9 2 2 2h14c1.1 0 2-.9 2-2V5c0-1.1-.9-2-2-2zM9 17H7v-7h2v7zm4 0h-2V7h2v10zm4 0h-2v-4h2v4z\"/>\n",
              "    </g>\n",
              "</svg>\n",
              "      </button>\n",
              "    </div>\n",
              "\n",
              "<style>\n",
              "  .colab-df-quickchart {\n",
              "    background-color: #E8F0FE;\n",
              "    border: none;\n",
              "    border-radius: 50%;\n",
              "    cursor: pointer;\n",
              "    display: none;\n",
              "    fill: #1967D2;\n",
              "    height: 32px;\n",
              "    padding: 0 0 0 0;\n",
              "    width: 32px;\n",
              "  }\n",
              "\n",
              "  .colab-df-quickchart:hover {\n",
              "    background-color: #E2EBFA;\n",
              "    box-shadow: 0px 1px 2px rgba(60, 64, 67, 0.3), 0px 1px 3px 1px rgba(60, 64, 67, 0.15);\n",
              "    fill: #174EA6;\n",
              "  }\n",
              "\n",
              "  [theme=dark] .colab-df-quickchart {\n",
              "    background-color: #3B4455;\n",
              "    fill: #D2E3FC;\n",
              "  }\n",
              "\n",
              "  [theme=dark] .colab-df-quickchart:hover {\n",
              "    background-color: #434B5C;\n",
              "    box-shadow: 0px 1px 3px 1px rgba(0, 0, 0, 0.15);\n",
              "    filter: drop-shadow(0px 1px 2px rgba(0, 0, 0, 0.3));\n",
              "    fill: #FFFFFF;\n",
              "  }\n",
              "</style>\n",
              "\n",
              "    <script>\n",
              "      async function quickchart(key) {\n",
              "        const containerElement = document.querySelector('#' + key);\n",
              "        const charts = await google.colab.kernel.invokeFunction(\n",
              "            'suggestCharts', [key], {});\n",
              "      }\n",
              "    </script>\n",
              "\n",
              "      <script>\n",
              "\n",
              "function displayQuickchartButton(domScope) {\n",
              "  let quickchartButtonEl =\n",
              "    domScope.querySelector('#df-a7fdc352-ff1e-4217-9b9f-1b111d6d94e6 button.colab-df-quickchart');\n",
              "  quickchartButtonEl.style.display =\n",
              "    google.colab.kernel.accessAllowed ? 'block' : 'none';\n",
              "}\n",
              "\n",
              "        displayQuickchartButton(document);\n",
              "      </script>\n",
              "      <style>\n",
              "    .colab-df-container {\n",
              "      display:flex;\n",
              "      flex-wrap:wrap;\n",
              "      gap: 12px;\n",
              "    }\n",
              "\n",
              "    .colab-df-convert {\n",
              "      background-color: #E8F0FE;\n",
              "      border: none;\n",
              "      border-radius: 50%;\n",
              "      cursor: pointer;\n",
              "      display: none;\n",
              "      fill: #1967D2;\n",
              "      height: 32px;\n",
              "      padding: 0 0 0 0;\n",
              "      width: 32px;\n",
              "    }\n",
              "\n",
              "    .colab-df-convert:hover {\n",
              "      background-color: #E2EBFA;\n",
              "      box-shadow: 0px 1px 2px rgba(60, 64, 67, 0.3), 0px 1px 3px 1px rgba(60, 64, 67, 0.15);\n",
              "      fill: #174EA6;\n",
              "    }\n",
              "\n",
              "    [theme=dark] .colab-df-convert {\n",
              "      background-color: #3B4455;\n",
              "      fill: #D2E3FC;\n",
              "    }\n",
              "\n",
              "    [theme=dark] .colab-df-convert:hover {\n",
              "      background-color: #434B5C;\n",
              "      box-shadow: 0px 1px 3px 1px rgba(0, 0, 0, 0.15);\n",
              "      filter: drop-shadow(0px 1px 2px rgba(0, 0, 0, 0.3));\n",
              "      fill: #FFFFFF;\n",
              "    }\n",
              "  </style>\n",
              "\n",
              "      <script>\n",
              "        const buttonEl =\n",
              "          document.querySelector('#df-744a698b-6efd-4c53-97e7-d036b802a699 button.colab-df-convert');\n",
              "        buttonEl.style.display =\n",
              "          google.colab.kernel.accessAllowed ? 'block' : 'none';\n",
              "\n",
              "        async function convertToInteractive(key) {\n",
              "          const element = document.querySelector('#df-744a698b-6efd-4c53-97e7-d036b802a699');\n",
              "          const dataTable =\n",
              "            await google.colab.kernel.invokeFunction('convertToInteractive',\n",
              "                                                     [key], {});\n",
              "          if (!dataTable) return;\n",
              "\n",
              "          const docLinkHtml = 'Like what you see? Visit the ' +\n",
              "            '<a target=\"_blank\" href=https://colab.research.google.com/notebooks/data_table.ipynb>data table notebook</a>'\n",
              "            + ' to learn more about interactive tables.';\n",
              "          element.innerHTML = '';\n",
              "          dataTable['output_type'] = 'display_data';\n",
              "          await google.colab.output.renderOutput(dataTable, element);\n",
              "          const docLink = document.createElement('div');\n",
              "          docLink.innerHTML = docLinkHtml;\n",
              "          element.appendChild(docLink);\n",
              "        }\n",
              "      </script>\n",
              "    </div>\n",
              "  </div>\n"
            ]
          },
          "metadata": {},
          "execution_count": 104
        }
      ]
    },
    {
      "cell_type": "markdown",
      "source": [
        "Validating the solution."
      ],
      "metadata": {
        "id": "2Z-nAHbcw1FY"
      }
    },
    {
      "cell_type": "code",
      "source": [
        "df=df_total\n",
        "df['P_FAIL']= xgb0.predict_proba(df[features])[:,1];\n",
        "df['Y_FAIL'] = np.where(((df.P_FAIL <= cutoff)), 0, 1)\n",
        "#sort the data by id and date.\n",
        "xx=df\n",
        "xx=xx.sort_values(by=['ID','DATE'], ascending=[True, True])\n",
        "#create a unique list of machines\n",
        "aa=xx\n",
        "pd_id=aa.drop_duplicates(subset='ID')\n",
        "pd_id=pd_id[['ID']]\n",
        "#label each machine with a sequential number\n",
        "pd_id=pd_id.reset_index(drop=True)\n",
        "pd_id=pd_id.reset_index(drop=False)\n",
        "pd_id=pd_id.rename(columns={\"index\": \"SCOOBYDOO\"})\n",
        "pd_id['SCOOBYDOO']=pd_id['SCOOBYDOO']+1\n",
        "pd_id.head()\n",
        "#grab the max number of machines +1\n",
        "column = pd_id[\"SCOOBYDOO\"]\n",
        "max_value = column.max()+1\n",
        "max_value\n",
        "#append sequential number to main file.  Now each machine has a sequencial id.\n",
        "xx=xx.sort_values(by=['ID'], ascending=[True])\n",
        "pd_id=pd_id.sort_values(by=['ID'], ascending=[True])\n",
        "xx =xx.merge(pd_id, on=['ID'], how='inner')\n",
        "xx.head()\n",
        "#sort data\n",
        "xx=xx.sort_values(by=['ID','DATE'], ascending=[True,True])\n",
        "#reset index\n",
        "xx=xx.reset_index(drop=True)\n",
        "#create a null dataframe for the next step\n",
        "df_fred=xx\n",
        "df_fred['Y_FAIL_sumxx']=0\n",
        "df_fred=df_fred[df_fred['SCOOBYDOO'] == max_value+1]\n",
        "df_fred.shape\n",
        "#sum the number of signals occuring over the last 90 days for each machine individually\n",
        "for x in range(max_value):\n",
        "        dffx=xx[xx['SCOOBYDOO'] ==x]\n",
        "        dff=dffx.copy()\n",
        "        dff['Y_FAIL_sumxx'] =(dff['Y_FAIL'].rolling(min_periods=1, window=(forecast_window)).sum())\n",
        "        df_fred= pd.concat([df_fred,dff])\n",
        "\n",
        "\n",
        "xx=df_fred\n",
        "# if a signal has occured in the last 90 days, the signal is 0.\n",
        "xx['Y_FAILZ']=np.where((xx.Y_FAIL_sumxx>1), 0, xx.Y_FAIL)\n",
        "#sort the data by id and date.\n",
        "xx=xx.sort_values(by=['ID','DATE'], ascending=[True, True])\n",
        "#create signal id with the cumsum function.\n",
        "xx['SIGNAL_ID'] = xx['Y_FAILZ'].cumsum()\n",
        "df_signals=xx[xx['Y_FAILZ'] == 1]\n",
        "df_signal_date=df_signals[['SIGNAL_ID','DATE','ID']]\n",
        "df_signal_date=df_signal_date.rename(index=str, columns={\"DATE\": \"SIGNAL_DATE\"})\n",
        "df_signal_date=df_signal_date.rename(index=str, columns={\"ID\": \"ID_OF_SIGNAL\"})\n",
        "xx =xx.merge(df_signal_date, on=['SIGNAL_ID'], how='outer')\n",
        "xx=xx[['DATE', 'ID', 'EQUIPMENT_FAILURE', 'FAILURE_TARGET','FAILURE_DATE',\n",
        "       'P_FAIL', 'Y_FAILZ','SIGNAL_ID',\n",
        "       'SIGNAL_DATE','ID_OF_SIGNAL','MODELING_GROUP']]\n",
        "xx['C'] = xx['FAILURE_DATE'] - xx['SIGNAL_DATE']\n",
        "xx['WARNING'] = xx['C'] / np.timedelta64(1, 'D')\n",
        "df=xx\n",
        "# define a true positive\n",
        "df['TRUE_POSITIVE'] = np.where(((df.EQUIPMENT_FAILURE == 1) & (df.WARNING<=forecast_window) &(df.WARNING>=0) & (df.ID_OF_SIGNAL==df.ID)), 1, 0)\n",
        "# define a false negative\n",
        "df['FALSE_NEGATIVE'] = np.where((df.TRUE_POSITIVE==0) & (df.EQUIPMENT_FAILURE==1), 1, 0)\n",
        "# define a false positive\n",
        "df['BAD_S']=np.where((df.WARNING<0) | (df.WARNING>=forecast_window), 1, 0)\n",
        "df['FALSE_POSITIVE'] = np.where(((df.Y_FAILZ == 1) & (df.BAD_S==1) & (df.ID_OF_SIGNAL==df.ID)), 1, 0)\n",
        "df['bootie']=1\n",
        "df['CATEGORY']=np.where((df.FALSE_POSITIVE==1),'FALSE_POSITIVE',\n",
        "                                      (np.where((df.FALSE_NEGATIVE==1),'FALSE_NEGATIVE',\n",
        "                                                (np.where((df.TRUE_POSITIVE==1),'TRUE_POSITIVE','TRUE_NEGATIVE')))))\n",
        "#Now we can calculate the total cost.\n",
        "df['TOTAL_COST']=df.FALSE_NEGATIVE*30000+df.FALSE_POSITIVE*1500+df.TRUE_POSITIVE*7500\n",
        "#Aggregate the costs by modeling group.\n",
        "table = pd.pivot_table(df, values=['TOTAL_COST'],index=['MODELING_GROUP'], aggfunc=np.sum)\n",
        "#Calculate the number of machines in each modeling group.\n",
        "wells=df[['ID','MODELING_GROUP']]\n",
        "wells=wells.drop_duplicates(subset='ID')\n",
        "wells = wells.groupby(['MODELING_GROUP'])['ID'].count()\n",
        "wells=pd.DataFrame(wells)\n",
        "wells=wells.rename(columns={\"ID\": \"WELLS\"})\n",
        "tc = df.groupby(['MODELING_GROUP'])['TOTAL_COST'].sum()\n",
        "tc=pd.DataFrame(tc)\n",
        "#Merge the total costs and total machines into one data frame.\n",
        "ac =tc.merge(wells, on=['MODELING_GROUP'], how='inner')\n",
        "#Calculate the average cost per machine.\n",
        "ac['AVERAGE_COST']=ac.TOTAL_COST/ac.WELLS\n",
        "ac['LIFT']=27948-ac.AVERAGE_COST\n",
        "ac\n"
      ],
      "metadata": {
        "colab": {
          "base_uri": "https://localhost:8080/",
          "height": 945
        },
        "id": "lacU3Cf0w2sl",
        "outputId": "d7744b92-804c-4142-9dd5-8ada8ae6aa7d"
      },
      "execution_count": null,
      "outputs": [
        {
          "output_type": "stream",
          "name": "stderr",
          "text": [
            "<ipython-input-105-45c9c9b9f33f>:58: SettingWithCopyWarning: \n",
            "A value is trying to be set on a copy of a slice from a DataFrame.\n",
            "Try using .loc[row_indexer,col_indexer] = value instead\n",
            "\n",
            "See the caveats in the documentation: https://pandas.pydata.org/pandas-docs/stable/user_guide/indexing.html#returning-a-view-versus-a-copy\n",
            "  xx['C'] = xx['FAILURE_DATE'] - xx['SIGNAL_DATE']\n",
            "<ipython-input-105-45c9c9b9f33f>:59: SettingWithCopyWarning: \n",
            "A value is trying to be set on a copy of a slice from a DataFrame.\n",
            "Try using .loc[row_indexer,col_indexer] = value instead\n",
            "\n",
            "See the caveats in the documentation: https://pandas.pydata.org/pandas-docs/stable/user_guide/indexing.html#returning-a-view-versus-a-copy\n",
            "  xx['WARNING'] = xx['C'] / np.timedelta64(1, 'D')\n",
            "<ipython-input-105-45c9c9b9f33f>:62: SettingWithCopyWarning: \n",
            "A value is trying to be set on a copy of a slice from a DataFrame.\n",
            "Try using .loc[row_indexer,col_indexer] = value instead\n",
            "\n",
            "See the caveats in the documentation: https://pandas.pydata.org/pandas-docs/stable/user_guide/indexing.html#returning-a-view-versus-a-copy\n",
            "  df['TRUE_POSITIVE'] = np.where(((df.EQUIPMENT_FAILURE == 1) & (df.WARNING<=forecast_window) &(df.WARNING>=0) & (df.ID_OF_SIGNAL==df.ID)), 1, 0)\n",
            "<ipython-input-105-45c9c9b9f33f>:64: SettingWithCopyWarning: \n",
            "A value is trying to be set on a copy of a slice from a DataFrame.\n",
            "Try using .loc[row_indexer,col_indexer] = value instead\n",
            "\n",
            "See the caveats in the documentation: https://pandas.pydata.org/pandas-docs/stable/user_guide/indexing.html#returning-a-view-versus-a-copy\n",
            "  df['FALSE_NEGATIVE'] = np.where((df.TRUE_POSITIVE==0) & (df.EQUIPMENT_FAILURE==1), 1, 0)\n",
            "<ipython-input-105-45c9c9b9f33f>:66: SettingWithCopyWarning: \n",
            "A value is trying to be set on a copy of a slice from a DataFrame.\n",
            "Try using .loc[row_indexer,col_indexer] = value instead\n",
            "\n",
            "See the caveats in the documentation: https://pandas.pydata.org/pandas-docs/stable/user_guide/indexing.html#returning-a-view-versus-a-copy\n",
            "  df['BAD_S']=np.where((df.WARNING<0) | (df.WARNING>=forecast_window), 1, 0)\n",
            "<ipython-input-105-45c9c9b9f33f>:67: SettingWithCopyWarning: \n",
            "A value is trying to be set on a copy of a slice from a DataFrame.\n",
            "Try using .loc[row_indexer,col_indexer] = value instead\n",
            "\n",
            "See the caveats in the documentation: https://pandas.pydata.org/pandas-docs/stable/user_guide/indexing.html#returning-a-view-versus-a-copy\n",
            "  df['FALSE_POSITIVE'] = np.where(((df.Y_FAILZ == 1) & (df.BAD_S==1) & (df.ID_OF_SIGNAL==df.ID)), 1, 0)\n",
            "<ipython-input-105-45c9c9b9f33f>:68: SettingWithCopyWarning: \n",
            "A value is trying to be set on a copy of a slice from a DataFrame.\n",
            "Try using .loc[row_indexer,col_indexer] = value instead\n",
            "\n",
            "See the caveats in the documentation: https://pandas.pydata.org/pandas-docs/stable/user_guide/indexing.html#returning-a-view-versus-a-copy\n",
            "  df['bootie']=1\n"
          ]
        },
        {
          "output_type": "execute_result",
          "data": {
            "text/plain": [
              "                TOTAL_COST  WELLS  AVERAGE_COST          LIFT\n",
              "MODELING_GROUP                                               \n",
              "TESTING            3759000    149  25228.187919   2719.812081\n",
              "TRAINING           1347000    146   9226.027397  18721.972603\n",
              "VALIDATION         3064500    126  24321.428571   3626.571429"
            ],
            "text/html": [
              "\n",
              "\n",
              "  <div id=\"df-4c6cae2e-c30b-4ac5-95eb-7a06a5cf7900\">\n",
              "    <div class=\"colab-df-container\">\n",
              "      <div>\n",
              "<style scoped>\n",
              "    .dataframe tbody tr th:only-of-type {\n",
              "        vertical-align: middle;\n",
              "    }\n",
              "\n",
              "    .dataframe tbody tr th {\n",
              "        vertical-align: top;\n",
              "    }\n",
              "\n",
              "    .dataframe thead th {\n",
              "        text-align: right;\n",
              "    }\n",
              "</style>\n",
              "<table border=\"1\" class=\"dataframe\">\n",
              "  <thead>\n",
              "    <tr style=\"text-align: right;\">\n",
              "      <th></th>\n",
              "      <th>TOTAL_COST</th>\n",
              "      <th>WELLS</th>\n",
              "      <th>AVERAGE_COST</th>\n",
              "      <th>LIFT</th>\n",
              "    </tr>\n",
              "    <tr>\n",
              "      <th>MODELING_GROUP</th>\n",
              "      <th></th>\n",
              "      <th></th>\n",
              "      <th></th>\n",
              "      <th></th>\n",
              "    </tr>\n",
              "  </thead>\n",
              "  <tbody>\n",
              "    <tr>\n",
              "      <th>TESTING</th>\n",
              "      <td>3759000</td>\n",
              "      <td>149</td>\n",
              "      <td>25228.187919</td>\n",
              "      <td>2719.812081</td>\n",
              "    </tr>\n",
              "    <tr>\n",
              "      <th>TRAINING</th>\n",
              "      <td>1347000</td>\n",
              "      <td>146</td>\n",
              "      <td>9226.027397</td>\n",
              "      <td>18721.972603</td>\n",
              "    </tr>\n",
              "    <tr>\n",
              "      <th>VALIDATION</th>\n",
              "      <td>3064500</td>\n",
              "      <td>126</td>\n",
              "      <td>24321.428571</td>\n",
              "      <td>3626.571429</td>\n",
              "    </tr>\n",
              "  </tbody>\n",
              "</table>\n",
              "</div>\n",
              "      <button class=\"colab-df-convert\" onclick=\"convertToInteractive('df-4c6cae2e-c30b-4ac5-95eb-7a06a5cf7900')\"\n",
              "              title=\"Convert this dataframe to an interactive table.\"\n",
              "              style=\"display:none;\">\n",
              "\n",
              "  <svg xmlns=\"http://www.w3.org/2000/svg\" height=\"24px\"viewBox=\"0 0 24 24\"\n",
              "       width=\"24px\">\n",
              "    <path d=\"M0 0h24v24H0V0z\" fill=\"none\"/>\n",
              "    <path d=\"M18.56 5.44l.94 2.06.94-2.06 2.06-.94-2.06-.94-.94-2.06-.94 2.06-2.06.94zm-11 1L8.5 8.5l.94-2.06 2.06-.94-2.06-.94L8.5 2.5l-.94 2.06-2.06.94zm10 10l.94 2.06.94-2.06 2.06-.94-2.06-.94-.94-2.06-.94 2.06-2.06.94z\"/><path d=\"M17.41 7.96l-1.37-1.37c-.4-.4-.92-.59-1.43-.59-.52 0-1.04.2-1.43.59L10.3 9.45l-7.72 7.72c-.78.78-.78 2.05 0 2.83L4 21.41c.39.39.9.59 1.41.59.51 0 1.02-.2 1.41-.59l7.78-7.78 2.81-2.81c.8-.78.8-2.07 0-2.86zM5.41 20L4 18.59l7.72-7.72 1.47 1.35L5.41 20z\"/>\n",
              "  </svg>\n",
              "      </button>\n",
              "\n",
              "\n",
              "\n",
              "    <div id=\"df-f197b84f-7034-433b-91e1-9df2cd6ecaa0\">\n",
              "      <button class=\"colab-df-quickchart\" onclick=\"quickchart('df-f197b84f-7034-433b-91e1-9df2cd6ecaa0')\"\n",
              "              title=\"Suggest charts.\"\n",
              "              style=\"display:none;\">\n",
              "\n",
              "<svg xmlns=\"http://www.w3.org/2000/svg\" height=\"24px\"viewBox=\"0 0 24 24\"\n",
              "     width=\"24px\">\n",
              "    <g>\n",
              "        <path d=\"M19 3H5c-1.1 0-2 .9-2 2v14c0 1.1.9 2 2 2h14c1.1 0 2-.9 2-2V5c0-1.1-.9-2-2-2zM9 17H7v-7h2v7zm4 0h-2V7h2v10zm4 0h-2v-4h2v4z\"/>\n",
              "    </g>\n",
              "</svg>\n",
              "      </button>\n",
              "    </div>\n",
              "\n",
              "<style>\n",
              "  .colab-df-quickchart {\n",
              "    background-color: #E8F0FE;\n",
              "    border: none;\n",
              "    border-radius: 50%;\n",
              "    cursor: pointer;\n",
              "    display: none;\n",
              "    fill: #1967D2;\n",
              "    height: 32px;\n",
              "    padding: 0 0 0 0;\n",
              "    width: 32px;\n",
              "  }\n",
              "\n",
              "  .colab-df-quickchart:hover {\n",
              "    background-color: #E2EBFA;\n",
              "    box-shadow: 0px 1px 2px rgba(60, 64, 67, 0.3), 0px 1px 3px 1px rgba(60, 64, 67, 0.15);\n",
              "    fill: #174EA6;\n",
              "  }\n",
              "\n",
              "  [theme=dark] .colab-df-quickchart {\n",
              "    background-color: #3B4455;\n",
              "    fill: #D2E3FC;\n",
              "  }\n",
              "\n",
              "  [theme=dark] .colab-df-quickchart:hover {\n",
              "    background-color: #434B5C;\n",
              "    box-shadow: 0px 1px 3px 1px rgba(0, 0, 0, 0.15);\n",
              "    filter: drop-shadow(0px 1px 2px rgba(0, 0, 0, 0.3));\n",
              "    fill: #FFFFFF;\n",
              "  }\n",
              "</style>\n",
              "\n",
              "    <script>\n",
              "      async function quickchart(key) {\n",
              "        const containerElement = document.querySelector('#' + key);\n",
              "        const charts = await google.colab.kernel.invokeFunction(\n",
              "            'suggestCharts', [key], {});\n",
              "      }\n",
              "    </script>\n",
              "\n",
              "      <script>\n",
              "\n",
              "function displayQuickchartButton(domScope) {\n",
              "  let quickchartButtonEl =\n",
              "    domScope.querySelector('#df-f197b84f-7034-433b-91e1-9df2cd6ecaa0 button.colab-df-quickchart');\n",
              "  quickchartButtonEl.style.display =\n",
              "    google.colab.kernel.accessAllowed ? 'block' : 'none';\n",
              "}\n",
              "\n",
              "        displayQuickchartButton(document);\n",
              "      </script>\n",
              "      <style>\n",
              "    .colab-df-container {\n",
              "      display:flex;\n",
              "      flex-wrap:wrap;\n",
              "      gap: 12px;\n",
              "    }\n",
              "\n",
              "    .colab-df-convert {\n",
              "      background-color: #E8F0FE;\n",
              "      border: none;\n",
              "      border-radius: 50%;\n",
              "      cursor: pointer;\n",
              "      display: none;\n",
              "      fill: #1967D2;\n",
              "      height: 32px;\n",
              "      padding: 0 0 0 0;\n",
              "      width: 32px;\n",
              "    }\n",
              "\n",
              "    .colab-df-convert:hover {\n",
              "      background-color: #E2EBFA;\n",
              "      box-shadow: 0px 1px 2px rgba(60, 64, 67, 0.3), 0px 1px 3px 1px rgba(60, 64, 67, 0.15);\n",
              "      fill: #174EA6;\n",
              "    }\n",
              "\n",
              "    [theme=dark] .colab-df-convert {\n",
              "      background-color: #3B4455;\n",
              "      fill: #D2E3FC;\n",
              "    }\n",
              "\n",
              "    [theme=dark] .colab-df-convert:hover {\n",
              "      background-color: #434B5C;\n",
              "      box-shadow: 0px 1px 3px 1px rgba(0, 0, 0, 0.15);\n",
              "      filter: drop-shadow(0px 1px 2px rgba(0, 0, 0, 0.3));\n",
              "      fill: #FFFFFF;\n",
              "    }\n",
              "  </style>\n",
              "\n",
              "      <script>\n",
              "        const buttonEl =\n",
              "          document.querySelector('#df-4c6cae2e-c30b-4ac5-95eb-7a06a5cf7900 button.colab-df-convert');\n",
              "        buttonEl.style.display =\n",
              "          google.colab.kernel.accessAllowed ? 'block' : 'none';\n",
              "\n",
              "        async function convertToInteractive(key) {\n",
              "          const element = document.querySelector('#df-4c6cae2e-c30b-4ac5-95eb-7a06a5cf7900');\n",
              "          const dataTable =\n",
              "            await google.colab.kernel.invokeFunction('convertToInteractive',\n",
              "                                                     [key], {});\n",
              "          if (!dataTable) return;\n",
              "\n",
              "          const docLinkHtml = 'Like what you see? Visit the ' +\n",
              "            '<a target=\"_blank\" href=https://colab.research.google.com/notebooks/data_table.ipynb>data table notebook</a>'\n",
              "            + ' to learn more about interactive tables.';\n",
              "          element.innerHTML = '';\n",
              "          dataTable['output_type'] = 'display_data';\n",
              "          await google.colab.output.renderOutput(dataTable, element);\n",
              "          const docLink = document.createElement('div');\n",
              "          docLink.innerHTML = docLinkHtml;\n",
              "          element.appendChild(docLink);\n",
              "        }\n",
              "      </script>\n",
              "    </div>\n",
              "  </div>\n"
            ]
          },
          "metadata": {},
          "execution_count": 105
        }
      ]
    }
  ]
}